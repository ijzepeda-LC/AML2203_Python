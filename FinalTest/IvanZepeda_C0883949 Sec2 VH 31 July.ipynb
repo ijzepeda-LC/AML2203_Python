{
 "cells": [
  {
   "cell_type": "markdown",
   "metadata": {},
   "source": [
    "# Question 1 (10 marks)"
   ]
  },
  {
   "cell_type": "markdown",
   "metadata": {},
   "source": [
    "Use a function and use input method to test your code\n",
    "\n",
    "Given an integer array nums, return the maximum difference between two successive elements in its sorted form. If the array contains less than two elements, return 0.\n",
    "\n",
    "You must write an algorithm that runs in linear time and uses linear extra space.\n",
    "\n",
    "Example 1:\n",
    "\n",
    "Input: nums = [3,6,9,1] Output: 3 Explanation: The sorted form of the array is [1,3,6,9], either (3,6) or (6,9) has the maximum difference 3. \n",
    "\n",
    "Example 2:\n",
    "\n",
    "Input: nums = [10] Output: 0 Explanation: The array contains less than 2 elements, therefore return 0.\n",
    "\n",
    "\n"
   ]
  },
  {
   "cell_type": "code",
   "execution_count": 7,
   "metadata": {},
   "outputs": [
    {
     "name": "stdout",
     "output_type": "stream",
     "text": [
      "3\n",
      "0\n"
     ]
    }
   ],
   "source": [
    "#Answer\n",
    "\n",
    "def max_dif(nums):\n",
    "    if(type(nums)==str):\n",
    "        nums=nums.split()\n",
    "        nums=[int(x) for x in nums]\n",
    "    if(len(nums)<=2):\n",
    "        return 0\n",
    "    nums.sort()\n",
    "    max_difference=0\n",
    "    for i in range(len(nums)-1):\n",
    "        if((nums[i+1]-nums[i])>=max_difference):\n",
    "            max_difference=(nums[i+1]-nums[i])\n",
    "    return max_difference\n",
    "        \n",
    "    \n",
    "    \n",
    "print(max_dif([3,6,9,1]))\n",
    "print(max_dif([10]))"
   ]
  },
  {
   "cell_type": "code",
   "execution_count": 9,
   "metadata": {},
   "outputs": [
    {
     "name": "stdout",
     "output_type": "stream",
     "text": [
      "give many numbers separated by space only: 3 5 7 88\n",
      "81\n"
     ]
    }
   ],
   "source": [
    "print(max_dif(input(\"give many numbers separated by space only: \")))"
   ]
  },
  {
   "cell_type": "markdown",
   "metadata": {},
   "source": [
    "# Question 2 (15 marks)"
   ]
  },
  {
   "cell_type": "markdown",
   "metadata": {},
   "source": [
    "You are given an n x n 2D matrix representing an image, define a function to rotate the image by n*90 degrees (clockwise).\n",
    "\n",
    "You have to rotate the image in-place, which means you have to modify the input 2D matrix directly. DO NOT allocate another 2D matrix and do the rotation.\n",
    "\n",
    "Your code should work for any given value of n.\n",
    "write a function and use input method to test the code. \n",
    "\n",
    "Example 1:\n",
    "\n",
    "n=1 (90 degree rotation)\n",
    "\n",
    "Input: matrix = [[1,2,3],[4,5,6],[7,8,9]]\n",
    "\n",
    "Output: [[7,4,1],[8,5,2],[9,6,3]]\n",
    "\n",
    "\n",
    "\n"
   ]
  },
  {
   "cell_type": "code",
   "execution_count": 41,
   "metadata": {},
   "outputs": [
    {
     "name": "stdout",
     "output_type": "stream",
     "text": [
      "Original Matrix:\n",
      "[[1 2 3]\n",
      " [4 5 6]\n",
      " [7 8 9]]\n",
      "Rotated Matrix 1 times 90º\n",
      "[[7 4 1]\n",
      " [8 5 2]\n",
      " [9 6 3]]\n",
      "Expected Matrix rotated 1 time 90º\n",
      "[[7 4 1]\n",
      " [8 5 2]\n",
      " [9 6 3]]\n"
     ]
    }
   ],
   "source": [
    "import numpy as np\n",
    "#Answer\n",
    "\"\"\" \"\"\"\n",
    "def rotate_image(n):\n",
    "    n=int(n)\n",
    "    matrix=[[1,2,3],[4,5,6],[7,8,9]]\n",
    "    expected=np.array([[7,4,1],[8,5,2],[9,6,3]])\n",
    "    mat= np.array(matrix)\n",
    "    print(f\"Original Matrix:\")\n",
    "    print(mat)\n",
    "    print(f\"Rotated Matrix {n} times 90º\")\n",
    "    for i in range(n):\n",
    "        mat=mat[::-1].T\n",
    "    print(mat)\n",
    "    if(n == 1):\n",
    "        print(\"Expected Matrix rotated 1 time 90º\")\n",
    "        print(expected)\n",
    "    \n",
    "rotate_image(1)"
   ]
  },
  {
   "cell_type": "code",
   "execution_count": 39,
   "metadata": {},
   "outputs": [
    {
     "name": "stdout",
     "output_type": "stream",
     "text": [
      "write the times to turn the matrix: 2\n",
      "Original Matrix:\n",
      "[[1 2 3]\n",
      " [4 5 6]\n",
      " [7 8 9]]\n",
      "Rotated Matrix 2 times 90º\n",
      "[[9 8 7]\n",
      " [6 5 4]\n",
      " [3 2 1]]\n"
     ]
    }
   ],
   "source": [
    "rotate_image(input('write the times to turn the matrix: '))"
   ]
  },
  {
   "cell_type": "markdown",
   "metadata": {},
   "source": [
    "# Question 3 (15 Marks)"
   ]
  },
  {
   "cell_type": "markdown",
   "metadata": {},
   "source": [
    "Given a rows x cols binary matrix filled with 0's and 1's, write a function and use input method to find the largest rectangle containing only 1's and return its area.\n",
    "\n",
    "Input: matrix = [[\"1\",\"0\",\"1\",\"0\",\"0\"],[\"1\",\"0\",\"1\",\"1\",\"1\"],[\"1\",\"1\",\"1\",\"1\",\"1\"],[\"1\",\"0\",\"0\",\"1\",\"0\"]]\n",
    "\n",
    "Output: 6\n",
    "\n",
    "\n",
    "Example 2:\n",
    "\n",
    "Input: matrix = [[\"0\"]]\n",
    "\n",
    "Output: 0\n",
    "\n",
    "you can print the example matrix above to get better visual understanding of the quesion"
   ]
  },
  {
   "cell_type": "code",
   "execution_count": 54,
   "metadata": {},
   "outputs": [
    {
     "name": "stdout",
     "output_type": "stream",
     "text": [
      "[['1' '0' '1' '0' '0']\n",
      " ['1' '0' '1' '1' '1']\n",
      " ['1' '1' '1' '1' '1']\n",
      " ['1' '0' '0' '1' '0']]\n",
      "4\n",
      "5\n",
      "row: 2  * cols: 9\n"
     ]
    },
    {
     "data": {
      "text/plain": [
       "18"
      ]
     },
     "execution_count": 54,
     "metadata": {},
     "output_type": "execute_result"
    }
   ],
   "source": [
    "#Answer\n",
    "\n",
    "\"\"\"\n",
    "This question can be solved in a recursive method, a function that is called within a whille loop. \n",
    "the the loop will scann all the elements of the matrix, conevrting each node into a different value, \n",
    "then comparing to 0 or 1, the loop will continue in that direction or not.\n",
    "It is similar to a problem called Number of Islands in Leetcode.\n",
    "But Islands Can have any form.\n",
    "In this case is REctangle, then, will only consider the same amount of length and height. \n",
    "Also, can loop in a certain order, left-to-right, and up to down\n",
    "\"\"\"\n",
    "\n",
    "\"\"\"A second approach is to do sub-matrix, and just analize if it contains 1s on them\"\"\"\n",
    "\n",
    "\"\"\" A third approach is to do 2 nested loops, cancelling the loop once it has found a 0.\n",
    "This is the approach I will take\"\"\"\n",
    "\"\"\"\n",
    "[['1' '0' '1' '0' '0']\n",
    " ['1' '0' '1' '1' '1']\n",
    " ['1' '1' '1' '1' '1']\n",
    " ['1' '0' '0' '1' '0']]\"\"\"\n",
    "\n",
    "import numpy as np\n",
    "\n",
    "def largest_rect(matrix):\n",
    "    mat= np.array(matrix)\n",
    "    print(mat)\n",
    "    largest=0\n",
    "    rows=len(matrix)\n",
    "    cols=len(matrix[0])\n",
    "    print(rows)#rows\n",
    "    print(cols)#cols\n",
    "\n",
    "    count=0\n",
    "    count_row=0\n",
    "    count_col=0\n",
    "    max_count_row=1\n",
    "    max_count_col=1\n",
    "    step=0\n",
    "    for row in range(len(matrix)):\n",
    "        count_row=0\n",
    "        count_col=0\n",
    "        step=0\n",
    "        for col in range(len(matrix)-1):\n",
    "#             if(step>0):\n",
    "#                 count_row+=1\n",
    "            if(matrix[row][col+step]==\"1\"): \n",
    "                count_col+=1\n",
    "                max_count_row+=1\n",
    "                max_count_col+=1\n",
    "            if(matrix[row][col]==\"0\"): \n",
    "                if(max_count_row>=count_col): # and count_col!=0\n",
    "                    max_count_row=count_col\n",
    "                    \n",
    "                if(max_count_row>=count_col): # and count_col!=0\n",
    "                    max_count_row=count_col\n",
    "                if(col<cols):\n",
    "                    step+=1\n",
    "                else:\n",
    "                    continue\n",
    "    print(f\"row: {max_count_row}  * cols: {max_count_col}\")   \n",
    "    return max_count_row*max_count_col\n",
    "                \n",
    "    \n",
    "largest_rect([[\"1\",\"0\",\"1\",\"0\",\"0\"],[\"1\",\"0\",\"1\",\"1\",\"1\"],[\"1\",\"1\",\"1\",\"1\",\"1\"],[\"1\",\"0\",\"0\",\"1\",\"0\"]])"
   ]
  },
  {
   "cell_type": "code",
   "execution_count": null,
   "metadata": {},
   "outputs": [],
   "source": []
  },
  {
   "cell_type": "code",
   "execution_count": null,
   "metadata": {},
   "outputs": [],
   "source": []
  },
  {
   "cell_type": "markdown",
   "metadata": {},
   "source": [
    "# Good Luck "
   ]
  },
  {
   "cell_type": "code",
   "execution_count": null,
   "metadata": {},
   "outputs": [],
   "source": []
  }
 ],
 "metadata": {
  "kernelspec": {
   "display_name": "Python 3 (ipykernel)",
   "language": "python",
   "name": "python3"
  },
  "language_info": {
   "codemirror_mode": {
    "name": "ipython",
    "version": 3
   },
   "file_extension": ".py",
   "mimetype": "text/x-python",
   "name": "python",
   "nbconvert_exporter": "python",
   "pygments_lexer": "ipython3",
   "version": "3.9.12"
  }
 },
 "nbformat": 4,
 "nbformat_minor": 2
}
