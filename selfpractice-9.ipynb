{
 "cells": [
  {
   "cell_type": "markdown",
   "id": "14d8066c",
   "metadata": {},
   "source": [
    "# Self Practice #\n",
    "## Author: Ivan Zepeda\n",
    "## C0883949"
   ]
  },
  {
   "cell_type": "code",
   "execution_count": null,
   "id": "da53b95c",
   "metadata": {},
   "outputs": [],
   "source": [
    "Q1: A phrase is a palindrome if, after converting all uppercase letters into lowercase letters and removing all non-alphanumeric characters, it reads the same forward and backward. Alphanumeric characters include letters and numbers. Given a string s, return true if it is a palindrome, or false otherwise.\n",
    "\n",
    "Example 1:\n",
    "\n",
    "Input: s = \"A man, a plan, a canal: Panama\"\n",
    "\n",
    "Output: true\n",
    "\n",
    "Explanation: \"amanaplanacanalpanama\" is a palindrome.\n",
    "\n",
    "Example 2:\n",
    "\n",
    "Input: s = \"race a car\"\n",
    "\n",
    "Output: false\n",
    "\n",
    "Explanation: \"raceacar\" is not a palindrome.\n",
    "\n",
    " "
   ]
  },
  {
   "cell_type": "code",
   "execution_count": null,
   "id": "ff4f4012",
   "metadata": {},
   "outputs": [],
   "source": []
  },
  {
   "cell_type": "code",
   "execution_count": null,
   "id": "0b2eba9e",
   "metadata": {},
   "outputs": [],
   "source": [
    "Q2 Given an array nums of size n, return the majority element. The majority element is the element that appears more than ⌊n / 2⌋ times. You may assume that the majority element always exists in the array.\n",
    "\n",
    "Example 1:\n",
    "\n",
    "Input: nums = [3,2,3]\n",
    "\n",
    "Output: 3\n",
    "\n",
    "Example 2:\n",
    "\n",
    "Input: nums = [2,2,1,1,1,2,2]\n",
    "\n",
    "Output: 2"
   ]
  },
  {
   "cell_type": "code",
   "execution_count": null,
   "id": "76383662",
   "metadata": {},
   "outputs": [],
   "source": []
  },
  {
   "cell_type": "code",
   "execution_count": null,
   "id": "36696985",
   "metadata": {},
   "outputs": [],
   "source": [
    "Q3 Write an algorithm to determine if a number n is happy. A happy number is a number defined by the following process:\n",
    "\n",
    "Starting with any positive integer, replace the number by the sum of the squares of its digits.\n",
    "Repeat the process until the number equals 1 (where it will stay), or it loops endlessly in a cycle which does not include 1.\n",
    "Those numbers for which this process ends in 1 are happy.\n",
    "Return true if n is a happy number, and false if not.\n",
    "\n",
    " Example 1:\n",
    "\n",
    "Input: n = 19\n",
    "\n",
    "Output: true\n",
    "\n",
    "Explanation:\n",
    "\n",
    "12 + 92 = 82\n",
    "\n",
    "82 + 22 = 68\n",
    "\n",
    "62 + 82 = 100\n",
    "\n",
    "12 + 02 + 02 = 1\n",
    "\n",
    "Example 2:\n",
    "\n",
    "Input: n = 2\n",
    "\n",
    "Output: false"
   ]
  }
 ],
 "metadata": {
  "kernelspec": {
   "display_name": "Python 3 (ipykernel)",
   "language": "python",
   "name": "python3"
  },
  "language_info": {
   "codemirror_mode": {
    "name": "ipython",
    "version": 3
   },
   "file_extension": ".py",
   "mimetype": "text/x-python",
   "name": "python",
   "nbconvert_exporter": "python",
   "pygments_lexer": "ipython3",
   "version": "3.9.12"
  }
 },
 "nbformat": 4,
 "nbformat_minor": 5
}
