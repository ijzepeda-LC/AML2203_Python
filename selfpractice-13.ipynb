{
 "cells": [
  {
   "cell_type": "markdown",
   "id": "14d8066c",
   "metadata": {},
   "source": [
    "# Self Practice #13\n",
    "## Author: Ivan Zepeda\n",
    "## C0883949\n",
    "## $${\\color{red}{Look  At the Website, as It Has Images on it}}$$\t "
   ]
  },
  {
   "cell_type": "raw",
   "id": "2565da32",
   "metadata": {},
   "source": [
    "Q1Given a signed 32-bit integer x, return x with its digits reversed. If reversing x causes the value to go outside the signed 32-bit integer range [-231, 231 - 1], then return 0.\n",
    "\n",
    "Assume the environment does not allow you to store 64-bit integers (signed or unsigned).\n",
    "\n",
    "Example 1:\n",
    "\n",
    "Input: x = 123\n",
    "\n",
    "Output: 321"
   ]
  },
  {
   "cell_type": "code",
   "execution_count": 12,
   "id": "43ee31a4",
   "metadata": {},
   "outputs": [
    {
     "name": "stdout",
     "output_type": "stream",
     "text": [
      "sys.maxsize 9223372036854775807\n",
      "123 => 0\n",
      "9223372036854775807 => -7085774586302733229\n",
      "-9223372036854775808 => 0\n"
     ]
    },
    {
     "data": {
      "text/plain": [
       "0"
      ]
     },
     "execution_count": 12,
     "metadata": {},
     "output_type": "execute_result"
    }
   ],
   "source": [
    "#9223372036854775807 max\n",
    "#-9223372036854775808 min\n",
    "import sys\n",
    "def inverse_num(num):\n",
    "    print(num,\"=> \",end=\"\")\n",
    "    if(num>0):\n",
    "        comparing=sys.maxsize\n",
    "    else:\n",
    "        comparing= -sys.maxsize\n",
    "        \n",
    "    if(num*-1 > comparing):\n",
    "        result = 0\n",
    "    else:\n",
    "        num=int(str(num)[::-1])\n",
    "        result = num*-1\n",
    "    print(result)\n",
    "    return result \n",
    "    \n",
    "    \n",
    "print(\"sys.maxsize\",sys.maxsize)\n",
    "inverse_num(123)\n",
    "inverse_num(9223372036854775807)\n",
    "inverse_num(-9223372036854775808)\n"
   ]
  },
  {
   "cell_type": "raw",
   "id": "c6d26e5e",
   "metadata": {},
   "source": [
    "Q2 You are given an n x n 2D matrix representing an image, rotate the image by 90 degrees (clockwise).\n",
    "\n",
    "You have to rotate the image in-place, which means you have to modify the input 2D matrix directly. DO NOT allocate another 2D matrix and do the rotation.\n",
    "\n",
    " \n",
    "\n",
    "Example 1:\n",
    "\n",
    "\n",
    "\n",
    "Input: matrix = [[1,2,3],[4,5,6],[7,8,9]]\n",
    "\n",
    "Output: [[7,4,1],[8,5,2],[9,6,3]]"
   ]
  },
  {
   "cell_type": "code",
   "execution_count": 1,
   "id": "f4df339e",
   "metadata": {},
   "outputs": [
    {
     "name": "stdout",
     "output_type": "stream",
     "text": [
      "[[7, 4, 1], [8, 5, 2], [9, 6, 3]]\n"
     ]
    }
   ],
   "source": [
    "# it is also possible with Numpy, either using np.flip\n",
    "# or matrix[::-1].T\n",
    "\n",
    "def rotate(matrix):\n",
    "    n = len(matrix)\n",
    "    for i in range(n):\n",
    "        for j in range(i + 1, n):\n",
    "            matrix[i][j], matrix[j][i] = matrix[j][i], matrix[i][j]\n",
    "\n",
    "    for i in range(n):\n",
    "        matrix[i] = matrix[i][::-1]\n",
    "\n",
    "matrix = [\n",
    "    [1, 2, 3],\n",
    "    [4, 5, 6],\n",
    "    [7, 8, 9]\n",
    "]\n",
    "\n",
    "rotate(matrix)\n",
    "print(matrix)\n",
    "#   [7, 4, 1],\n",
    "#   [8, 5, 2],\n",
    "#   [9, 6, 3]\n"
   ]
  },
  {
   "cell_type": "raw",
   "id": "7a2d3fe4",
   "metadata": {},
   "source": [
    "Q3 Given an m x n grid of characters board and a string word, return true if word exists in the grid.\n",
    "\n",
    "The word can be constructed from letters of sequentially adjacent cells, where adjacent cells are horizontally or vertically neighboring. The same letter cell may not be used more than once.\n",
    "\n",
    " \n",
    "\n",
    "Example 1:\n",
    "\n",
    "\n",
    "\n",
    "Input: board = [[\"A\",\"B\",\"C\",\"E\"],[\"S\",\"F\",\"C\",\"S\"],[\"A\",\"D\",\"E\",\"E\"]], word = \"ABCCED\"\n",
    "\n",
    "Output: true\n",
    "\n",
    " "
   ]
  },
  {
   "cell_type": "code",
   "execution_count": 16,
   "id": "20351d01",
   "metadata": {},
   "outputs": [
    {
     "name": "stdout",
     "output_type": "stream",
     "text": [
      "True\n",
      "False\n",
      "True\n",
      "True\n"
     ]
    }
   ],
   "source": [
    "# Using depth- first search\n",
    "def exist(board, word):\n",
    "    def dfs(i, j, index):\n",
    "        if not (0 <= i < len(board)) or not (0 <= j < len(board[0])) or board[i][j] != word[index]:\n",
    "            return False\n",
    "\n",
    "        if index == len(word) - 1:\n",
    "            return True\n",
    "\n",
    "        temp, board[i][j] = board[i][j], \"/\"\n",
    "        found = dfs(i + 1, j, index + 1) or dfs(i - 1, j, index + 1) or dfs(i, j + 1, index + 1) or dfs(i, j - 1, index + 1)\n",
    "        board[i][j] = temp\n",
    "        return found\n",
    "\n",
    "    for i in range(len(board)):\n",
    "        for j in range(len(board[0])):\n",
    "            if board[i][j] == word[0] and dfs(i, j, 0):\n",
    "                return True\n",
    "\n",
    "    return False\n",
    "\n",
    "board = [\n",
    "    [\"A\", \"B\", \"C\", \"E\"],\n",
    "    [\"S\", \"F\", \"C\", \"S\"],\n",
    "    [\"A\", \"D\", \"E\", \"E\"]\n",
    "]\n",
    "print(exist(board, \"ABCCED\"))  # True\n",
    "print(exist(board, \"AFE\"))  # False\n",
    "print(exist(board, \"ASA\"))  # True\n",
    "print(exist(board, \"SC\"))  # True\n"
   ]
  },
  {
   "cell_type": "code",
   "execution_count": null,
   "id": "d54dc1e0",
   "metadata": {},
   "outputs": [],
   "source": []
  }
 ],
 "metadata": {
  "kernelspec": {
   "display_name": "Python 3 (ipykernel)",
   "language": "python",
   "name": "python3"
  },
  "language_info": {
   "codemirror_mode": {
    "name": "ipython",
    "version": 3
   },
   "file_extension": ".py",
   "mimetype": "text/x-python",
   "name": "python",
   "nbconvert_exporter": "python",
   "pygments_lexer": "ipython3",
   "version": "3.9.12"
  }
 },
 "nbformat": 4,
 "nbformat_minor": 5
}
