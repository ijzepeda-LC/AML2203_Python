{
 "cells": [
  {
   "cell_type": "markdown",
   "id": "e6fcdbec",
   "metadata": {},
   "source": [
    "# Inclass activity 1\n",
    "## Ivan Zepeda\n",
    "### C0883949\n",
    "\n",
    "  \n",
    "# Create Random data\n",
    "\n",
    "## make-regression example\n"
   ]
  },
  {
   "cell_type": "code",
   "execution_count": 11,
   "id": "b3a09554",
   "metadata": {},
   "outputs": [],
   "source": [
    "from sklearn.datasets import make_regression\n",
    "from sklearn.datasets import make_classification\n",
    "\n",
    "# tum kya chaahate kyo"
   ]
  },
  {
   "cell_type": "code",
   "execution_count": 10,
   "id": "da06dd7e",
   "metadata": {},
   "outputs": [
    {
     "name": "stdout",
     "output_type": "stream",
     "text": [
      "feat matrix [[-1.1191154  -0.89055558  1.9560789 ]\n",
      " [ 0.84616065  0.31515939 -0.85951594]\n",
      " [ 0.58281521  0.04221375 -1.10061918]]\n",
      "target vector [-104.43925569   63.13782001   35.76065963]\n"
     ]
    },
    {
     "data": {
      "text/plain": [
       "array([58.15774073, 44.19042807,  0.        ])"
      ]
     },
     "execution_count": 10,
     "metadata": {},
     "output_type": "execute_result"
    }
   ],
   "source": [
    "\"\"\" Informative: The number of informative features, i.e., the number of features used to build the linear model used to generate the output.\"\"\"\n",
    "\"\"\"Those predictores are used to the correlation\"\"\"\n",
    "# y=mxc <== regression\n",
    "features, target, coefficient = make_regression( n_samples=100,\n",
    "                                                \n",
    "                                                n_features=3,\n",
    "                                                n_informative=2,\n",
    "                                                n_targets=1,\n",
    "                                                noise=0.0,\n",
    "                                                coef = True,\n",
    "                                                random_state=1\n",
    "                                               )\n",
    "\n",
    "print(\"feat matrix\", features[:3])\n",
    "print(\"target vector\", target[:3])\n",
    "\n",
    "\n",
    "coefficient[:13] # BEta 1, 2, 3"
   ]
  },
  {
   "cell_type": "markdown",
   "id": "d62a5d67",
   "metadata": {},
   "source": [
    "## Make-classification exmaple"
   ]
  },
  {
   "cell_type": "code",
   "execution_count": 12,
   "id": "1badccd4",
   "metadata": {},
   "outputs": [
    {
     "name": "stdout",
     "output_type": "stream",
     "text": [
      "Feature Matrix  [[ 1.06354768 -1.42632219  1.02163151]\n",
      " [ 0.23156977  1.49535261  0.33251578]\n",
      " [ 0.15972951  0.83533515 -0.40869554]]\n",
      "Target Vecttir [1 0 0]\n"
     ]
    }
   ],
   "source": [
    "\n",
    "features, target = make_classification( n_samples=100,\n",
    "                                      n_features=3,\n",
    "                                      n_informative=3,\n",
    "                                      n_redundant=0,\n",
    "                                      n_classes=2,\n",
    "                                      weights = [.25, .75], #How classes weight are distributed\n",
    "                                       random_state=1\n",
    "                                      )\n",
    "\n",
    "print(\"Feature Matrix \",features[:3])\n",
    "print(\"Target Vecttir\",target[:3])\n"
   ]
  },
  {
   "cell_type": "code",
   "execution_count": 14,
   "id": "e9867498",
   "metadata": {},
   "outputs": [
    {
     "name": "stdout",
     "output_type": "stream",
     "text": [
      "<class 'numpy.ndarray'> <class 'numpy.ndarray'> <class 'numpy.ndarray'> <class 'numpy.int64'>\n"
     ]
    }
   ],
   "source": [
    "print(type(features),\n",
    "type(target),\n",
    "type(features[1]),\n",
    "type(target[1]))\n"
   ]
  },
  {
   "cell_type": "code",
   "execution_count": 22,
   "id": "a38fdd2a",
   "metadata": {},
   "outputs": [
    {
     "data": {
      "text/plain": [
       "(100, 3)"
      ]
     },
     "execution_count": 22,
     "metadata": {},
     "output_type": "execute_result"
    }
   ],
   "source": [
    "features.shape"
   ]
  },
  {
   "cell_type": "code",
   "execution_count": 23,
   "id": "ccb70df3",
   "metadata": {},
   "outputs": [],
   "source": [
    "import pandas as pd\n",
    "# columns are made by number of columns, not elements, therefore shape[1]\n",
    "df=pd.DataFrame(columns=[\"feat_\"+str(i) for i in range(features.shape[1])], data=features)\n",
    "df['target']=target"
   ]
  },
  {
   "cell_type": "code",
   "execution_count": 24,
   "id": "212c325e",
   "metadata": {},
   "outputs": [
    {
     "data": {
      "text/html": [
       "<div>\n",
       "<style scoped>\n",
       "    .dataframe tbody tr th:only-of-type {\n",
       "        vertical-align: middle;\n",
       "    }\n",
       "\n",
       "    .dataframe tbody tr th {\n",
       "        vertical-align: top;\n",
       "    }\n",
       "\n",
       "    .dataframe thead th {\n",
       "        text-align: right;\n",
       "    }\n",
       "</style>\n",
       "<table border=\"1\" class=\"dataframe\">\n",
       "  <thead>\n",
       "    <tr style=\"text-align: right;\">\n",
       "      <th></th>\n",
       "      <th>feat_0</th>\n",
       "      <th>feat_1</th>\n",
       "      <th>feat_2</th>\n",
       "      <th>target</th>\n",
       "    </tr>\n",
       "  </thead>\n",
       "  <tbody>\n",
       "    <tr>\n",
       "      <th>0</th>\n",
       "      <td>1.063548</td>\n",
       "      <td>-1.426322</td>\n",
       "      <td>1.021632</td>\n",
       "      <td>1</td>\n",
       "    </tr>\n",
       "    <tr>\n",
       "      <th>1</th>\n",
       "      <td>0.231570</td>\n",
       "      <td>1.495353</td>\n",
       "      <td>0.332516</td>\n",
       "      <td>0</td>\n",
       "    </tr>\n",
       "    <tr>\n",
       "      <th>2</th>\n",
       "      <td>0.159730</td>\n",
       "      <td>0.835335</td>\n",
       "      <td>-0.408696</td>\n",
       "      <td>0</td>\n",
       "    </tr>\n",
       "    <tr>\n",
       "      <th>3</th>\n",
       "      <td>-0.706121</td>\n",
       "      <td>-1.032810</td>\n",
       "      <td>1.394780</td>\n",
       "      <td>1</td>\n",
       "    </tr>\n",
       "    <tr>\n",
       "      <th>4</th>\n",
       "      <td>0.844490</td>\n",
       "      <td>-0.619972</td>\n",
       "      <td>1.087911</td>\n",
       "      <td>1</td>\n",
       "    </tr>\n",
       "    <tr>\n",
       "      <th>...</th>\n",
       "      <td>...</td>\n",
       "      <td>...</td>\n",
       "      <td>...</td>\n",
       "      <td>...</td>\n",
       "    </tr>\n",
       "    <tr>\n",
       "      <th>95</th>\n",
       "      <td>1.106411</td>\n",
       "      <td>-1.615516</td>\n",
       "      <td>1.603296</td>\n",
       "      <td>1</td>\n",
       "    </tr>\n",
       "    <tr>\n",
       "      <th>96</th>\n",
       "      <td>-2.438623</td>\n",
       "      <td>-1.784630</td>\n",
       "      <td>0.500376</td>\n",
       "      <td>1</td>\n",
       "    </tr>\n",
       "    <tr>\n",
       "      <th>97</th>\n",
       "      <td>-1.304690</td>\n",
       "      <td>-1.652926</td>\n",
       "      <td>0.992340</td>\n",
       "      <td>1</td>\n",
       "    </tr>\n",
       "    <tr>\n",
       "      <th>98</th>\n",
       "      <td>1.190208</td>\n",
       "      <td>-0.961064</td>\n",
       "      <td>0.292125</td>\n",
       "      <td>1</td>\n",
       "    </tr>\n",
       "    <tr>\n",
       "      <th>99</th>\n",
       "      <td>-1.088047</td>\n",
       "      <td>0.828038</td>\n",
       "      <td>-0.566882</td>\n",
       "      <td>0</td>\n",
       "    </tr>\n",
       "  </tbody>\n",
       "</table>\n",
       "<p>100 rows × 4 columns</p>\n",
       "</div>"
      ],
      "text/plain": [
       "      feat_0    feat_1    feat_2  target\n",
       "0   1.063548 -1.426322  1.021632       1\n",
       "1   0.231570  1.495353  0.332516       0\n",
       "2   0.159730  0.835335 -0.408696       0\n",
       "3  -0.706121 -1.032810  1.394780       1\n",
       "4   0.844490 -0.619972  1.087911       1\n",
       "..       ...       ...       ...     ...\n",
       "95  1.106411 -1.615516  1.603296       1\n",
       "96 -2.438623 -1.784630  0.500376       1\n",
       "97 -1.304690 -1.652926  0.992340       1\n",
       "98  1.190208 -0.961064  0.292125       1\n",
       "99 -1.088047  0.828038 -0.566882       0\n",
       "\n",
       "[100 rows x 4 columns]"
      ]
     },
     "execution_count": 24,
     "metadata": {},
     "output_type": "execute_result"
    }
   ],
   "source": [
    "df"
   ]
  },
  {
   "cell_type": "markdown",
   "id": "d5bed078",
   "metadata": {},
   "source": [
    "### Make_blob:  \n",
    "Create 100 rows, with 3 columns"
   ]
  },
  {
   "cell_type": "code",
   "execution_count": 26,
   "id": "61999273",
   "metadata": {},
   "outputs": [],
   "source": [
    "from sklearn.datasets import make_blobs\n"
   ]
  },
  {
   "cell_type": "code",
   "execution_count": 27,
   "id": "47a3a26e",
   "metadata": {},
   "outputs": [],
   "source": [
    "# any number of clusters: 2\n",
    "# make_blobs(n_samples=10, centers=3, n_features=2,\n",
    "# ...                   random_state=0)\n",
    "samples, cluster_labels= make_blobs(n_samples=100, centers=2, n_features =2, random_state=3)\n"
   ]
  },
  {
   "cell_type": "code",
   "execution_count": 29,
   "id": "5c8bd88a",
   "metadata": {},
   "outputs": [],
   "source": [
    "df2=pd.DataFrame(columns=[\"feat_\"+str(i) for i in range(samples.shape[1])], data=samples)\n",
    "df2['target']=cluster_labels"
   ]
  },
  {
   "cell_type": "code",
   "execution_count": 34,
   "id": "736d5f88",
   "metadata": {},
   "outputs": [
    {
     "data": {
      "image/png": "[encoded data removed]",
      "text/plain": [
       "<Figure size 1000x1000 with 4 Axes>"
      ]
     },
     "metadata": {},
     "output_type": "display_data"
    }
   ],
   "source": [
    "import matplotlib.pyplot as plt\n",
    "\n",
    "pd.plotting.scatter_matrix(df2.iloc[:, :-1], figsize=(10,10))\n",
    "plt.show()"
   ]
  },
  {
   "cell_type": "markdown",
   "id": "fd25a431",
   "metadata": {},
   "source": [
    "## MAnipulating data"
   ]
  },
  {
   "cell_type": "code",
   "execution_count": 37,
   "id": "67fe10d6",
   "metadata": {},
   "outputs": [],
   "source": [
    "url=\"https://raw.githubusercontent.com/chrisalbon/simulated_datasets/master/titanic.csv\"\n",
    "\n",
    "df3 = pd.read_csv(url)"
   ]
  },
  {
   "cell_type": "markdown",
   "id": "039270d5",
   "metadata": {},
   "source": [
    "df3"
   ]
  },
  {
   "cell_type": "code",
   "execution_count": 38,
   "id": "95d69887",
   "metadata": {},
   "outputs": [
    {
     "data": {
      "text/html": [
       "<div>\n",
       "<style scoped>\n",
       "    .dataframe tbody tr th:only-of-type {\n",
       "        vertical-align: middle;\n",
       "    }\n",
       "\n",
       "    .dataframe tbody tr th {\n",
       "        vertical-align: top;\n",
       "    }\n",
       "\n",
       "    .dataframe thead th {\n",
       "        text-align: right;\n",
       "    }\n",
       "</style>\n",
       "<table border=\"1\" class=\"dataframe\">\n",
       "  <thead>\n",
       "    <tr style=\"text-align: right;\">\n",
       "      <th></th>\n",
       "      <th>Name</th>\n",
       "      <th>PClass</th>\n",
       "      <th>Age</th>\n",
       "      <th>Sex</th>\n",
       "      <th>Survived</th>\n",
       "      <th>SexCode</th>\n",
       "    </tr>\n",
       "  </thead>\n",
       "  <tbody>\n",
       "    <tr>\n",
       "      <th>0</th>\n",
       "      <td>Allen, Miss Elisabeth Walton</td>\n",
       "      <td>1st</td>\n",
       "      <td>29.00</td>\n",
       "      <td>female</td>\n",
       "      <td>1</td>\n",
       "      <td>1</td>\n",
       "    </tr>\n",
       "    <tr>\n",
       "      <th>1</th>\n",
       "      <td>Allison, Miss Helen Loraine</td>\n",
       "      <td>1st</td>\n",
       "      <td>2.00</td>\n",
       "      <td>female</td>\n",
       "      <td>0</td>\n",
       "      <td>1</td>\n",
       "    </tr>\n",
       "    <tr>\n",
       "      <th>2</th>\n",
       "      <td>Allison, Mr Hudson Joshua Creighton</td>\n",
       "      <td>1st</td>\n",
       "      <td>30.00</td>\n",
       "      <td>male</td>\n",
       "      <td>0</td>\n",
       "      <td>0</td>\n",
       "    </tr>\n",
       "    <tr>\n",
       "      <th>3</th>\n",
       "      <td>Allison, Mrs Hudson JC (Bessie Waldo Daniels)</td>\n",
       "      <td>1st</td>\n",
       "      <td>25.00</td>\n",
       "      <td>female</td>\n",
       "      <td>0</td>\n",
       "      <td>1</td>\n",
       "    </tr>\n",
       "    <tr>\n",
       "      <th>4</th>\n",
       "      <td>Allison, Master Hudson Trevor</td>\n",
       "      <td>1st</td>\n",
       "      <td>0.92</td>\n",
       "      <td>male</td>\n",
       "      <td>1</td>\n",
       "      <td>0</td>\n",
       "    </tr>\n",
       "    <tr>\n",
       "      <th>...</th>\n",
       "      <td>...</td>\n",
       "      <td>...</td>\n",
       "      <td>...</td>\n",
       "      <td>...</td>\n",
       "      <td>...</td>\n",
       "      <td>...</td>\n",
       "    </tr>\n",
       "    <tr>\n",
       "      <th>1308</th>\n",
       "      <td>Zakarian, Mr Artun</td>\n",
       "      <td>3rd</td>\n",
       "      <td>27.00</td>\n",
       "      <td>male</td>\n",
       "      <td>0</td>\n",
       "      <td>0</td>\n",
       "    </tr>\n",
       "    <tr>\n",
       "      <th>1309</th>\n",
       "      <td>Zakarian, Mr Maprieder</td>\n",
       "      <td>3rd</td>\n",
       "      <td>26.00</td>\n",
       "      <td>male</td>\n",
       "      <td>0</td>\n",
       "      <td>0</td>\n",
       "    </tr>\n",
       "    <tr>\n",
       "      <th>1310</th>\n",
       "      <td>Zenni, Mr Philip</td>\n",
       "      <td>3rd</td>\n",
       "      <td>22.00</td>\n",
       "      <td>male</td>\n",
       "      <td>0</td>\n",
       "      <td>0</td>\n",
       "    </tr>\n",
       "    <tr>\n",
       "      <th>1311</th>\n",
       "      <td>Lievens, Mr Rene</td>\n",
       "      <td>3rd</td>\n",
       "      <td>24.00</td>\n",
       "      <td>male</td>\n",
       "      <td>0</td>\n",
       "      <td>0</td>\n",
       "    </tr>\n",
       "    <tr>\n",
       "      <th>1312</th>\n",
       "      <td>Zimmerman, Leo</td>\n",
       "      <td>3rd</td>\n",
       "      <td>29.00</td>\n",
       "      <td>male</td>\n",
       "      <td>0</td>\n",
       "      <td>0</td>\n",
       "    </tr>\n",
       "  </tbody>\n",
       "</table>\n",
       "<p>1313 rows × 6 columns</p>\n",
       "</div>"
      ],
      "text/plain": [
       "                                               Name PClass    Age     Sex  \\\n",
       "0                      Allen, Miss Elisabeth Walton    1st  29.00  female   \n",
       "1                       Allison, Miss Helen Loraine    1st   2.00  female   \n",
       "2               Allison, Mr Hudson Joshua Creighton    1st  30.00    male   \n",
       "3     Allison, Mrs Hudson JC (Bessie Waldo Daniels)    1st  25.00  female   \n",
       "4                     Allison, Master Hudson Trevor    1st   0.92    male   \n",
       "...                                             ...    ...    ...     ...   \n",
       "1308                             Zakarian, Mr Artun    3rd  27.00    male   \n",
       "1309                         Zakarian, Mr Maprieder    3rd  26.00    male   \n",
       "1310                               Zenni, Mr Philip    3rd  22.00    male   \n",
       "1311                               Lievens, Mr Rene    3rd  24.00    male   \n",
       "1312                                 Zimmerman, Leo    3rd  29.00    male   \n",
       "\n",
       "      Survived  SexCode  \n",
       "0            1        1  \n",
       "1            0        1  \n",
       "2            0        0  \n",
       "3            0        1  \n",
       "4            1        0  \n",
       "...        ...      ...  \n",
       "1308         0        0  \n",
       "1309         0        0  \n",
       "1310         0        0  \n",
       "1311         0        0  \n",
       "1312         0        0  \n",
       "\n",
       "[1313 rows x 6 columns]"
      ]
     },
     "execution_count": 38,
     "metadata": {},
     "output_type": "execute_result"
    }
   ],
   "source": [
    "df3"
   ]
  },
  {
   "cell_type": "code",
   "execution_count": 41,
   "id": "152ab5eb",
   "metadata": {},
   "outputs": [
    {
     "name": "stdout",
     "output_type": "stream",
     "text": [
      "shape (1313, 6)\n"
     ]
    },
    {
     "data": {
      "text/html": [
       "<div>\n",
       "<style scoped>\n",
       "    .dataframe tbody tr th:only-of-type {\n",
       "        vertical-align: middle;\n",
       "    }\n",
       "\n",
       "    .dataframe tbody tr th {\n",
       "        vertical-align: top;\n",
       "    }\n",
       "\n",
       "    .dataframe thead th {\n",
       "        text-align: right;\n",
       "    }\n",
       "</style>\n",
       "<table border=\"1\" class=\"dataframe\">\n",
       "  <thead>\n",
       "    <tr style=\"text-align: right;\">\n",
       "      <th></th>\n",
       "      <th>Age</th>\n",
       "      <th>Survived</th>\n",
       "      <th>SexCode</th>\n",
       "    </tr>\n",
       "  </thead>\n",
       "  <tbody>\n",
       "    <tr>\n",
       "      <th>count</th>\n",
       "      <td>756.000000</td>\n",
       "      <td>1313.000000</td>\n",
       "      <td>1313.000000</td>\n",
       "    </tr>\n",
       "    <tr>\n",
       "      <th>mean</th>\n",
       "      <td>30.397989</td>\n",
       "      <td>0.342727</td>\n",
       "      <td>0.351866</td>\n",
       "    </tr>\n",
       "    <tr>\n",
       "      <th>std</th>\n",
       "      <td>14.259049</td>\n",
       "      <td>0.474802</td>\n",
       "      <td>0.477734</td>\n",
       "    </tr>\n",
       "    <tr>\n",
       "      <th>min</th>\n",
       "      <td>0.170000</td>\n",
       "      <td>0.000000</td>\n",
       "      <td>0.000000</td>\n",
       "    </tr>\n",
       "    <tr>\n",
       "      <th>25%</th>\n",
       "      <td>21.000000</td>\n",
       "      <td>0.000000</td>\n",
       "      <td>0.000000</td>\n",
       "    </tr>\n",
       "    <tr>\n",
       "      <th>50%</th>\n",
       "      <td>28.000000</td>\n",
       "      <td>0.000000</td>\n",
       "      <td>0.000000</td>\n",
       "    </tr>\n",
       "    <tr>\n",
       "      <th>75%</th>\n",
       "      <td>39.000000</td>\n",
       "      <td>1.000000</td>\n",
       "      <td>1.000000</td>\n",
       "    </tr>\n",
       "    <tr>\n",
       "      <th>max</th>\n",
       "      <td>71.000000</td>\n",
       "      <td>1.000000</td>\n",
       "      <td>1.000000</td>\n",
       "    </tr>\n",
       "  </tbody>\n",
       "</table>\n",
       "</div>"
      ],
      "text/plain": [
       "              Age     Survived      SexCode\n",
       "count  756.000000  1313.000000  1313.000000\n",
       "mean    30.397989     0.342727     0.351866\n",
       "std     14.259049     0.474802     0.477734\n",
       "min      0.170000     0.000000     0.000000\n",
       "25%     21.000000     0.000000     0.000000\n",
       "50%     28.000000     0.000000     0.000000\n",
       "75%     39.000000     1.000000     1.000000\n",
       "max     71.000000     1.000000     1.000000"
      ]
     },
     "execution_count": 41,
     "metadata": {},
     "output_type": "execute_result"
    }
   ],
   "source": [
    "print(\"shape\",df3.shape)\n",
    "df3.describe()\n",
    "# will only show all numeric columns"
   ]
  },
  {
   "cell_type": "markdown",
   "id": "2025d1e3",
   "metadata": {},
   "source": [
    "* NOTES: *  \n",
    " _ It is possible to iopen IDE info, use SHIFT + TAB_  \n",
    "it is posible to \"modify\" the quartiles?  \n",
    "within description(),  \n",
    "change percentile in a list [.25,.50,.75]  \n",
    "https://pandas.pydata.org/pandas-docs/stable/reference/api/pandas.DataFrame.describe.html"
   ]
  },
  {
   "cell_type": "code",
   "execution_count": 43,
   "id": "3827d1ad",
   "metadata": {},
   "outputs": [
    {
     "data": {
      "text/html": [
       "<div>\n",
       "<style scoped>\n",
       "    .dataframe tbody tr th:only-of-type {\n",
       "        vertical-align: middle;\n",
       "    }\n",
       "\n",
       "    .dataframe tbody tr th {\n",
       "        vertical-align: top;\n",
       "    }\n",
       "\n",
       "    .dataframe thead th {\n",
       "        text-align: right;\n",
       "    }\n",
       "</style>\n",
       "<table border=\"1\" class=\"dataframe\">\n",
       "  <thead>\n",
       "    <tr style=\"text-align: right;\">\n",
       "      <th></th>\n",
       "      <th>Age</th>\n",
       "      <th>Survived</th>\n",
       "      <th>SexCode</th>\n",
       "    </tr>\n",
       "  </thead>\n",
       "  <tbody>\n",
       "    <tr>\n",
       "      <th>count</th>\n",
       "      <td>756.000000</td>\n",
       "      <td>1313.000000</td>\n",
       "      <td>1313.000000</td>\n",
       "    </tr>\n",
       "    <tr>\n",
       "      <th>mean</th>\n",
       "      <td>30.397989</td>\n",
       "      <td>0.342727</td>\n",
       "      <td>0.351866</td>\n",
       "    </tr>\n",
       "    <tr>\n",
       "      <th>std</th>\n",
       "      <td>14.259049</td>\n",
       "      <td>0.474802</td>\n",
       "      <td>0.477734</td>\n",
       "    </tr>\n",
       "    <tr>\n",
       "      <th>min</th>\n",
       "      <td>0.170000</td>\n",
       "      <td>0.000000</td>\n",
       "      <td>0.000000</td>\n",
       "    </tr>\n",
       "    <tr>\n",
       "      <th>10%</th>\n",
       "      <td>16.000000</td>\n",
       "      <td>0.000000</td>\n",
       "      <td>0.000000</td>\n",
       "    </tr>\n",
       "    <tr>\n",
       "      <th>50%</th>\n",
       "      <td>28.000000</td>\n",
       "      <td>0.000000</td>\n",
       "      <td>0.000000</td>\n",
       "    </tr>\n",
       "    <tr>\n",
       "      <th>90%</th>\n",
       "      <td>50.000000</td>\n",
       "      <td>1.000000</td>\n",
       "      <td>1.000000</td>\n",
       "    </tr>\n",
       "    <tr>\n",
       "      <th>max</th>\n",
       "      <td>71.000000</td>\n",
       "      <td>1.000000</td>\n",
       "      <td>1.000000</td>\n",
       "    </tr>\n",
       "  </tbody>\n",
       "</table>\n",
       "</div>"
      ],
      "text/plain": [
       "              Age     Survived      SexCode\n",
       "count  756.000000  1313.000000  1313.000000\n",
       "mean    30.397989     0.342727     0.351866\n",
       "std     14.259049     0.474802     0.477734\n",
       "min      0.170000     0.000000     0.000000\n",
       "10%     16.000000     0.000000     0.000000\n",
       "50%     28.000000     0.000000     0.000000\n",
       "90%     50.000000     1.000000     1.000000\n",
       "max     71.000000     1.000000     1.000000"
      ]
     },
     "execution_count": 43,
     "metadata": {},
     "output_type": "execute_result"
    }
   ],
   "source": [
    "df3.describe(percentiles=[.1,.5,.9])"
   ]
  },
  {
   "cell_type": "markdown",
   "id": "f8c03454",
   "metadata": {},
   "source": [
    "### Saving datafrae"
   ]
  },
  {
   "cell_type": "code",
   "execution_count": 61,
   "id": "f4f7326e",
   "metadata": {},
   "outputs": [
    {
     "data": {
      "text/html": [
       "<div>\n",
       "<style scoped>\n",
       "    .dataframe tbody tr th:only-of-type {\n",
       "        vertical-align: middle;\n",
       "    }\n",
       "\n",
       "    .dataframe tbody tr th {\n",
       "        vertical-align: top;\n",
       "    }\n",
       "\n",
       "    .dataframe thead th {\n",
       "        text-align: right;\n",
       "    }\n",
       "</style>\n",
       "<table border=\"1\" class=\"dataframe\">\n",
       "  <thead>\n",
       "    <tr style=\"text-align: right;\">\n",
       "      <th></th>\n",
       "      <th>name</th>\n",
       "      <th>degree</th>\n",
       "      <th>score</th>\n",
       "    </tr>\n",
       "  </thead>\n",
       "  <tbody>\n",
       "    <tr>\n",
       "      <th>0</th>\n",
       "      <td>aparna</td>\n",
       "      <td>mba</td>\n",
       "      <td>90</td>\n",
       "    </tr>\n",
       "    <tr>\n",
       "      <th>1</th>\n",
       "      <td>panka</td>\n",
       "      <td>bca</td>\n",
       "      <td>40</td>\n",
       "    </tr>\n",
       "    <tr>\n",
       "      <th>2</th>\n",
       "      <td>sudhir</td>\n",
       "      <td>m.tech</td>\n",
       "      <td>80</td>\n",
       "    </tr>\n",
       "    <tr>\n",
       "      <th>3</th>\n",
       "      <td>geeku</td>\n",
       "      <td>MBA</td>\n",
       "      <td>98</td>\n",
       "    </tr>\n",
       "  </tbody>\n",
       "</table>\n",
       "</div>"
      ],
      "text/plain": [
       "     name  degree  score\n",
       "0  aparna     mba     90\n",
       "1   panka     bca     40\n",
       "2  sudhir  m.tech     80\n",
       "3   geeku     MBA     98"
      ]
     },
     "execution_count": 61,
     "metadata": {},
     "output_type": "execute_result"
    }
   ],
   "source": [
    "nme=['aparna','panka','sudhir','geeku']\n",
    "deg=['mba','bca','m.tech','MBA']\n",
    "gpa=[90,40,80,98]\n",
    "\n",
    "dic1={'name':nme, 'degree':deg, 'score':gpa }\n",
    "df4= pd.DataFrame(dic1)\n",
    "df4.to_csv(\"dict_to_csv.csv\")\n",
    "df4"
   ]
  },
  {
   "cell_type": "code",
   "execution_count": 62,
   "id": "2ad28960",
   "metadata": {},
   "outputs": [],
   "source": [
    "df4.set_index('name')\n",
    "df4.to_csv(\"dict_to_csv_column_as_index.csv\")"
   ]
  },
  {
   "cell_type": "code",
   "execution_count": 63,
   "id": "20a75318",
   "metadata": {},
   "outputs": [
    {
     "name": "stdout",
     "output_type": "stream",
     "text": [
      "name\n",
      "None\n"
     ]
    }
   ],
   "source": [
    "# Print the name of the index colum\n",
    "print(df4.columns[0])\n",
    "print(df4.index.name)\n"
   ]
  },
  {
   "cell_type": "code",
   "execution_count": 64,
   "id": "88ee041c",
   "metadata": {},
   "outputs": [],
   "source": [
    "df4.to_json(\"dict_to_csv_column_as_index.json\")\n"
   ]
  },
  {
   "cell_type": "markdown",
   "id": "aefa0ea1",
   "metadata": {},
   "source": [
    "\n",
    "# Module 2\n",
    "\n",
    "\n",
    "pymongo  \n",
    "tabular data format, \n",
    "\n",
    "relational vs no relatonal\n",
    "sqlite3\n"
   ]
  },
  {
   "cell_type": "code",
   "execution_count": 65,
   "id": "5697d086",
   "metadata": {},
   "outputs": [],
   "source": [
    "import sqlite3\n",
    "#create a connection object\n",
    "conn = sqlite3.connect('example.db')"
   ]
  },
  {
   "cell_type": "code",
   "execution_count": null,
   "id": "e6611fae",
   "metadata": {},
   "outputs": [],
   "source": [
    "# a cursor is a method of the connection object\n",
    "cursor = conn.cursor()"
   ]
  },
  {
   "cell_type": "code",
   "execution_count": 68,
   "id": "90ae371e",
   "metadata": {},
   "outputs": [],
   "source": [
    "#create an sql within a text\n",
    "sql='''CREATE TABLE EMPLOYEE(\n",
    "        FIRST_NAME CHAR(20) NOT NULL,\n",
    "        LAST_NAME CHAR(20),\n",
    "        AGE INT NOT NULL,\n",
    "        SEX CHAR(1),\n",
    "        INCOME FLOAT)'''\n",
    "#excecute to sql queries\n",
    "conn.execute(sql)\n",
    "\n",
    "#commit after each transaction\n",
    "conn.commit()"
   ]
  },
  {
   "cell_type": "code",
   "execution_count": 69,
   "id": "202372f9",
   "metadata": {},
   "outputs": [],
   "source": [
    "conn.close()"
   ]
  },
  {
   "cell_type": "code",
   "execution_count": null,
   "id": "566c2e4f",
   "metadata": {},
   "outputs": [],
   "source": []
  }
 ],
 "metadata": {
  "kernelspec": {
   "display_name": "Python 3 (ipykernel)",
   "language": "python",
   "name": "python3"
  },
  "language_info": {
   "codemirror_mode": {
    "name": "ipython",
    "version": 3
   },
   "file_extension": ".py",
   "mimetype": "text/x-python",
   "name": "python",
   "nbconvert_exporter": "python",
   "pygments_lexer": "ipython3",
   "version": "3.9.12"
  }
 },
 "nbformat": 4,
 "nbformat_minor": 5
}
