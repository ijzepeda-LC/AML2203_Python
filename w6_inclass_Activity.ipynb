{
 "cells": [
  {
   "cell_type": "markdown",
   "id": "f44ff0d3",
   "metadata": {},
   "source": [
    "# W6 inclass activity\n",
    "## IVan Zepeda\n",
    "C0883949"
   ]
  },
  {
   "cell_type": "code",
   "execution_count": 1,
   "id": "14363d8a",
   "metadata": {},
   "outputs": [],
   "source": [
    "import pymongo\n",
    "from pymongo import MongoClient\n",
    "client = MongoClient()"
   ]
  },
  {
   "cell_type": "code",
   "execution_count": 2,
   "id": "2f2a0382",
   "metadata": {},
   "outputs": [
    {
     "name": "stdout",
     "output_type": "stream",
     "text": [
      "['admin', 'config', 'local', 'test']\n"
     ]
    }
   ],
   "source": [
    "# get list of database name\n",
    "db_lists = client.list_database_names()\n",
    "print(db_lists)"
   ]
  },
  {
   "cell_type": "code",
   "execution_count": 3,
   "id": "1b6cdf71",
   "metadata": {},
   "outputs": [
    {
     "name": "stdout",
     "output_type": "stream",
     "text": [
      "['employee', 'test.employee']\n"
     ]
    }
   ],
   "source": [
    "# get list of collection name\n",
    "coll_lists = client.test.list_collection_names()\n",
    "print(coll_lists)"
   ]
  },
  {
   "cell_type": "markdown",
   "id": "a34e8c77",
   "metadata": {},
   "source": [
    "# Advanced MongoDB Query"
   ]
  },
  {
   "cell_type": "code",
   "execution_count": 13,
   "id": "ab97dc62",
   "metadata": {},
   "outputs": [
    {
     "name": "stdout",
     "output_type": "stream",
     "text": [
      "{'_id': ObjectId('647e6936fef1d7414af8aa78'), 'Name': 'Raj Kumar', 'Address': 'Sears Street , NZ', 'Age': '42'}\n",
      "0 {'_id': ObjectId('647e6936fef1d7414af8aa78'), 'Name': 'Raj Kumar', 'Address': 'Sears Street , NZ', 'Age': '42'}\n",
      "1 {'_id': 11, 'name': 'John', 'address': 'Highway 37'}\n",
      "2 {'_id': 12, 'name': 'Peter', 'address': 'Lowstreet 27'}\n",
      "3 {'_id': 13, 'name': 'Amy', 'address': 'Close st 652'}\n",
      "4 {'_id': 14, 'name': 'Hannah', 'address': 'Mountain 21'}\n",
      "5 {'_id': 15, 'name': 'Michael', 'address': 'Valley 345'}\n",
      "6 {'_id': 16, 'name': 'Vicky', 'address': 'Yellow Garden 124'}\n",
      "7 {'_id': 17, 'name': 'Nicky', 'address': 'Yellow Garden 23'}\n",
      "8 {'_id': 18, 'name': 'Nancy', 'address': 'Younge Ave. 123'}\n",
      "9 {'_id': 19, 'name': 'Viola', 'address': 'Sideway Ave'}\n"
     ]
    }
   ],
   "source": [
    "x = client.test.employee.find_one()\n",
    "print(x)\n",
    "for i,x in enumerate(client.test.employee.find()):\n",
    "    print(i,x)"
   ]
  },
  {
   "cell_type": "code",
   "execution_count": 27,
   "id": "55ab5d2e",
   "metadata": {},
   "outputs": [
    {
     "name": "stdout",
     "output_type": "stream",
     "text": [
      "{'_id': 16, 'name': 'Vicky', 'address': 'Yellow Garden 124'}\n",
      "{'_id': 18, 'name': 'Nancy', 'address': 'Younge Ave. 123'}\n",
      "2\n"
     ]
    },
    {
     "name": "stderr",
     "output_type": "stream",
     "text": [
      "/var/folders/n5/2wsllrvs6h9862hcd58z1ybh0000gn/T/ipykernel_44526/3204370120.py:8: DeprecationWarning: count is deprecated. Use Collection.count_documents instead.\n",
      "  print(mydoc.count()) #DeprecationWarning: count is deprecated. Use Collection.count_documents instead.\n"
     ]
    }
   ],
   "source": [
    "myquery = {\"$and\": [{'address':{'$regex':'^Y'}},\n",
    "                  {'address':{'$regex':\"1\"}},\n",
    "                  {'name':{'$ne':\"Nicky\"}}\n",
    "                 ]}\n",
    "mydoc = client.test.employee.find(myquery)\n",
    "for x in mydoc:\n",
    "    print(x)\n",
    "print(mydoc.count()) #DeprecationWarning: count is deprecated. Use Collection.count_documents instead."
   ]
  },
  {
   "cell_type": "code",
   "execution_count": 28,
   "id": "45d00500",
   "metadata": {},
   "outputs": [
    {
     "name": "stdout",
     "output_type": "stream",
     "text": [
      "{'_id': 15, 'name': 'Michael', 'address': 'Valley 345'}\n",
      "{'_id': 16, 'name': 'Vicky', 'address': 'Yellow Garden 124'}\n",
      "{'_id': 17, 'name': 'Nicky', 'address': 'Yellow Garden 23'}\n",
      "{'_id': 18, 'name': 'Nancy', 'address': 'Younge Ave. 123'}\n",
      "{'_id': 19, 'name': 'Viola', 'address': 'Sideway Ave'}\n"
     ]
    }
   ],
   "source": [
    "myquery = {'address':{\"$gt\":\"S\"}}\n",
    "mydoc = client.test.employee.find(myquery)\n",
    "for x in mydoc:\n",
    "    print(x)"
   ]
  },
  {
   "cell_type": "code",
   "execution_count": 29,
   "id": "4bb12f7c",
   "metadata": {},
   "outputs": [
    {
     "name": "stdout",
     "output_type": "stream",
     "text": [
      "{'_id': ObjectId('647e6936fef1d7414af8aa78'), 'Name': 'Raj Kumar', 'Address': 'Sears Street , NZ', 'Age': '42'}\n",
      "{'_id': 13, 'name': 'Amy', 'address': 'Close st 652'}\n",
      "{'_id': 14, 'name': 'Hannah', 'address': 'Mountain 21'}\n",
      "{'_id': 11, 'name': 'John', 'address': 'Highway 37'}\n",
      "{'_id': 15, 'name': 'Michael', 'address': 'Valley 345'}\n",
      "{'_id': 18, 'name': 'Nancy', 'address': 'Younge Ave. 123'}\n",
      "{'_id': 17, 'name': 'Nicky', 'address': 'Yellow Garden 23'}\n",
      "{'_id': 12, 'name': 'Peter', 'address': 'Lowstreet 27'}\n",
      "{'_id': 16, 'name': 'Vicky', 'address': 'Yellow Garden 124'}\n",
      "{'_id': 19, 'name': 'Viola', 'address': 'Sideway Ave'}\n"
     ]
    }
   ],
   "source": [
    "# sort(\"name\",1) #ascending\n",
    "# sort(\"name\",-1) #descending\n",
    "\n",
    "mydoc = client.test.employee.find().sort('name')\n",
    "for x in mydoc:\n",
    "    print(x)"
   ]
  },
  {
   "cell_type": "markdown",
   "id": "19656756",
   "metadata": {},
   "source": [
    "## Update one record"
   ]
  },
  {
   "cell_type": "code",
   "execution_count": 10,
   "id": "d7509649",
   "metadata": {},
   "outputs": [
    {
     "name": "stdout",
     "output_type": "stream",
     "text": [
      "{'_id': ObjectId('647e6936fef1d7414af8aa78'), 'Name': 'Raj Kumar', 'Address': 'Sears Street , NZ', 'Age': '42'}\n",
      "{'_id': 11, 'name': 'John', 'address': 'Highway 37'}\n",
      "{'_id': 12, 'name': 'Peter', 'address': 'Lowstreet 27'}\n",
      "{'_id': 13, 'name': 'Amy', 'address': 'Close st 652'}\n",
      "{'_id': 14, 'name': 'Hannah', 'address': 'Mountain 21'}\n",
      "{'_id': 15, 'name': 'Michael', 'address': 'Canyon 123'}\n",
      "{'_id': 16, 'name': 'Vicky', 'address': 'Yellow Garden 124'}\n",
      "{'_id': 17, 'name': 'Nicky', 'address': 'Yellow Garden 23'}\n",
      "{'_id': 18, 'name': 'Nancy', 'address': 'Younge Ave. 123'}\n",
      "{'_id': 19, 'name': 'Viola', 'address': 'Sideway Ave'}\n",
      "{'_id': ObjectId('647e6936fef1d7414af8aa78'), 'Name': 'Raj Kumar', 'Address': 'Sears Street , NZ', 'Age': '42'}\n",
      "{'_id': 11, 'name': 'John', 'address': 'Highway 37'}\n",
      "{'_id': 12, 'name': 'Peter', 'address': 'Lowstreet 27'}\n",
      "{'_id': 13, 'name': 'Amy', 'address': 'Close st 652'}\n",
      "{'_id': 14, 'name': 'Hannah', 'address': 'Mountain 21'}\n",
      "{'_id': 15, 'name': 'Michael', 'address': 'Canyon 123'}\n",
      "{'_id': 16, 'name': 'Vicky', 'address': 'Yellow Garden 124'}\n",
      "{'_id': 17, 'name': 'Nicky', 'address': 'Yellow Garden 23'}\n",
      "{'_id': 18, 'name': 'Nancy', 'address': 'Younge Ave. 123'}\n",
      "{'_id': 19, 'name': 'Viola', 'address': 'Sideway Ave'}\n"
     ]
    }
   ],
   "source": [
    "for x in client.test.employee.find():\n",
    "    print(x)\n",
    "    \n",
    "myquery = {\"address\": \"Valley 345\"}\n",
    "newvalues = {'$set': {\"address\":\"Canyon 123\"}}\n",
    "\n",
    "client.test.employee.update_one(myquery, newvalues)\n",
    "\n",
    "for x in client.test.employee.find():\n",
    "    print(x)\n",
    "\n",
    "    # Segun el profe, si meto el query en en find, aplicaria algo como un WHERE... no le entendi, y no me salio, "
   ]
  },
  {
   "cell_type": "markdown",
   "id": "3d20612b",
   "metadata": {},
   "source": [
    "### Update many records`m"
   ]
  },
  {
   "cell_type": "code",
   "execution_count": 13,
   "id": "0040ba7a",
   "metadata": {},
   "outputs": [
    {
     "name": "stdout",
     "output_type": "stream",
     "text": [
      "0 documents updated\n",
      "{'_id': ObjectId('647e6936fef1d7414af8aa78'), 'Name': 'Raj Kumar', 'Address': 'Sears Street , NZ', 'Age': '42'}\n",
      "{'_id': 11, 'name': 'John', 'address': 'Highway 37'}\n",
      "{'_id': 12, 'name': 'Peter', 'address': 'Lowstreet 27'}\n",
      "{'_id': 13, 'name': 'Minnie', 'address': 'Close st 652'}\n",
      "{'_id': 14, 'name': 'Hannah', 'address': 'Mountain 21'}\n",
      "{'_id': 15, 'name': 'Minnie', 'address': 'Canyon 123'}\n",
      "{'_id': 16, 'name': 'Vicky', 'address': 'Yellow Garden 124'}\n",
      "{'_id': 17, 'name': 'Nicky', 'address': 'Yellow Garden 23'}\n",
      "{'_id': 18, 'name': 'Nancy', 'address': 'Younge Ave. 123'}\n",
      "{'_id': 19, 'name': 'Viola', 'address': 'Sideway Ave'}\n"
     ]
    }
   ],
   "source": [
    "myq={'address':{'$regex':'^C'}}\n",
    "newvalues={'$set':{'name':'Minnie'}}\n",
    "\n",
    "x=client.test.employee.update_many(myq, newvalues)\n",
    "print(x.modified_count, 'documents updated')\n",
    "\n",
    "for x in client.test.employee.find():\n",
    "    print(x)\n"
   ]
  },
  {
   "cell_type": "code",
   "execution_count": 17,
   "id": "33d83525",
   "metadata": {},
   "outputs": [
    {
     "name": "stdout",
     "output_type": "stream",
     "text": [
      "{'_id': ObjectId('647e6936fef1d7414af8aa78'), 'Name': 'Raj Kumar', 'Address': 'Sears Street , NZ', 'Age': '42'}\n",
      "{'_id': 11, 'address': 'Highway 37', 'last_name': 'John'}\n",
      "{'_id': 12, 'address': 'Lowstreet 27', 'last_name': 'Peter'}\n",
      "{'_id': 13, 'address': 'Close st 652', 'last_name': 'Minnie'}\n",
      "{'_id': 14, 'address': 'Mountain 21', 'last_name': 'Hannah'}\n",
      "{'_id': 15, 'address': 'Canyon 123', 'last_name': 'Minnie'}\n",
      "{'_id': 16, 'address': 'Yellow Garden 124', 'last_name': 'Vicky'}\n",
      "{'_id': 17, 'address': 'Yellow Garden 23', 'last_name': 'Nicky'}\n",
      "{'_id': 18, 'address': 'Younge Ave. 123', 'last_name': 'Nancy'}\n",
      "{'_id': 19, 'address': 'Sideway Ave', 'last_name': 'Viola'}\n"
     ]
    }
   ],
   "source": [
    "# rename field \"Name\" to \"LastName\"\n",
    "\n",
    "client.test.employee.update_many({}, {\"$rename\": {\"name\": \"last_name\"}})\n",
    "\n",
    "for x in client.test.employee.find():\n",
    "    print(x)\n"
   ]
  },
  {
   "cell_type": "markdown",
   "id": "acc2e57d",
   "metadata": {},
   "source": [
    "## Delete One Document\n",
    "by deleting one, but there are many docs, only the first match will be deleted"
   ]
  },
  {
   "cell_type": "raw",
   "id": "1f5bc7a9",
   "metadata": {},
   "source": [
    "client.test.employee.delete_one({'Age':'35'})"
   ]
  },
  {
   "cell_type": "code",
   "execution_count": 18,
   "id": "b98f63c6",
   "metadata": {},
   "outputs": [
    {
     "data": {
      "text/plain": [
       "<pymongo.results.DeleteResult at 0x7fdcc3549740>"
      ]
     },
     "execution_count": 18,
     "metadata": {},
     "output_type": "execute_result"
    }
   ],
   "source": [
    "myquery = {'address':\"Mountain 21\"}\n",
    "client.test.employee.delete_one(myquery)\n"
   ]
  },
  {
   "cell_type": "code",
   "execution_count": 19,
   "id": "5f77e763",
   "metadata": {},
   "outputs": [
    {
     "name": "stdout",
     "output_type": "stream",
     "text": [
      "{'_id': ObjectId('647e6936fef1d7414af8aa78'), 'Name': 'Raj Kumar', 'Address': 'Sears Street , NZ', 'Age': '42'}\n",
      "{'_id': 11, 'address': 'Highway 37', 'last_name': 'John'}\n",
      "{'_id': 12, 'address': 'Lowstreet 27', 'last_name': 'Peter'}\n",
      "{'_id': 13, 'address': 'Close st 652', 'last_name': 'Minnie'}\n",
      "{'_id': 15, 'address': 'Canyon 123', 'last_name': 'Minnie'}\n",
      "{'_id': 16, 'address': 'Yellow Garden 124', 'last_name': 'Vicky'}\n",
      "{'_id': 17, 'address': 'Yellow Garden 23', 'last_name': 'Nicky'}\n",
      "{'_id': 18, 'address': 'Younge Ave. 123', 'last_name': 'Nancy'}\n",
      "{'_id': 19, 'address': 'Sideway Ave', 'last_name': 'Viola'}\n"
     ]
    }
   ],
   "source": [
    "\n",
    "for x in client.test.employee.find():\n",
    "    print(x)\n"
   ]
  },
  {
   "cell_type": "markdown",
   "id": "b5bcfcdb",
   "metadata": {},
   "source": [
    "\n",
    "## Delete Many Documents\n",
    "you can use a count to get alll documents deleted"
   ]
  },
  {
   "cell_type": "code",
   "execution_count": 21,
   "id": "7bf73b7b",
   "metadata": {},
   "outputs": [
    {
     "name": "stdout",
     "output_type": "stream",
     "text": [
      "3 documents deleted\n"
     ]
    }
   ],
   "source": [
    "myquery={'address':{'$regex':'^Y'}}\n",
    "x=client.test.employee.delete_many(myquery)\n",
    "print(x.deleted_count, 'documents deleted')"
   ]
  },
  {
   "cell_type": "markdown",
   "id": "fff6f1c8",
   "metadata": {},
   "source": [
    "## Delete all documents"
   ]
  },
  {
   "cell_type": "code",
   "execution_count": 22,
   "id": "70a4821f",
   "metadata": {},
   "outputs": [
    {
     "name": "stdout",
     "output_type": "stream",
     "text": [
      "6 deleted documents\n"
     ]
    }
   ],
   "source": [
    "x = client.test.employee.delete_many({}) #open dictionary, all will match\n",
    "print(x.deleted_count, \"deleted documents\")"
   ]
  },
  {
   "cell_type": "code",
   "execution_count": 23,
   "id": "89057ecb",
   "metadata": {},
   "outputs": [],
   "source": [
    "for x in client.test.employee.find():\n",
    "    print(x)"
   ]
  },
  {
   "cell_type": "markdown",
   "id": "fe15ee25",
   "metadata": {},
   "source": [
    "## Drop collection"
   ]
  },
  {
   "cell_type": "code",
   "execution_count": 24,
   "id": "411327b2",
   "metadata": {},
   "outputs": [],
   "source": [
    "# collection name, dot drop\n",
    "client.test.employee.drop()"
   ]
  },
  {
   "cell_type": "code",
   "execution_count": 26,
   "id": "86153e9e",
   "metadata": {},
   "outputs": [
    {
     "name": "stderr",
     "output_type": "stream",
     "text": [
      "/var/folders/n5/2wsllrvs6h9862hcd58z1ybh0000gn/T/ipykernel_971/188177445.py:1: DeprecationWarning: collection_names is deprecated. Use list_collection_names instead.\n",
      "  client.test.collection_names()\n"
     ]
    },
    {
     "data": {
      "text/plain": [
       "['test.employee']"
      ]
     },
     "execution_count": 26,
     "metadata": {},
     "output_type": "execute_result"
    }
   ],
   "source": [
    "client.test.collection_names()"
   ]
  },
  {
   "cell_type": "code",
   "execution_count": 27,
   "id": "6a91ce50",
   "metadata": {},
   "outputs": [],
   "source": [
    "client.test.test.employee.drop()"
   ]
  },
  {
   "cell_type": "code",
   "execution_count": 28,
   "id": "44653fb7",
   "metadata": {},
   "outputs": [
    {
     "name": "stderr",
     "output_type": "stream",
     "text": [
      "/var/folders/n5/2wsllrvs6h9862hcd58z1ybh0000gn/T/ipykernel_971/188177445.py:1: DeprecationWarning: collection_names is deprecated. Use list_collection_names instead.\n",
      "  client.test.collection_names()\n"
     ]
    },
    {
     "data": {
      "text/plain": [
       "[]"
      ]
     },
     "execution_count": 28,
     "metadata": {},
     "output_type": "execute_result"
    }
   ],
   "source": [
    "client.test.collection_names()"
   ]
  },
  {
   "cell_type": "markdown",
   "id": "96da7a68",
   "metadata": {},
   "source": [
    "\n",
    "\n",
    "## \n",
    "## \n",
    "\n",
    "# Vectors\n",
    "\n",
    "## "
   ]
  },
  {
   "cell_type": "code",
   "execution_count": 29,
   "id": "689c1c3b",
   "metadata": {},
   "outputs": [],
   "source": [
    "import numpy as np"
   ]
  },
  {
   "cell_type": "code",
   "execution_count": 30,
   "id": "59d41ee4",
   "metadata": {},
   "outputs": [],
   "source": [
    "vector_row= np.array([1,2,3])"
   ]
  },
  {
   "cell_type": "code",
   "execution_count": 54,
   "id": "c02227e0",
   "metadata": {},
   "outputs": [],
   "source": [
    "vector = np.array([1,2,3,4,5,6,4])"
   ]
  },
  {
   "cell_type": "code",
   "execution_count": 36,
   "id": "c9bd8a0a",
   "metadata": {},
   "outputs": [
    {
     "data": {
      "text/plain": [
       "3"
      ]
     },
     "execution_count": 36,
     "metadata": {},
     "output_type": "execute_result"
    }
   ],
   "source": [
    "vector[2]"
   ]
  },
  {
   "cell_type": "code",
   "execution_count": 39,
   "id": "79fedda8",
   "metadata": {},
   "outputs": [
    {
     "name": "stdout",
     "output_type": "stream",
     "text": [
      "[1 2 3] [4 5 6]\n"
     ]
    }
   ],
   "source": [
    "\n",
    "print(vector[:3],vector[3:])\n"
   ]
  },
  {
   "cell_type": "markdown",
   "id": "f22fffcc",
   "metadata": {},
   "source": [
    "  \n",
    "  \n",
    "  \n",
    " 0 base index. the end in slicing, DO NOT include the limit,   \n",
    " But START DO include the initial... maybe to the 0 base\n",
    "\n",
    "\n"
   ]
  },
  {
   "cell_type": "code",
   "execution_count": 40,
   "id": "928c6f77",
   "metadata": {},
   "outputs": [
    {
     "name": "stdout",
     "output_type": "stream",
     "text": [
      "to print 4 I should use the -3 index 4\n"
     ]
    }
   ],
   "source": [
    "# do it but backwards\n",
    "print('to print 4 I should use the -3 index',vector[-3])"
   ]
  },
  {
   "cell_type": "code",
   "execution_count": 41,
   "id": "89f16e6b",
   "metadata": {},
   "outputs": [
    {
     "name": "stdout",
     "output_type": "stream",
     "text": [
      "[1 2 3]\n"
     ]
    }
   ],
   "source": [
    "print(vector[:-3])"
   ]
  },
  {
   "cell_type": "code",
   "execution_count": 43,
   "id": "97650cfe",
   "metadata": {},
   "outputs": [
    {
     "data": {
      "text/plain": [
       "array([3, 2, 1])"
      ]
     },
     "execution_count": 43,
     "metadata": {},
     "output_type": "execute_result"
    }
   ],
   "source": [
    "vector[2::-1]"
   ]
  },
  {
   "cell_type": "markdown",
   "id": "157cf065",
   "metadata": {},
   "source": [
    "**Obtaining the indexes of numpy array**  \n",
    "Different methods, but will understand the output,  \n",
    "while the for will get all matches, a list.index will get only the first match  \n",
    "but np.where, whill brin all indeces"
   ]
  },
  {
   "cell_type": "code",
   "execution_count": 60,
   "id": "25e1eea1",
   "metadata": {},
   "outputs": [
    {
     "name": "stdout",
     "output_type": "stream",
     "text": [
      "[for] index is 3\n",
      "[for] index is 6\n",
      "[list] index is 3\n",
      "[where] index is [3 6]\n"
     ]
    }
   ],
   "source": [
    "target=4\n",
    "for i,n in enumerate(vector):\n",
    "    if(n == target):\n",
    "        print(\"[for] index is\",i)\n",
    "    \n",
    "print(\"[list] index is\",list(vector).index(target))  \n",
    "\n",
    "\n",
    "i, = np.where(vector == target) # integers\n",
    "print('[where] index is',i)\n",
    "# i, = np.where(np.isclose(a, value)) # floating-point"
   ]
  },
  {
   "cell_type": "markdown",
   "id": "ec620e74",
   "metadata": {},
   "source": [
    "\n",
    "# MATRIX\n",
    "2D array, or nested list"
   ]
  },
  {
   "cell_type": "code",
   "execution_count": 63,
   "id": "2b6f2dc4",
   "metadata": {},
   "outputs": [
    {
     "data": {
      "text/plain": [
       "array([[1, 2],\n",
       "       [2, 3],\n",
       "       [7, 9]])"
      ]
     },
     "execution_count": 63,
     "metadata": {},
     "output_type": "execute_result"
    }
   ],
   "source": [
    "matrix = np.array([[1,2],[2,3],[7,9]])\n",
    "matrix"
   ]
  },
  {
   "cell_type": "code",
   "execution_count": 69,
   "id": "fed74e66",
   "metadata": {},
   "outputs": [
    {
     "data": {
      "text/plain": [
       "array([[1, 2, 3],\n",
       "       [4, 5, 6],\n",
       "       [7, 8, 9]])"
      ]
     },
     "execution_count": 69,
     "metadata": {},
     "output_type": "execute_result"
    }
   ],
   "source": [
    "matrix = np.array([[1,2,3],\n",
    "                   [4,5,6],\n",
    "                   [7,8,9],\n",
    "                  ])\n",
    "matrix"
   ]
  },
  {
   "cell_type": "code",
   "execution_count": 70,
   "id": "e71d7c0e",
   "metadata": {},
   "outputs": [
    {
     "data": {
      "text/plain": [
       "5"
      ]
     },
     "execution_count": 70,
     "metadata": {},
     "output_type": "execute_result"
    }
   ],
   "source": [
    "matrix[1,1]"
   ]
  },
  {
   "cell_type": "code",
   "execution_count": 71,
   "id": "721faab7",
   "metadata": {},
   "outputs": [
    {
     "data": {
      "text/plain": [
       "array([[5, 6],\n",
       "       [8, 9]])"
      ]
     },
     "execution_count": 71,
     "metadata": {},
     "output_type": "execute_result"
    }
   ],
   "source": [
    "matrix[1:,1:]"
   ]
  },
  {
   "cell_type": "code",
   "execution_count": 75,
   "id": "4092d16d",
   "metadata": {},
   "outputs": [
    {
     "data": {
      "text/plain": [
       "array([[5, 6],\n",
       "       [8, 9]])"
      ]
     },
     "execution_count": 75,
     "metadata": {},
     "output_type": "execute_result"
    }
   ],
   "source": [
    "matrix[-2:,-2:]"
   ]
  },
  {
   "cell_type": "code",
   "execution_count": 76,
   "id": "627a6248",
   "metadata": {},
   "outputs": [],
   "source": [
    "matrix = np.array([[1,2,3,4],\n",
    "                   [4,5,6,7],\n",
    "                   [7,8,9,10],\n",
    "                  ])"
   ]
  },
  {
   "cell_type": "code",
   "execution_count": 77,
   "id": "dfeab3eb",
   "metadata": {},
   "outputs": [
    {
     "name": "stdout",
     "output_type": "stream",
     "text": [
      "(3, 4)\n",
      "12\n",
      "2\n"
     ]
    }
   ],
   "source": [
    "print(matrix.shape)\n",
    "print(matrix.size)\n",
    "print(matrix.ndim)"
   ]
  },
  {
   "cell_type": "markdown",
   "id": "7d685d26",
   "metadata": {},
   "source": [
    "## Dot product"
   ]
  },
  {
   "cell_type": "code",
   "execution_count": 78,
   "id": "7387cd24",
   "metadata": {},
   "outputs": [],
   "source": [
    "vector_a = np.array([1,2,3])\n",
    "vector_b = np.array([4,5,6])"
   ]
  },
  {
   "cell_type": "code",
   "execution_count": 79,
   "id": "668b2630",
   "metadata": {},
   "outputs": [
    {
     "data": {
      "text/plain": [
       "32"
      ]
     },
     "execution_count": 79,
     "metadata": {},
     "output_type": "execute_result"
    }
   ],
   "source": [
    "np.dot(vector_a, vector_b)"
   ]
  },
  {
   "cell_type": "code",
   "execution_count": 88,
   "id": "3d58151a",
   "metadata": {},
   "outputs": [],
   "source": [
    "matrix_a = np.array([[1,1,1],[1,1,1],[1,1,2]])\n",
    "matrix_b = np.array([[1,3,1],[1,3,1],[1,3,8]])\n",
    "matrix_c = np.array([[1,3,1],[1,3,1]])\n"
   ]
  },
  {
   "cell_type": "code",
   "execution_count": 81,
   "id": "a0ee67b9",
   "metadata": {},
   "outputs": [
    {
     "data": {
      "text/plain": [
       "array([[ 3,  9, 10],\n",
       "       [ 3,  9, 10],\n",
       "       [ 4, 12, 18]])"
      ]
     },
     "execution_count": 81,
     "metadata": {},
     "output_type": "execute_result"
    }
   ],
   "source": [
    "np.dot(matrix_a,matrix_b)"
   ]
  },
  {
   "cell_type": "code",
   "execution_count": 82,
   "id": "a922518c",
   "metadata": {},
   "outputs": [
    {
     "data": {
      "text/plain": [
       "array([[ 2,  4,  2],\n",
       "       [ 2,  4,  2],\n",
       "       [ 2,  4, 10]])"
      ]
     },
     "execution_count": 82,
     "metadata": {},
     "output_type": "execute_result"
    }
   ],
   "source": [
    "np.add(matrix_a, matrix_b)"
   ]
  },
  {
   "cell_type": "code",
   "execution_count": 84,
   "id": "0c4a0f33",
   "metadata": {},
   "outputs": [
    {
     "data": {
      "text/plain": [
       "array([[ 0, -2,  0],\n",
       "       [ 0, -2,  0],\n",
       "       [ 0, -2, -6]])"
      ]
     },
     "execution_count": 84,
     "metadata": {},
     "output_type": "execute_result"
    }
   ],
   "source": [
    "np.subtract(matrix_a, matrix_b)"
   ]
  },
  {
   "cell_type": "code",
   "execution_count": 85,
   "id": "fccaf4ed",
   "metadata": {},
   "outputs": [
    {
     "name": "stdout",
     "output_type": "stream",
     "text": [
      "[[13 23]\n",
      " [21 37]]\n"
     ]
    }
   ],
   "source": [
    "a= [[1,2],[2,3]]\n",
    "b= [[3,5],[5,9]]\n",
    "c = np.matmul(a,b)\n",
    "print(c)"
   ]
  },
  {
   "cell_type": "markdown",
   "id": "d7f3626b",
   "metadata": {},
   "source": [
    "**Number of Columns on Matrix1 should be the same as Number of Rows in Matrix2**  \n",
    "Shape 0 = rows  \n",
    "Shape 1 = cols"
   ]
  },
  {
   "cell_type": "code",
   "execution_count": 91,
   "id": "e3909c0b",
   "metadata": {},
   "outputs": [
    {
     "name": "stdout",
     "output_type": "stream",
     "text": [
      "(2, 3)\n",
      "2\n",
      "3\n"
     ]
    }
   ],
   "source": [
    "print(matrix_c.shape)\n",
    "print(matrix_c.shape[0])\n",
    "print(matrix_c.shape[1])\n"
   ]
  },
  {
   "cell_type": "code",
   "execution_count": 96,
   "id": "bc104192",
   "metadata": {},
   "outputs": [],
   "source": [
    "#funct to receive inpyt of 2 matrix, check if can use matmul. if yes, calculate, l\n",
    "def is_matmul(m1,m2):\n",
    "    if(m1.shape[1] == m2.shape[0]):\n",
    "        print(\"is matmul able\")\n",
    "        print( np.matmul(m1,m2))\n",
    "    else:\n",
    "        print(\"it is not matmul able\")\n",
    "    \n",
    "    \n"
   ]
  },
  {
   "cell_type": "code",
   "execution_count": 97,
   "id": "50aa5850",
   "metadata": {},
   "outputs": [],
   "source": [
    "matrix_a = np.array([[1,1],[1,1],[1,2]])\n",
    "matrix_b = np.array([[1,3,1],[1,3,1],[1,3,8]])\n",
    "matrix_c = np.array([[2,3,9],[7,3,5],[5,3,2]])\n",
    "matrix_d = np.array([[1,3,1],[1,3,1]])"
   ]
  },
  {
   "cell_type": "code",
   "execution_count": 102,
   "id": "7839556c",
   "metadata": {},
   "outputs": [
    {
     "name": "stdout",
     "output_type": "stream",
     "text": [
      "\n",
      "\tmatrix_a,matrix_b\n",
      "it is not matmul able\n",
      "\n",
      "\tmatrix_b,matrix_c\n",
      "is matmul able\n",
      "[[28 15 26]\n",
      " [28 15 26]\n",
      " [63 36 40]]\n",
      "\n",
      "\tmatrix_d,matrix_a\n",
      "is matmul able\n",
      "[[5 6]\n",
      " [5 6]]\n",
      "\n",
      "\tmatrix_a,matrix_d\n",
      "is matmul able\n",
      "[[2 6 2]\n",
      " [2 6 2]\n",
      " [3 9 3]]\n"
     ]
    }
   ],
   "source": [
    "print(\"\\n\\tmatrix_a,matrix_b\")\n",
    "is_matmul(matrix_a,matrix_b)\n",
    "print(\"\\n\\tmatrix_b,matrix_c\")\n",
    "is_matmul(matrix_b,matrix_c)\n",
    "print(\"\\n\\tmatrix_d,matrix_a\")\n",
    "is_matmul(matrix_d,matrix_a)\n",
    "print(\"\\n\\tmatrix_a,matrix_d\")\n",
    "is_matmul(matrix_a,matrix_d)\n"
   ]
  },
  {
   "cell_type": "code",
   "execution_count": null,
   "id": "2fb08a25",
   "metadata": {},
   "outputs": [],
   "source": []
  }
 ],
 "metadata": {
  "kernelspec": {
   "display_name": "Python 3 (ipykernel)",
   "language": "python",
   "name": "python3"
  },
  "language_info": {
   "codemirror_mode": {
    "name": "ipython",
    "version": 3
   },
   "file_extension": ".py",
   "mimetype": "text/x-python",
   "name": "python",
   "nbconvert_exporter": "python",
   "pygments_lexer": "ipython3",
   "version": "3.9.12"
  }
 },
 "nbformat": 4,
 "nbformat_minor": 5
}
