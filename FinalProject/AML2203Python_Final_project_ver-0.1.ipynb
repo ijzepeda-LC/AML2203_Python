{
 "cells": [
  {
   "cell_type": "code",
   "execution_count": 2,
   "id": "1b80de01",
   "metadata": {},
   "outputs": [],
   "source": [
    "import pandas as pd\n",
    "import glob\n",
    "pd.set_option('display.max_columns', None)\n",
    "merged_df= pd.read_csv('_ALL_games_pc-console_2000-2023.csv')\n"
   ]
  },
  {
   "cell_type": "code",
   "execution_count": null,
   "id": "64b4eb7d",
   "metadata": {},
   "outputs": [],
   "source": [
    "merged_df= pd.read_csv('_ALL_games_pc-console_2000-2023.csv')\n"
   ]
  }
 ],
 "metadata": {
  "kernelspec": {
   "display_name": "Python 3 (ipykernel)",
   "language": "python",
   "name": "python3"
  },
  "language_info": {
   "codemirror_mode": {
    "name": "ipython",
    "version": 3
   },
   "file_extension": ".py",
   "mimetype": "text/x-python",
   "name": "python",
   "nbconvert_exporter": "python",
   "pygments_lexer": "ipython3",
   "version": "3.9.12"
  }
 },
 "nbformat": 4,
 "nbformat_minor": 5
}
