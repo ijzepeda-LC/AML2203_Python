{
 "cells": [
  {
   "cell_type": "markdown",
   "id": "14d8066c",
   "metadata": {},
   "source": [
    "# Self Practice #w5\n",
    "## Author: Ivan Zepeda\n",
    "## C0883949"
   ]
  },
  {
   "cell_type": "markdown",
   "id": "1ad12c0e",
   "metadata": {},
   "source": [
    "Write a Python program to find all the numbers from 0-9 from a string:  \n",
    "\n",
    "input: '89ADFRE41'  \n",
    "\n",
    "Output :[8941]  "
   ]
  },
  {
   "cell_type": "code",
   "execution_count": 2,
   "id": "c80bfff6",
   "metadata": {},
   "outputs": [
    {
     "data": {
      "text/plain": [
       "['8', '9', '4', '1']"
      ]
     },
     "execution_count": 2,
     "metadata": {},
     "output_type": "execute_result"
    }
   ],
   "source": [
    "def get_numbers(st):\n",
    "    numlist=[]\n",
    "    #compare lists\n",
    "    nums=[0,1,2,3,4,5,6,7,8,9] # or \"0987654321\"\n",
    "    #using isnum\n",
    "    for c in st:\n",
    "        if(c.isnumeric()):\n",
    "            numlist.append(c)\n",
    "    #using re\n",
    "    return numlist\n",
    "get_numbers('89ADFRE41')\n"
   ]
  },
  {
   "cell_type": "markdown",
   "id": "c17519b4",
   "metadata": {},
   "source": [
    "Write a Python program to find two elements once in a list where every element appears exactly n times in the list.   \n",
    "Input : [1, 2, 1, 3, 2, 5], 2    (n=2)  \n",
    "Output :[5, 3]  "
   ]
  },
  {
   "cell_type": "code",
   "execution_count": 7,
   "id": "b7f2be18",
   "metadata": {},
   "outputs": [
    {
     "name": "stdout",
     "output_type": "stream",
     "text": [
      "1 count: 2\n",
      "2 count: 2\n",
      "3 count: 1\n",
      "5 count: 1\n"
     ]
    },
    {
     "data": {
      "text/plain": [
       "[3, 5]"
      ]
     },
     "execution_count": 7,
     "metadata": {},
     "output_type": "execute_result"
    }
   ],
   "source": [
    "def find_n_repeated_num(nums,repets):\n",
    "    #use count from list\n",
    "    res=[]\n",
    "    for n in set(nums):\n",
    "        if nums.count(n) <=1:\n",
    "            res.append(n)\n",
    "    return res\n",
    "    \n",
    "find_n_repeated_num([1, 2, 1, 3, 2, 5], 2 )"
   ]
  },
  {
   "cell_type": "markdown",
   "id": "8e72ca2f",
   "metadata": {},
   "source": [
    " Write a Python program to reverse the digits of an integer.   \n",
    "Input : 234  \n",
    "Input : -234  \n",
    "Output: 432  \n",
    "Output : -432  "
   ]
  },
  {
   "cell_type": "code",
   "execution_count": 20,
   "id": "3472ce89",
   "metadata": {},
   "outputs": [
    {
     "name": "stdout",
     "output_type": "stream",
     "text": [
      "original: 234 <=>: 432\n",
      "original: -345 <=>: -543\n"
     ]
    }
   ],
   "source": [
    "def invert_number(num):\n",
    "    print(\"original:\",num,end=\"\")\n",
    "    negative=False\n",
    "    if(num<0):\n",
    "        negative=True\n",
    "        \n",
    "    num=str(num)[::-1]\n",
    "    if(negative):\n",
    "        num=num.replace('-','')\n",
    "        num=-1*int(num)\n",
    "    print(\" <=>:\",num)\n",
    "invert_number(234)\n",
    "invert_number(-345)"
   ]
  },
  {
   "cell_type": "code",
   "execution_count": null,
   "id": "ad48b0bc",
   "metadata": {},
   "outputs": [],
   "source": []
  }
 ],
 "metadata": {
  "kernelspec": {
   "display_name": "Python 3 (ipykernel)",
   "language": "python",
   "name": "python3"
  },
  "language_info": {
   "codemirror_mode": {
    "name": "ipython",
    "version": 3
   },
   "file_extension": ".py",
   "mimetype": "text/x-python",
   "name": "python",
   "nbconvert_exporter": "python",
   "pygments_lexer": "ipython3",
   "version": "3.9.12"
  }
 },
 "nbformat": 4,
 "nbformat_minor": 5
}
