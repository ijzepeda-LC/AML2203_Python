{
 "cells": [
  {
   "cell_type": "markdown",
   "id": "14d8066c",
   "metadata": {},
   "source": [
    "# Self Practice #\n",
    "## Author: Ivan Zepeda\n",
    "## C0883949"
   ]
  },
  {
   "cell_type": "raw",
   "id": "54941296",
   "metadata": {},
   "source": [
    "Q1) Given two non-negative integers num1 and num2 represented as strings, return the product of num1 and num2, also represented as a string.\n",
    "\n",
    "Note: You must not use any built-in BigInteger library or convert the inputs to integer directly.\n",
    "\n",
    " \n",
    "\n",
    "Example 1:\n",
    "\n",
    "Input: num1 = \"2\", num2 = \"3\"\n",
    "\n",
    "Output: \"6\"\n",
    "\n",
    " \n",
    "\n",
    " "
   ]
  },
  {
   "cell_type": "code",
   "execution_count": 3,
   "id": "079ad704",
   "metadata": {},
   "outputs": [
    {
     "name": "stdout",
     "output_type": "stream",
     "text": [
      "6\n"
     ]
    }
   ],
   "source": [
    "def string_product(num1, num2):\n",
    "    if num1 == \"0\" or num2 == \"0\":\n",
    "        return \"0\"\n",
    "\n",
    "    len1, len2 = len(num1), len(num2)\n",
    "    result = [0] * (len1 + len2)\n",
    "\n",
    "    for i in range(len1 - 1, -1, -1):\n",
    "        carry = 0\n",
    "        for j in range(len2 - 1, -1, -1):\n",
    "            product = int(num1[i]) * int(num2[j]) + result[i + j + 1] + carry\n",
    "            result[i + j + 1] = product % 10\n",
    "            carry = product // 10\n",
    "\n",
    "        result[i] += carry\n",
    "\n",
    "    # Removing leading zeros (if any)\n",
    "    result_str = \"\".join(map(str, result)).lstrip(\"0\")\n",
    "    return result_str if result_str else \"0\"\n",
    "\n",
    "    \n",
    "print(string_product(\"2\",\"3\"))"
   ]
  },
  {
   "cell_type": "raw",
   "id": "489557c1",
   "metadata": {},
   "source": [
    "Q2) The count-and-say sequence is a sequence of digit strings defined by the recursive formula:\n",
    "\n",
    "countAndSay(1) = \"1\"\n",
    "countAndSay(n) is the way you would \"say\" the digit string from countAndSay(n-1), which is then converted into a different digit string.\n",
    "To determine how you \"say\" a digit string, split it into the minimal number of substrings such that each substring contains exactly one unique digit. Then for each substring, say the number of digits, then say the digit. Finally, concatenate every said digit.\n",
    "\n",
    "For example, the saying and conversion for digit string \"3322251\":\n",
    "\n",
    "3322251, two3s, three2s, on5, one1, = 23321511\n",
    "\n",
    "Given a positive integer n, return the nth term of the count-and-say sequence."
   ]
  },
  {
   "cell_type": "code",
   "execution_count": 13,
   "id": "c0134910",
   "metadata": {},
   "outputs": [
    {
     "name": "stdout",
     "output_type": "stream",
     "text": [
      "3322251 : three 2's, two 3's, one 5, one 1\n",
      "125792389354 : two 2's, two 9's, two 3's, one 8, one 7, one 1, two 5's, one 4\n",
      "2321004320523 : four 2's, three 3's, three 0's, one 1, one 5, one 4\n"
     ]
    }
   ],
   "source": [
    "def count_n_say(nums):\n",
    "    results =\"\"\n",
    "    counts=0\n",
    "    set_nums=set(nums)\n",
    "    numbers={1:'one',\n",
    "            2:'two',\n",
    "            3:'three',\n",
    "            4:'four',\n",
    "            5:'five',\n",
    "            6:'six',\n",
    "            7:'seven',\n",
    "            8:'eight',\n",
    "            9:'nine',\n",
    "            10:'ten',\n",
    "            }\n",
    "    print(nums,\": \", end=\"\")\n",
    "    for n in set_nums:\n",
    "        counts = nums.count(n)\n",
    "        results += numbers[counts] +\" \"+ n \n",
    "        if(counts>1):\n",
    "            results+= \"'s, \"\n",
    "        else:\n",
    "            results+=\", \"\n",
    "        \n",
    "    return results[:-2]\n",
    "\n",
    "print(count_n_say(\"3322251\"))\n",
    "print(count_n_say(\"125792389354\"))\n",
    "print(count_n_say(\"2321004320523\"))\n"
   ]
  },
  {
   "cell_type": "code",
   "execution_count": null,
   "id": "c352efa4",
   "metadata": {},
   "outputs": [],
   "source": []
  }
 ],
 "metadata": {
  "kernelspec": {
   "display_name": "Python 3 (ipykernel)",
   "language": "python",
   "name": "python3"
  },
  "language_info": {
   "codemirror_mode": {
    "name": "ipython",
    "version": 3
   },
   "file_extension": ".py",
   "mimetype": "text/x-python",
   "name": "python",
   "nbconvert_exporter": "python",
   "pygments_lexer": "ipython3",
   "version": "3.9.12"
  }
 },
 "nbformat": 4,
 "nbformat_minor": 5
}
