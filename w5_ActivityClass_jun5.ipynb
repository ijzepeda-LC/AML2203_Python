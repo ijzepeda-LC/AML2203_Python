{
 "cells": [
  {
   "cell_type": "markdown",
   "id": "cad05ded",
   "metadata": {},
   "source": [
    "# Inclass activity\n",
    "## Ivan Zepeda \n",
    "C0883949\n"
   ]
  },
  {
   "cell_type": "code",
   "execution_count": 1,
   "id": "ee552bc2",
   "metadata": {},
   "outputs": [],
   "source": [
    "import pymongo\n",
    "from pymongo import MongoClient\n",
    "# Run mongo server: \n",
    "# brew services start mongodb-community@6.0"
   ]
  },
  {
   "cell_type": "code",
   "execution_count": 2,
   "id": "3ce10e6d",
   "metadata": {},
   "outputs": [],
   "source": [
    "client = MongoClient()\n"
   ]
  },
  {
   "cell_type": "code",
   "execution_count": 3,
   "id": "dc498fba",
   "metadata": {},
   "outputs": [],
   "source": [
    "db = client.test"
   ]
  },
  {
   "cell_type": "code",
   "execution_count": 4,
   "id": "fcc9964a",
   "metadata": {},
   "outputs": [],
   "source": [
    "employee = db.employee"
   ]
  },
  {
   "cell_type": "code",
   "execution_count": 5,
   "id": "d8de4999",
   "metadata": {},
   "outputs": [],
   "source": [
    "employee_details = {\n",
    "    'Name':\"Raj Kumar\",\n",
    "    \"Address\":\"Sears Street , NZ\",\n",
    "    \"Age\":\"42\"\n",
    "}\n",
    "\n",
    "result = employee.insert_one(employee_details)"
   ]
  },
  {
   "cell_type": "code",
   "execution_count": 6,
   "id": "d88c1fb6",
   "metadata": {},
   "outputs": [
    {
     "name": "stdout",
     "output_type": "stream",
     "text": [
      "647e6936fef1d7414af8aa78\n"
     ]
    }
   ],
   "source": [
    "print(result.inserted_id)"
   ]
  },
  {
   "cell_type": "code",
   "execution_count": 7,
   "id": "d6756b81",
   "metadata": {},
   "outputs": [],
   "source": [
    "mylist = [{\"_id\":11,\"name\":\"John\",\"address\":\"Highway 37\"},\n",
    "          {\"_id\":12,\"name\":\"Peter\",\"address\":\"Lowstreet 27\"},\n",
    "          {\"_id\":13,\"name\":\"Amy\",\"address\": \"Close st 652\"},\n",
    "          {\"_id\":14,\"name\":\"Hannah\",\"address\":\"Mountain 21\"},\n",
    "          {\"_id\":15,\"name\":\"Michael\",\"address\":\"Valley 345\"},\n",
    "          {\"_id\":16,\"name\": \"Vicky\", \"address\": \"Yellow Garden 124\"},\n",
    "          {\"_id\":17,\"name\": \"Nicky\", \"address\": \"Yellow Garden 23\"},\n",
    "          {\"_id\":18,\"name\": \"Nancy\", \"address\": \"Younge Ave. 123\"},\n",
    "          {\"_id\":19,\"name\": \"Viola\", \"address\": \"Sideway Ave\"}]\n"
   ]
  },
  {
   "cell_type": "code",
   "execution_count": 8,
   "id": "c260768a",
   "metadata": {},
   "outputs": [
    {
     "name": "stdout",
     "output_type": "stream",
     "text": [
      "[11, 12, 13, 14, 15, 16, 17, 18, 19]\n"
     ]
    }
   ],
   "source": [
    "x = employee.insert_many(mylist)\n",
    "\n",
    "# In the list the id is already provided, and defined\n",
    "# when it is not defined, the id, tends to be unique\n",
    "print(x.inserted_ids)\n",
    "\n"
   ]
  },
  {
   "cell_type": "code",
   "execution_count": 9,
   "id": "cc1a43bd",
   "metadata": {},
   "outputs": [
    {
     "name": "stdout",
     "output_type": "stream",
     "text": [
      "<class 'method'>\n",
      "<bound method MongoClient.list_database_names of MongoClient(host=['localhost:27017'], document_class=dict, tz_aware=False, connect=True)>\n",
      "['admin', 'config', 'local', 'test']\n"
     ]
    }
   ],
   "source": [
    "print(type(client.list_database_names))\n",
    "print(client.list_database_names)\n",
    "print(client.list_database_names())\n"
   ]
  },
  {
   "cell_type": "code",
   "execution_count": 12,
   "id": "d2ea47a6",
   "metadata": {},
   "outputs": [
    {
     "name": "stdout",
     "output_type": "stream",
     "text": [
      "The 'test' exists\n"
     ]
    }
   ],
   "source": [
    "dblist = client.list_database_names()\n",
    "if 'test' in dblist:\n",
    "    print(f\"The 'test' exists\")\n"
   ]
  },
  {
   "cell_type": "markdown",
   "id": "01e5f684",
   "metadata": {},
   "source": [
    "## Check if collection exists\n"
   ]
  },
  {
   "cell_type": "code",
   "execution_count": 14,
   "id": "1d62f9e0",
   "metadata": {},
   "outputs": [
    {
     "name": "stdout",
     "output_type": "stream",
     "text": [
      "['employee', 'test.employee']\n"
     ]
    }
   ],
   "source": [
    "print(db.list_collection_names())"
   ]
  },
  {
   "cell_type": "code",
   "execution_count": 16,
   "id": "1658fe12",
   "metadata": {},
   "outputs": [],
   "source": [
    "collist = db.list_collection_names()\n",
    "if 'test' in collist:\n",
    "    print('The employee collection exists')"
   ]
  },
  {
   "cell_type": "markdown",
   "id": "5c656536",
   "metadata": {},
   "source": [
    "**Read one record**"
   ]
  },
  {
   "cell_type": "code",
   "execution_count": 18,
   "id": "c6308fa4",
   "metadata": {},
   "outputs": [
    {
     "name": "stdout",
     "output_type": "stream",
     "text": [
      "{'_id': ObjectId('647e6936fef1d7414af8aa78'), 'Name': 'Raj Kumar', 'Address': 'Sears Street , NZ', 'Age': '42'}\n"
     ]
    }
   ],
   "source": [
    "x = employee.find_one()\n",
    "print(x)"
   ]
  },
  {
   "cell_type": "code",
   "execution_count": 19,
   "id": "c95a27c1",
   "metadata": {
    "scrolled": true
   },
   "outputs": [
    {
     "name": "stdout",
     "output_type": "stream",
     "text": [
      "{'_id': ObjectId('647e6936fef1d7414af8aa78'), 'Name': 'Raj Kumar', 'Address': 'Sears Street , NZ', 'Age': '42'}\n",
      "{'_id': 11, 'name': 'John', 'address': 'Highway 37'}\n",
      "{'_id': 12, 'name': 'Peter', 'address': 'Lowstreet 27'}\n",
      "{'_id': 13, 'name': 'Amy', 'address': 'Close st 652'}\n",
      "{'_id': 14, 'name': 'Hannah', 'address': 'Mountain 21'}\n",
      "{'_id': 15, 'name': 'Michael', 'address': 'Valley 345'}\n",
      "{'_id': 16, 'name': 'Vicky', 'address': 'Yellow Garden 124'}\n",
      "{'_id': 17, 'name': 'Nicky', 'address': 'Yellow Garden 23'}\n",
      "{'_id': 18, 'name': 'Nancy', 'address': 'Younge Ave. 123'}\n",
      "{'_id': 19, 'name': 'Viola', 'address': 'Sideway Ave'}\n"
     ]
    }
   ],
   "source": [
    "for x in employee.find():\n",
    "    print(x)"
   ]
  },
  {
   "cell_type": "code",
   "execution_count": 20,
   "id": "9de4fb83",
   "metadata": {},
   "outputs": [
    {
     "name": "stdout",
     "output_type": "stream",
     "text": [
      "{'_id': ObjectId('647e6936fef1d7414af8aa78'), 'Name': 'Raj Kumar', 'Address': 'Sears Street , NZ', 'Age': '42'}\n",
      "{'_id': 11, 'name': 'John', 'address': 'Highway 37'}\n",
      "{'_id': 12, 'name': 'Peter', 'address': 'Lowstreet 27'}\n",
      "{'_id': 13, 'name': 'Amy', 'address': 'Close st 652'}\n",
      "{'_id': 14, 'name': 'Hannah', 'address': 'Mountain 21'}\n"
     ]
    }
   ],
   "source": [
    "myresults = employee.find().limit(5)\n",
    "for x in myresults:\n",
    "    print(x)"
   ]
  },
  {
   "cell_type": "code",
   "execution_count": 22,
   "id": "fe914e4e",
   "metadata": {},
   "outputs": [
    {
     "name": "stdout",
     "output_type": "stream",
     "text": [
      "{'_id': ObjectId('647e6936fef1d7414af8aa78'), 'Name': 'Raj Kumar', 'Address': 'Sears Street , NZ', 'Age': '42'}\n",
      "{'_id': 11, 'name': 'John', 'address': 'Highway 37'}\n",
      "{'_id': 12, 'name': 'Peter', 'address': 'Lowstreet 27'}\n",
      "{'_id': 13, 'name': 'Amy', 'address': 'Close st 652'}\n",
      "{'_id': 14, 'name': 'Hannah', 'address': 'Mountain 21'}\n"
     ]
    }
   ],
   "source": [
    "# Another method is to use slice, although it will fetch all itens, and take time.\n",
    "myresults = employee.find()\n",
    "for x in myresults[:5]:\n",
    "    print(x)\n",
    "    \n",
    "# Another time is a while i < 5\n"
   ]
  },
  {
   "cell_type": "markdown",
   "id": "35e1eda2",
   "metadata": {},
   "source": [
    "## Return Only Some Fields (pp 29)\n",
    "First parameter is th edocument to getch info, or empty from all  \n",
    "Second paramenter is object describing the fields to include in the result. parameter is optional, if ommited all fileds will be included\n",
    "\n",
    "0 means DO NOT include , while\n",
    "1 means to INCLUDE"
   ]
  },
  {
   "cell_type": "code",
   "execution_count": 23,
   "id": "e2d93bfc",
   "metadata": {},
   "outputs": [
    {
     "name": "stdout",
     "output_type": "stream",
     "text": [
      "{}\n",
      "{'name': 'John', 'address': 'Highway 37'}\n",
      "{'name': 'Peter', 'address': 'Lowstreet 27'}\n",
      "{'name': 'Amy', 'address': 'Close st 652'}\n",
      "{'name': 'Hannah', 'address': 'Mountain 21'}\n",
      "{'name': 'Michael', 'address': 'Valley 345'}\n",
      "{'name': 'Vicky', 'address': 'Yellow Garden 124'}\n",
      "{'name': 'Nicky', 'address': 'Yellow Garden 23'}\n",
      "{'name': 'Nancy', 'address': 'Younge Ave. 123'}\n",
      "{'name': 'Viola', 'address': 'Sideway Ave'}\n"
     ]
    }
   ],
   "source": [
    "for x in employee.find({}, {'_id':0, \"name\":1,\"address\":1}):\n",
    "    print(x)"
   ]
  },
  {
   "cell_type": "code",
   "execution_count": 33,
   "id": "77cfff71",
   "metadata": {},
   "outputs": [
    {
     "name": "stdout",
     "output_type": "stream",
     "text": [
      "{'_id': ObjectId('647e6936fef1d7414af8aa78'), 'Name': 'Raj Kumar', 'Address': 'Sears Street , NZ'}\n",
      "{'_id': 11, 'name': 'John', 'address': 'Highway 37'}\n",
      "{'_id': 12, 'name': 'Peter', 'address': 'Lowstreet 27'}\n",
      "{'_id': 13, 'name': 'Amy', 'address': 'Close st 652'}\n",
      "{'_id': 14, 'name': 'Hannah', 'address': 'Mountain 21'}\n",
      "{'_id': 15, 'name': 'Michael', 'address': 'Valley 345'}\n",
      "{'_id': 16, 'name': 'Vicky', 'address': 'Yellow Garden 124'}\n",
      "{'_id': 17, 'name': 'Nicky', 'address': 'Yellow Garden 23'}\n",
      "{'_id': 18, 'name': 'Nancy', 'address': 'Younge Ave. 123'}\n",
      "{'_id': 19, 'name': 'Viola', 'address': 'Sideway Ave'}\n"
     ]
    }
   ],
   "source": [
    "#Print all fields except Age\n",
    "for x in employee.find({}, {'Age':0}):\n",
    "    print(x)"
   ]
  },
  {
   "cell_type": "markdown",
   "id": "422a99e5",
   "metadata": {},
   "source": [
    "## Advanced MongoDB Query\n",
    "to use conditions it will be a new dic object, with the wildcard $  \n",
    "be aware that commands needs to be included within a doublequotes\n"
   ]
  },
  {
   "cell_type": "code",
   "execution_count": 39,
   "id": "848438f7",
   "metadata": {},
   "outputs": [],
   "source": [
    "myquery = {'address': 'Highway 37', \"_id\":{\"$lt\":5}}\n",
    "\n",
    "mydoc = employee.find(myquery).limit(2)\n",
    "for x in mydoc:\n",
    "    print(x)"
   ]
  },
  {
   "cell_type": "code",
   "execution_count": 34,
   "id": "8619bbf6",
   "metadata": {},
   "outputs": [
    {
     "name": "stdout",
     "output_type": "stream",
     "text": [
      "{'_id': 15, 'name': 'Michael', 'address': 'Valley 345'}\n"
     ]
    }
   ],
   "source": [
    "myquery = {'address':{'$regex':\"^V\"}}\n",
    "\n",
    "mydoc = employee.find(myquery)\n",
    "\n",
    "for x in mydoc:\n",
    "    print(x)"
   ]
  },
  {
   "cell_type": "code",
   "execution_count": 35,
   "id": "fe3c4ec7",
   "metadata": {},
   "outputs": [
    {
     "name": "stdout",
     "output_type": "stream",
     "text": [
      "{'_id': 13, 'name': 'Amy', 'address': 'Close st 652'}\n",
      "{'_id': 15, 'name': 'Michael', 'address': 'Valley 345'}\n"
     ]
    }
   ],
   "source": [
    "# find all records having lettel l intheir address\n",
    "\n",
    "myquery= {'address':{'$regex':'\\w+l\\w'}}\n",
    "mydoc = employee.find(myquery).limit(2)\n",
    "for x in mydoc:\n",
    "    print(x)"
   ]
  },
  {
   "cell_type": "markdown",
   "id": "522ba8d7",
   "metadata": {},
   "source": [
    "### Operator OR\n",
    "this operator joins query clouses with a logical OR . This returns all documents that mathc conditions of either clause"
   ]
  },
  {
   "cell_type": "code",
   "execution_count": 37,
   "id": "2352d27d",
   "metadata": {},
   "outputs": [
    {
     "name": "stdout",
     "output_type": "stream",
     "text": [
      "{'_id': 16, 'name': 'Vicky', 'address': 'Yellow Garden 124'}\n",
      "{'_id': 17, 'name': 'Nicky', 'address': 'Yellow Garden 23'}\n",
      "{'_id': 18, 'name': 'Nancy', 'address': 'Younge Ave. 123'}\n",
      "{'_id': 19, 'name': 'Viola', 'address': 'Sideway Ave'}\n"
     ]
    }
   ],
   "source": [
    "# print documents where address starts with S or Y\n",
    "\n",
    "myquery = {\"$or\": [\n",
    "    {\"address\":{\"$regex\":\"^Y\"}},\n",
    "    {'address':{\"$regex\":\"^S\"}}\n",
    "                  ]}\n",
    "\n",
    "mydoc = employee.find(myquery)\n",
    "for x in mydoc:\n",
    "    print(x)"
   ]
  },
  {
   "cell_type": "code",
   "execution_count": 38,
   "id": "8b929ff1",
   "metadata": {},
   "outputs": [
    {
     "name": "stdout",
     "output_type": "stream",
     "text": [
      "{'_id': 16, 'name': 'Vicky', 'address': 'Yellow Garden 124'}\n",
      "{'_id': 17, 'name': 'Nicky', 'address': 'Yellow Garden 23'}\n",
      "{'_id': 18, 'name': 'Nancy', 'address': 'Younge Ave. 123'}\n",
      "{'_id': 19, 'name': 'Viola', 'address': 'Sideway Ave'}\n"
     ]
    }
   ],
   "source": [
    "myquery = {\"address\":{\"$regex\":\"^S|^Y\"}}\n",
    "mydoc = employee.find(myquery)\n",
    "for c in mydoc:\n",
    "    print(c)"
   ]
  },
  {
   "cell_type": "code",
   "execution_count": 42,
   "id": "05de2735",
   "metadata": {},
   "outputs": [
    {
     "name": "stdout",
     "output_type": "stream",
     "text": [
      "{'_id': 11, 'name': 'John', 'address': 'Highway 37'}\n",
      "{'_id': 12, 'name': 'Peter', 'address': 'Lowstreet 27'}\n",
      "{'_id': 13, 'name': 'Amy', 'address': 'Close st 652'}\n",
      "{'_id': 14, 'name': 'Hannah', 'address': 'Mountain 21'}\n",
      "{'_id': 15, 'name': 'Michael', 'address': 'Valley 345'}\n",
      "{'_id': 16, 'name': 'Vicky', 'address': 'Yellow Garden 124'}\n",
      "{'_id': 17, 'name': 'Nicky', 'address': 'Yellow Garden 23'}\n",
      "{'_id': 18, 'name': 'Nancy', 'address': 'Younge Ave. 123'}\n",
      "{'_id': 19, 'name': 'Viola', 'address': 'Sideway Ave'}\n"
     ]
    }
   ],
   "source": [
    "myquery = { \"_id\":{\"$gt\":5}}\n",
    "\n",
    "mydoc = employee.find(myquery)\n",
    "for x in mydoc:\n",
    "    print(x)"
   ]
  },
  {
   "cell_type": "code",
   "execution_count": 43,
   "id": "b8a05338",
   "metadata": {},
   "outputs": [
    {
     "name": "stdout",
     "output_type": "stream",
     "text": [
      "{'_id': 16, 'name': 'Vicky', 'address': 'Yellow Garden 124'}\n",
      "{'_id': 18, 'name': 'Nancy', 'address': 'Younge Ave. 123'}\n"
     ]
    }
   ],
   "source": [
    "myquery =  {\"$and\": [\n",
    "    {\"address\":{\"$regex\":\"^Y\"}},\n",
    "    {'address':{\"$regex\":\"1\"}}\n",
    "]}\n",
    "mydoc = employee.find(myquery)\n",
    "for x in mydoc:\n",
    "    print(x)"
   ]
  },
  {
   "cell_type": "code",
   "execution_count": 46,
   "id": "53b91880",
   "metadata": {},
   "outputs": [],
   "source": [
    "myquery =  {\"$and\": [\n",
    "    {\"address\":{\"$regex\":\"^Y\"}},\n",
    "    {'address':{\"$regex\":\"1\"}},\n",
    "    {'name':{'$regex':'^N'}}\n",
    "]}\n",
    "mydoc = employee.find(myquery)\n",
    "for x in mydoc:\n",
    "    print(x)"
   ]
  },
  {
   "cell_type": "code",
   "execution_count": 50,
   "id": "ddd1dc4e",
   "metadata": {},
   "outputs": [
    {
     "name": "stdout",
     "output_type": "stream",
     "text": [
      "{'_id': 16, 'name': 'Vicky', 'address': 'Yellow Garden 124'}\n",
      "{'_id': 18, 'name': 'Nancy', 'address': 'Younge Ave. 123'}\n"
     ]
    }
   ],
   "source": [
    "myquery =  {\"$and\": [\n",
    "    {\"address\":{\"$regex\":\"^Y\"}},\n",
    "    {'address':{\"$regex\":\"1\"}},    \n",
    "    ],\n",
    "     \"$or\":[\n",
    "         {'name':{'$regex':'^N'}},\n",
    "         {'address':{\"$regex\":\"1\"}}]\n",
    "           }\n",
    "mydoc = employee.find(myquery)\n",
    "for x in mydoc:\n",
    "    print(x)"
   ]
  },
  {
   "cell_type": "markdown",
   "id": "ba6c98f2",
   "metadata": {},
   "source": [
    "# Not Equal"
   ]
  },
  {
   "cell_type": "code",
   "execution_count": 51,
   "id": "c790caf1",
   "metadata": {},
   "outputs": [
    {
     "name": "stdout",
     "output_type": "stream",
     "text": [
      "{'_id': 16, 'name': 'Vicky', 'address': 'Yellow Garden 124'}\n",
      "{'_id': 18, 'name': 'Nancy', 'address': 'Younge Ave. 123'}\n"
     ]
    }
   ],
   "source": [
    "myquery = {'$and':[\n",
    "    {'address':{'$regex':'^Y'}},\n",
    "    {'address':{'$regex':\"1\"}},\n",
    "    {'name': {'$ne':'Nicky'}}\n",
    "]}\n",
    "mydoc = employee.find(myquery)\n",
    "for c in mydoc:\n",
    "    print(c)"
   ]
  },
  {
   "cell_type": "code",
   "execution_count": 61,
   "id": "1db0e960",
   "metadata": {},
   "outputs": [
    {
     "name": "stdout",
     "output_type": "stream",
     "text": [
      "{'_id': 16, 'name': 'Vicky', 'address': 'Yellow Garden 124'}\n",
      "{'_id': 18, 'name': 'Nancy', 'address': 'Younge Ave. 123'}\n"
     ]
    }
   ],
   "source": [
    "myquery = {'$and':[\n",
    "    {'address':{'$regex':'^Y'}},\n",
    "    {'address':{'$regex':\"1\"}},\n",
    "    {'name': {'$ne':{'$regex':'^V'}}}\n",
    "#     {'name': {'$ne':{'$regex':'^N'}}}\n",
    "]}\n",
    "mydoc = employee.find(myquery)\n",
    "for c in mydoc:\n",
    "    print(c)"
   ]
  },
  {
   "cell_type": "markdown",
   "id": "2d68577e",
   "metadata": {},
   "source": [
    "# important~\n",
    "why is prvious code bringing Nancy, as I stated no names starting with N"
   ]
  },
  {
   "cell_type": "markdown",
   "id": "1732680d",
   "metadata": {},
   "source": [
    "## Greater than"
   ]
  },
  {
   "cell_type": "code",
   "execution_count": null,
   "id": "b3ecbc00",
   "metadata": {},
   "outputs": [],
   "source": [
    "myquery= {\"address\":{\"$gt\":\"S\"}} #where string starts with S or with a higher than S\n",
    "\n",
    "\n",
    "\n",
    "\n",
    "\n",
    "\n"
   ]
  }
 ],
 "metadata": {
  "kernelspec": {
   "display_name": "Python 3 (ipykernel)",
   "language": "python",
   "name": "python3"
  },
  "language_info": {
   "codemirror_mode": {
    "name": "ipython",
    "version": 3
   },
   "file_extension": ".py",
   "mimetype": "text/x-python",
   "name": "python",
   "nbconvert_exporter": "python",
   "pygments_lexer": "ipython3",
   "version": "3.9.12"
  }
 },
 "nbformat": 4,
 "nbformat_minor": 5
}
