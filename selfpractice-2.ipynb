{
 "cells": [
  {
   "cell_type": "markdown",
   "id": "14d8066c",
   "metadata": {},
   "source": [
    "# Self Practice #\n",
    "## Author: Ivan Zepeda\n",
    "## C0883949"
   ]
  },
  {
   "cell_type": "markdown",
   "id": "d74356ff",
   "metadata": {},
   "source": [
    "Week 3 \n",
    "1-Write a Python program to find 4 numbers from an array such that the sum of 4 numbers equal to a given number.  \n",
    "Input : [1, 0, -1, 0, -2, 2,10,11], 0)  \n",
    "Output : [[-2, -1, 1, 2], [-2, 0, 0, 2], [-1, 0, 0, 1]]  "
   ]
  },
  {
   "cell_type": "code",
   "execution_count": 35,
   "id": "559ed932",
   "metadata": {},
   "outputs": [
    {
     "name": "stdout",
     "output_type": "stream",
     "text": [
      "[[-2, -1, 1, 2], [-2, 0, 0, 2], [-1, 0, 0, 1]]\n",
      "list of number is too small\n",
      "[[-2, -1, 1, 2], [-2, 0, 0, 2], [-1, 0, 0, 1]]\n"
     ]
    }
   ],
   "source": [
    "def sum4(lista, target):\n",
    "    if len(lista) <4:\n",
    "        return \"list of number is too small\"\n",
    "    lista.sort()\n",
    "    \n",
    "    sum4s=[]\n",
    "    n=len(lista)\n",
    "    for i in range(n-3):\n",
    "        for j in range(i+1, n-2):\n",
    "            #leaving i and j behind\n",
    "            left=j+1\n",
    "            right=n-1\n",
    "            \n",
    "            while left <right:\n",
    "                sum4= lista[i]+lista[j]+lista[left]+lista[right]\n",
    "                if sum4==target:\n",
    "                    sum4s.append([lista[i],lista[j],lista[left],lista[right]]) #Append the indexes, not the value of sum4\n",
    "                    #advance the pointers\n",
    "                    left+=1\n",
    "                    right-=1\n",
    "                elif sum4 <target:\n",
    "                    left+=1\n",
    "                else:\n",
    "                    right-=1\n",
    "    return sum4s\n",
    "    \n",
    "print(sum4([1, 0, -1, 0, -2, 2,10,11],0))\n",
    "print(sum4([1, 0, -1],50))\n",
    "print(fourSum([1, 0, -1, 0, -2, 2,10,11],0))"
   ]
  },
  {
   "cell_type": "markdown",
   "id": "3b3225c6",
   "metadata": {},
   "source": [
    "2-Write a Python program to find the single element appears once in a list where every element appears multiple times except for one.   \n",
    "Input : [1, 1, 1, 2, 2, 2, 3]  \n",
    "Output : 3  "
   ]
  },
  {
   "cell_type": "code",
   "execution_count": 7,
   "id": "bb73c6d0",
   "metadata": {},
   "outputs": [
    {
     "name": "stdout",
     "output_type": "stream",
     "text": [
      "{1: 3, 2: 4, 3: 1}\n",
      "{3: 1, 4: 2, 1: 3}\n",
      "Loner is: 3\n"
     ]
    }
   ],
   "source": [
    "#first version\n",
    "def get_loner(lista):\n",
    "    dic={}\n",
    "    \n",
    "    for i in lista:\n",
    "        if(i not in dic.keys()):\n",
    "            dic[i]=1\n",
    "        else:\n",
    "            dic[i]=dic[1]+1\n",
    "            \n",
    "    rdic={v:k for k,v in dic.items()}\n",
    "    if(1 in rdic.keys()):\n",
    "        print(\"Loner is:\",rdic[1])\n",
    "    else:\n",
    "        print(\"no loner found\")\n",
    "    \n",
    "    \n",
    "get_loner([1, 1, 1, 2, 2, 2, 3])"
   ]
  },
  {
   "cell_type": "markdown",
   "id": "eb4c0d83",
   "metadata": {},
   "source": [
    "3-Write a Python program to add the digits of a positive integer repeatedly until the result has a single digit. \n",
    "Input : 48  \n",
    "Output : 3  \n",
    "For example given number is 59, the result will be 5.  \n",
    "Step 1: 5 + 9 = 14  \n",
    "Step 1: 1 + 4 = 5  "
   ]
  },
  {
   "cell_type": "code",
   "execution_count": 18,
   "id": "391020ec",
   "metadata": {},
   "outputs": [
    {
     "name": "stdout",
     "output_type": "stream",
     "text": [
      "\n",
      "Procesing 59 \n",
      "Steps:\n",
      "14\n",
      "5\n",
      "Result: 5\n",
      "\n",
      "Procesing 539 \n",
      "Steps:\n",
      "17\n",
      "8\n",
      "Result: 8\n",
      "\n",
      "Procesing 88 \n",
      "Steps:\n",
      "16\n",
      "7\n",
      "Result: 7\n",
      "\n",
      "Procesing 9999 \n",
      "Steps:\n",
      "36\n",
      "9\n",
      "Result: 9\n",
      "\n",
      "Procesing 999992 \n",
      "Steps:\n",
      "47\n",
      "11\n",
      "2\n",
      "Result: 2\n"
     ]
    }
   ],
   "source": [
    "# First approach\n",
    "#  using casting, for STR and INT\n",
    "def get_single_number(num):\n",
    "    print(\"\\nProcesing\",num,'\\nSteps:')\n",
    "    \n",
    "    while(num>9):\n",
    "        numt=0\n",
    "        for x in str(num):\n",
    "            numt+=int(x)\n",
    "        num= numt\n",
    "        print(numt)\n",
    "        \n",
    "    print('Result:',num)\n",
    "    \n",
    "get_single_number(59)\n",
    "get_single_number(539)\n",
    "get_single_number(88)\n",
    "get_single_number(9999)\n",
    "get_single_number(999992)\n"
   ]
  },
  {
   "cell_type": "code",
   "execution_count": null,
   "id": "f5b6bcf7",
   "metadata": {},
   "outputs": [],
   "source": []
  }
 ],
 "metadata": {
  "kernelspec": {
   "display_name": "Python 3 (ipykernel)",
   "language": "python",
   "name": "python3"
  },
  "language_info": {
   "codemirror_mode": {
    "name": "ipython",
    "version": 3
   },
   "file_extension": ".py",
   "mimetype": "text/x-python",
   "name": "python",
   "nbconvert_exporter": "python",
   "pygments_lexer": "ipython3",
   "version": "3.9.12"
  }
 },
 "nbformat": 4,
 "nbformat_minor": 5
}
