{
 "cells": [
  {
   "cell_type": "markdown",
   "id": "02cdb567",
   "metadata": {},
   "source": [
    "\n",
    "# Inclass \n",
    "Ivan Zepeda\n",
    "c0883949\n"
   ]
  },
  {
   "cell_type": "markdown",
   "id": "e2ed9368",
   "metadata": {},
   "source": [
    "## MOdule2"
   ]
  },
  {
   "cell_type": "code",
   "execution_count": 29,
   "id": "8ce3484b",
   "metadata": {},
   "outputs": [],
   "source": [
    "import sqlite3"
   ]
  },
  {
   "cell_type": "code",
   "execution_count": 35,
   "id": "b47b1429",
   "metadata": {},
   "outputs": [],
   "source": [
    "\n",
    "#create a connection object\n",
    "conn = sqlite3.connect('example.db')\n",
    "# a cursor is a method of the connection object\n",
    "cursor = conn.cursor()"
   ]
  },
  {
   "cell_type": "code",
   "execution_count": 13,
   "id": "2cd1f61e",
   "metadata": {},
   "outputs": [
    {
     "ename": "OperationalError",
     "evalue": "table EMPLOYEE already exists",
     "output_type": "error",
     "traceback": [
      "\u001b[0;31m---------------------------------------------------------------------------\u001b[0m",
      "\u001b[0;31mOperationalError\u001b[0m                          Traceback (most recent call last)",
      "Cell \u001b[0;32mIn[13], line 9\u001b[0m\n\u001b[1;32m      2\u001b[0m sql\u001b[38;5;241m=\u001b[39m\u001b[38;5;124m'''\u001b[39m\u001b[38;5;124mCREATE TABLE EMPLOYEE(\u001b[39m\n\u001b[1;32m      3\u001b[0m \u001b[38;5;124m        FIRST_NAME CHAR(20) NOT NULL,\u001b[39m\n\u001b[1;32m      4\u001b[0m \u001b[38;5;124m        LAST_NAME CHAR(20),\u001b[39m\n\u001b[1;32m      5\u001b[0m \u001b[38;5;124m        AGE INT NOT NULL,\u001b[39m\n\u001b[1;32m      6\u001b[0m \u001b[38;5;124m        SEX CHAR(1),\u001b[39m\n\u001b[1;32m      7\u001b[0m \u001b[38;5;124m        INCOME FLOAT)\u001b[39m\u001b[38;5;124m'''\u001b[39m\n\u001b[1;32m      8\u001b[0m \u001b[38;5;66;03m#excecute to sql queries\u001b[39;00m\n\u001b[0;32m----> 9\u001b[0m \u001b[43mconn\u001b[49m\u001b[38;5;241;43m.\u001b[39;49m\u001b[43mexecute\u001b[49m\u001b[43m(\u001b[49m\u001b[43msql\u001b[49m\u001b[43m)\u001b[49m\n\u001b[1;32m     11\u001b[0m \u001b[38;5;66;03m#commit after each transaction\u001b[39;00m\n\u001b[1;32m     12\u001b[0m conn\u001b[38;5;241m.\u001b[39mcommit()\n",
      "\u001b[0;31mOperationalError\u001b[0m: table EMPLOYEE already exists"
     ]
    }
   ],
   "source": [
    "#create an sql within a text\n",
    "sql='''CREATE TABLE EMPLOYEE(\n",
    "        FIRST_NAME CHAR(20) NOT NULL,\n",
    "        LAST_NAME CHAR(20),\n",
    "        AGE INT NOT NULL,\n",
    "        SEX CHAR(1),\n",
    "        INCOME FLOAT)'''\n",
    "#excecute to sql queries\n",
    "conn.execute(sql)\n",
    "\n",
    "#commit after each transaction\n",
    "conn.commit()"
   ]
  },
  {
   "cell_type": "markdown",
   "id": "f1ca6ff4",
   "metadata": {},
   "source": [
    "**View Schema: MEthod 1**"
   ]
  },
  {
   "cell_type": "code",
   "execution_count": 34,
   "id": "91f299f1",
   "metadata": {},
   "outputs": [
    {
     "name": "stdout",
     "output_type": "stream",
     "text": [
      "(0, 'FIRST_NAME', 'CHAR(20)', 1, None, 0)\n",
      "(1, 'LAST_NAME', 'CHAR(20)', 0, None, 0)\n",
      "(2, 'AGE', 'INT', 1, None, 0)\n",
      "(3, 'SEX', 'CHAR(1)', 0, None, 0)\n",
      "(4, 'INCOME', 'FLOAT', 0, None, 0)\n"
     ]
    }
   ],
   "source": [
    "\n",
    "# Execute PRAGMA statement to get the table information\n",
    "cursor.execute(\"PRAGMA table_info(EMPLOYEE)\")\n",
    "\n",
    "# Fetch all the results\n",
    "results = cursor.fetchall()\n",
    "\n",
    "# Print the schema information\n",
    "for column in results:\n",
    "    print(column)\n",
    "\n",
    "# Close the cursor and connection\n",
    "cursor.close()\n",
    "conn.close()"
   ]
  },
  {
   "cell_type": "markdown",
   "id": "c7011d1f",
   "metadata": {},
   "source": [
    "**View Schema: MEthod 1**"
   ]
  },
  {
   "cell_type": "code",
   "execution_count": 28,
   "id": "aa04bb57",
   "metadata": {},
   "outputs": [
    {
     "name": "stdout",
     "output_type": "stream",
     "text": [
      "FIRST_NAME\n",
      "LAST_NAME\n",
      "AGE\n",
      "SEX\n",
      "INCOME\n"
     ]
    }
   ],
   "source": [
    "import sqlite3\n",
    "\n",
    "# Connect to the SQLite database\n",
    "conn = sqlite3.connect('example.db')\n",
    "cursor = conn.cursor()\n",
    "\n",
    "# Execute PRAGMA statement to get the table information\n",
    "cursor.execute(\"PRAGMA table_info(EMPLOYEE)\")\n",
    "\n",
    "# Fetch all the results\n",
    "results = cursor.fetchall()\n",
    "\n",
    "# Extract column names from the results\n",
    "column_names = [column[1] for column in results]\n",
    "\n",
    "# Print the column names\n",
    "for name in column_names:\n",
    "    print(name)\n",
    "\n",
    "# Close the cursor and connection\n",
    "# cursor.close()\n",
    "# conn.close()\n"
   ]
  },
  {
   "cell_type": "markdown",
   "id": "bb6b346b",
   "metadata": {},
   "source": [
    "\n",
    "**Insert records**"
   ]
  },
  {
   "cell_type": "code",
   "execution_count": 50,
   "id": "2bb5f062",
   "metadata": {},
   "outputs": [
    {
     "name": "stdout",
     "output_type": "stream",
     "text": [
      "Ramya\n",
      "Rama Priya\n",
      "27\n",
      "F\n",
      "Sharukh\n",
      "Sheik\n",
      "25\n",
      "M\n",
      "Sarmista\n",
      "Sharma\n",
      "26\n",
      "F\n",
      "Sharukh\n",
      "Sheik\n",
      "25\n",
      "M\n",
      "Sharukh\n",
      "Sheik\n",
      "25\n",
      "M\n",
      "Sharukh\n",
      "Sharma\n",
      "26\n",
      "F\n"
     ]
    }
   ],
   "source": [
    "def insert(name, last, age, sex, income=0):\n",
    "\n",
    "    sql=f\"\"\"INSERT INTO EMPLOYEE(\n",
    "    FIRST_NAME, LAST_NAME, AGE, SEX, INCOME) VALUES\n",
    "    ('{name}', '{last}', {age},'{sex}',{income})\"\"\"\n",
    "    conn.execute(sql)\n",
    "    conn.commit()\n",
    "\n",
    "list_employees=[\n",
    "    {'name':'Ramya', 'last':'Rama Priya','age':27,'sex':'F','income':9000},\n",
    "    {'name':'Sharukh', 'last':'Sheik','age':25 ,'sex':'M','income':8300},\n",
    "    {'name':'Sarmista', 'last':'Sharma','age':26,'sex':'F','income':10000},\n",
    "    {'name':'Sharukh', 'last':'Sheik','age':25 ,'sex':'M','income':8300},\n",
    "    {'name':'Sharukh', 'last':'Sheik','age':25 ,'sex':'M','income':8300},\n",
    "    {'name':'Sharukh', 'last':'Sharma','age':26 ,'sex':'F','income':1000},\n",
    "]\n",
    "for e in list_employees:\n",
    "    insert(**e)"
   ]
  },
  {
   "cell_type": "markdown",
   "id": "72856ef1",
   "metadata": {},
   "source": [
    "**Excecute many**"
   ]
  },
  {
   "cell_type": "code",
   "execution_count": 55,
   "id": "2adc8ea0",
   "metadata": {},
   "outputs": [],
   "source": [
    "\n",
    "# Define the list of employees to insert\n",
    "list_employees = [\n",
    "    ('Ramya2', 'Rama Priya2', 27, 'F', 9000),\n",
    "    ('John', 'Doe', 35, 'M', 7500),\n",
    "    ('Emily', 'Smith', 29, 'F', 8200),\n",
    "    # Add more employee data as needed\n",
    "]\n",
    "\n",
    "# Define the SQL INSERT statement\n",
    "sql = \"INSERT INTO EMPLOYEE (first_name, last_name, age, sex, income) VALUES (?, ?, ?, ?, ?)\"\n",
    "\n",
    "# Execute the bulk insert operation\n",
    "cursor.executemany(sql, list_employees)\n",
    "\n",
    "# Commit the changes to the database\n",
    "conn.commit()\n"
   ]
  },
  {
   "cell_type": "markdown",
   "id": "a5efba95",
   "metadata": {},
   "source": [
    "### READ\n",
    "In SQLite, there is no built-in functionality to directly restore a cursor to a previous position or start. Once you have iterated through the results using the cursor, you cannot go back to a previous position or reset the cursor to the beginning.\n",
    "\n",
    "However, you can achieve similar functionality by storing the results in a separate data structure, such as a list or tuple, and then iterate over that data structure multiple times as needed. This way, you can effectively \"restore\" the cursor to a previous position or start by accessing the stored results again."
   ]
  },
  {
   "cell_type": "code",
   "execution_count": 69,
   "id": "09a2fdd6",
   "metadata": {},
   "outputs": [
    {
     "data": {
      "text/plain": [
       "<sqlite3.Cursor at 0x7fc9ffeba500>"
      ]
     },
     "execution_count": 69,
     "metadata": {},
     "output_type": "execute_result"
    }
   ],
   "source": [
    "cursor.execute(\"SELECT * from EMPLOYEE\")"
   ]
  },
  {
   "cell_type": "code",
   "execution_count": 57,
   "id": "c7d67fb0",
   "metadata": {},
   "outputs": [
    {
     "name": "stdout",
     "output_type": "stream",
     "text": [
      "('Ramya', 'Rama Priya', 27, 'F', 9000.0)\n"
     ]
    }
   ],
   "source": [
    "result=cursor.fetchone()\n",
    "print(result)"
   ]
  },
  {
   "cell_type": "code",
   "execution_count": 58,
   "id": "dcf6880a",
   "metadata": {},
   "outputs": [
    {
     "name": "stdout",
     "output_type": "stream",
     "text": [
      "[('Ramya', 'Rama Priya', 27, 'F', 9000.0), ('Sharukh', 'Sheik', 25, 'M', 8300.0), ('Sarmista', 'Sharma', 26, 'F', 10000.0), ('Sharukh', 'Sheik', 25, 'M', 8300.0), ('Sharukh', 'Sheik', 25, 'M', 8300.0), ('Sharukh', 'Sharma', 26, 'F', 1000.0), ('Ramya2', 'Rama Priya2', 27, 'F', 9000.0), ('John', 'Doe', 35, 'M', 7500.0), ('Emily', 'Smith', 29, 'F', 8200.0)]\n"
     ]
    }
   ],
   "source": [
    "result = cursor.fetchall()\n",
    "print(result)"
   ]
  },
  {
   "cell_type": "code",
   "execution_count": 70,
   "id": "b3f5ad05",
   "metadata": {},
   "outputs": [
    {
     "name": "stdout",
     "output_type": "stream",
     "text": [
      "[('Ramya', 'Rama Priya', 27, 'F', 9000.0), ('Ramya', 'Rama Priya', 27, 'F', 9000.0)]\n"
     ]
    }
   ],
   "source": [
    "# cursor.\n",
    "result= cursor.fetchmany(2)\n",
    "print(result)"
   ]
  },
  {
   "cell_type": "markdown",
   "id": "a2a6cd13",
   "metadata": {},
   "source": [
    "## UPDATE\n",
    "Use with **SET** and **WHERE**"
   ]
  },
  {
   "cell_type": "code",
   "execution_count": 79,
   "id": "b1609cdb",
   "metadata": {},
   "outputs": [
    {
     "data": {
      "text/plain": [
       "<sqlite3.Cursor at 0x7fc9ffeba500>"
      ]
     },
     "execution_count": 79,
     "metadata": {},
     "output_type": "execute_result"
    }
   ],
   "source": [
    "sql=\"UPDATE EMPLOYEE SET AGE=AGE+10 WHERE SEX='M'\"\n",
    "cursor.execute(sql)\n"
   ]
  },
  {
   "cell_type": "code",
   "execution_count": 80,
   "id": "88b9b60f",
   "metadata": {},
   "outputs": [
    {
     "name": "stdout",
     "output_type": "stream",
     "text": [
      "('Ramya', 'Rama Priya', 27, 'F', 9000.0)\n",
      "('Ramya', 'Rama Priya', 27, 'F', 9000.0)\n",
      "('Sharukh', 'Sheik', 37, 'M', 8300.0)\n",
      "('Sarmista', 'Sharma', 26, 'F', 10000.0)\n",
      "('Sharukh', 'Sheik', 37, 'M', 8300.0)\n",
      "('Sharukh', 'Sheik', 37, 'M', 8300.0)\n",
      "('Sharukh', 'Sharma', 26, 'F', 1000.0)\n",
      "('Ramya2', 'Rama Priya2', 27, 'F', 9000.0)\n",
      "('John', 'Doe', 47, 'M', 7500.0)\n",
      "('Emily', 'Smith', 29, 'F', 8200.0)\n"
     ]
    }
   ],
   "source": [
    "cursor.execute(\"SELECT * FROM EMPLOYEE\")\n",
    "r=cursor.fetchall()\n",
    "for i in r:\n",
    "    print(i)"
   ]
  },
  {
   "cell_type": "markdown",
   "id": "6fa46fe8",
   "metadata": {},
   "source": [
    "### ALTER\n",
    "modification of shcema, like renaming a column\n",
    "**ALTER**"
   ]
  },
  {
   "cell_type": "code",
   "execution_count": 90,
   "id": "a3f7efcc",
   "metadata": {},
   "outputs": [
    {
     "data": {
      "text/plain": [
       "<sqlite3.Cursor at 0x7fc9ffeba500>"
      ]
     },
     "execution_count": 90,
     "metadata": {},
     "output_type": "execute_result"
    }
   ],
   "source": [
    "#ADD COLUMN\n",
    "# cursor.execute(\"ALTER TABLE your_table ADD COLUMN new_column_name datatype\")\n",
    "\n",
    "# DROP COLUMN\n",
    "# cursor.execute(\"ALTER TABLE your_table DROP COLUMN column_to_drop\")\n",
    "\n",
    "\n",
    "#cursor.execute(\"ALTER TABLE your_table RENAME COLUMN old_column_name TO new_column_name\")\n",
    "sql = \"ALTER TABLE EMPLOYEE RENAME COLUMN sex TO GENDER\"\n",
    "cursor.execute(sql)"
   ]
  },
  {
   "cell_type": "code",
   "execution_count": 106,
   "id": "489b2655",
   "metadata": {},
   "outputs": [
    {
     "name": "stdout",
     "output_type": "stream",
     "text": [
      "\n"
     ]
    },
    {
     "ename": "OperationalError",
     "evalue": "no such table: Employee",
     "output_type": "error",
     "traceback": [
      "\u001b[0;31m---------------------------------------------------------------------------\u001b[0m",
      "\u001b[0;31mOperationalError\u001b[0m                          Traceback (most recent call last)",
      "Cell \u001b[0;32mIn[106], line 6\u001b[0m\n\u001b[1;32m      4\u001b[0m     \u001b[38;5;28mprint\u001b[39m(c)\n\u001b[1;32m      5\u001b[0m \u001b[38;5;28mprint\u001b[39m()\n\u001b[0;32m----> 6\u001b[0m \u001b[43mcursor\u001b[49m\u001b[38;5;241;43m.\u001b[39;49m\u001b[43mexecute\u001b[49m\u001b[43m(\u001b[49m\u001b[38;5;124;43m\"\u001b[39;49m\u001b[38;5;124;43mSelect * from Employee\u001b[39;49m\u001b[38;5;124;43m\"\u001b[39;49m\u001b[43m)\u001b[49m\n\u001b[1;32m      7\u001b[0m r\u001b[38;5;241m=\u001b[39mcursor\u001b[38;5;241m.\u001b[39mfetchall()\n\u001b[1;32m      8\u001b[0m \u001b[38;5;28;01mfor\u001b[39;00m i \u001b[38;5;129;01min\u001b[39;00m r:\n",
      "\u001b[0;31mOperationalError\u001b[0m: no such table: Employee"
     ]
    }
   ],
   "source": [
    "cursor.execute(\"PRAGMA table_info(EMPLOYEE)\")\n",
    "r = cursor.fetchall()\n",
    "for c in r:\n",
    "    print(c)\n",
    "print()\n",
    "cursor.execute(\"Select * from Employee\")\n",
    "r=cursor.fetchall()\n",
    "for i in r:\n",
    "    print(i)\n",
    "    \n",
    "    "
   ]
  },
  {
   "cell_type": "markdown",
   "id": "b87b3594",
   "metadata": {},
   "source": [
    "### ALTER Rename table\n",
    "do not need to type the name again, as it is indicated at the beginning\n",
    "\n"
   ]
  },
  {
   "cell_type": "code",
   "execution_count": 107,
   "id": "8db63d88",
   "metadata": {},
   "outputs": [
    {
     "ename": "OperationalError",
     "evalue": "no such table: EMPLOYEE",
     "output_type": "error",
     "traceback": [
      "\u001b[0;31m---------------------------------------------------------------------------\u001b[0m",
      "\u001b[0;31mOperationalError\u001b[0m                          Traceback (most recent call last)",
      "Cell \u001b[0;32mIn[107], line 2\u001b[0m\n\u001b[1;32m      1\u001b[0m sql \u001b[38;5;241m=\u001b[39m \u001b[38;5;124m\"\u001b[39m\u001b[38;5;124mALTER TABLE EMPLOYEE RENAME TO IVANEE\u001b[39m\u001b[38;5;124m\"\u001b[39m\n\u001b[0;32m----> 2\u001b[0m \u001b[43mcursor\u001b[49m\u001b[38;5;241;43m.\u001b[39;49m\u001b[43mexecute\u001b[49m\u001b[43m(\u001b[49m\u001b[43msql\u001b[49m\u001b[43m)\u001b[49m\n",
      "\u001b[0;31mOperationalError\u001b[0m: no such table: EMPLOYEE"
     ]
    }
   ],
   "source": [
    "\n",
    "sql = \"ALTER TABLE EMPLOYEE RENAME TO IVANEE\"\n",
    "cursor.execute(sql)\n",
    "\n"
   ]
  },
  {
   "cell_type": "markdown",
   "id": "9ffc0191",
   "metadata": {},
   "source": [
    "### GET ALL TABLES IN DB"
   ]
  },
  {
   "cell_type": "code",
   "execution_count": 116,
   "id": "483e7bee",
   "metadata": {},
   "outputs": [],
   "source": [
    "def view_database():\n",
    "    # Execute the query to retrieve table names\n",
    "    cursor.execute(\"SELECT name FROM sqlite_master WHERE type='table'\")\n",
    "\n",
    "    # Fetch all the table names\n",
    "    tables = cursor.fetchall()\n",
    "\n",
    "    # Print the table names\n",
    "    for table in tables:\n",
    "        print(table[0])\n",
    "view_database()"
   ]
  },
  {
   "cell_type": "code",
   "execution_count": 110,
   "id": "4fd423ec",
   "metadata": {},
   "outputs": [
    {
     "name": "stdout",
     "output_type": "stream",
     "text": [
      "(0, 'FIRST_NAME', 'CHAR(20)', 1, None, 0)\n",
      "(1, 'LAST_NAME', 'CHAR(20)', 0, None, 0)\n",
      "(2, 'AGE', 'INT', 1, None, 0)\n",
      "(3, 'SEX', 'CHAR(1)', 0, None, 0)\n",
      "(4, 'INCOME', 'FLOAT', 0, None, 0)\n",
      "\n",
      "('Ramya', 'Rama Priya', 27, 'F', 9000.0)\n",
      "('Ramya', 'Rama Priya', 27, 'F', 9000.0)\n",
      "('Sharukh', 'Sheik', 25, 'M', 8300.0)\n",
      "('Sarmista', 'Sharma', 26, 'F', 10000.0)\n",
      "('Sharukh', 'Sheik', 25, 'M', 8300.0)\n",
      "('Sharukh', 'Sheik', 25, 'M', 8300.0)\n",
      "('Sharukh', 'Sharma', 26, 'F', 1000.0)\n",
      "('Ramya2', 'Rama Priya2', 27, 'F', 9000.0)\n",
      "('John', 'Doe', 35, 'M', 7500.0)\n",
      "('Emily', 'Smith', 29, 'F', 8200.0)\n"
     ]
    }
   ],
   "source": [
    "cursor.execute(\"PRAGMA table_info(IVANEE)\")\n",
    "r = cursor.fetchall()\n",
    "for c in r:\n",
    "    print(c)\n",
    "print()\n",
    "cursor.execute(\"Select * from IVANEE\")\n",
    "r=cursor.fetchall()\n",
    "for i in r:\n",
    "    print(i)\n",
    "    "
   ]
  },
  {
   "cell_type": "markdown",
   "id": "e5183adf",
   "metadata": {},
   "source": [
    "**Task**:\n",
    "task create table pd df.read_sql()    \n",
    "\n",
    "\n",
    "pandas.read_sql(sql, con, index_col=None, coerce_float=True, params=None, parse_dates=None, columns=None, chunksize=None, dtype_backend=_NoDefault.no_default, dtype=None)[source]\n"
   ]
  },
  {
   "cell_type": "code",
   "execution_count": 111,
   "id": "34c476ec",
   "metadata": {},
   "outputs": [],
   "source": [
    "import pandas as pd\n",
    "sql=\"Select * from IVANEE\"\n",
    "df = pd.read_sql(sql,conn )"
   ]
  },
  {
   "cell_type": "code",
   "execution_count": 112,
   "id": "df50b3ea",
   "metadata": {},
   "outputs": [
    {
     "data": {
      "text/html": [
       "<div>\n",
       "<style scoped>\n",
       "    .dataframe tbody tr th:only-of-type {\n",
       "        vertical-align: middle;\n",
       "    }\n",
       "\n",
       "    .dataframe tbody tr th {\n",
       "        vertical-align: top;\n",
       "    }\n",
       "\n",
       "    .dataframe thead th {\n",
       "        text-align: right;\n",
       "    }\n",
       "</style>\n",
       "<table border=\"1\" class=\"dataframe\">\n",
       "  <thead>\n",
       "    <tr style=\"text-align: right;\">\n",
       "      <th></th>\n",
       "      <th>FIRST_NAME</th>\n",
       "      <th>LAST_NAME</th>\n",
       "      <th>AGE</th>\n",
       "      <th>SEX</th>\n",
       "      <th>INCOME</th>\n",
       "    </tr>\n",
       "  </thead>\n",
       "  <tbody>\n",
       "    <tr>\n",
       "      <th>0</th>\n",
       "      <td>Ramya</td>\n",
       "      <td>Rama Priya</td>\n",
       "      <td>27</td>\n",
       "      <td>F</td>\n",
       "      <td>9000.0</td>\n",
       "    </tr>\n",
       "    <tr>\n",
       "      <th>1</th>\n",
       "      <td>Ramya</td>\n",
       "      <td>Rama Priya</td>\n",
       "      <td>27</td>\n",
       "      <td>F</td>\n",
       "      <td>9000.0</td>\n",
       "    </tr>\n",
       "    <tr>\n",
       "      <th>2</th>\n",
       "      <td>Sharukh</td>\n",
       "      <td>Sheik</td>\n",
       "      <td>25</td>\n",
       "      <td>M</td>\n",
       "      <td>8300.0</td>\n",
       "    </tr>\n",
       "    <tr>\n",
       "      <th>3</th>\n",
       "      <td>Sarmista</td>\n",
       "      <td>Sharma</td>\n",
       "      <td>26</td>\n",
       "      <td>F</td>\n",
       "      <td>10000.0</td>\n",
       "    </tr>\n",
       "    <tr>\n",
       "      <th>4</th>\n",
       "      <td>Sharukh</td>\n",
       "      <td>Sheik</td>\n",
       "      <td>25</td>\n",
       "      <td>M</td>\n",
       "      <td>8300.0</td>\n",
       "    </tr>\n",
       "    <tr>\n",
       "      <th>5</th>\n",
       "      <td>Sharukh</td>\n",
       "      <td>Sheik</td>\n",
       "      <td>25</td>\n",
       "      <td>M</td>\n",
       "      <td>8300.0</td>\n",
       "    </tr>\n",
       "    <tr>\n",
       "      <th>6</th>\n",
       "      <td>Sharukh</td>\n",
       "      <td>Sharma</td>\n",
       "      <td>26</td>\n",
       "      <td>F</td>\n",
       "      <td>1000.0</td>\n",
       "    </tr>\n",
       "    <tr>\n",
       "      <th>7</th>\n",
       "      <td>Ramya2</td>\n",
       "      <td>Rama Priya2</td>\n",
       "      <td>27</td>\n",
       "      <td>F</td>\n",
       "      <td>9000.0</td>\n",
       "    </tr>\n",
       "    <tr>\n",
       "      <th>8</th>\n",
       "      <td>John</td>\n",
       "      <td>Doe</td>\n",
       "      <td>35</td>\n",
       "      <td>M</td>\n",
       "      <td>7500.0</td>\n",
       "    </tr>\n",
       "    <tr>\n",
       "      <th>9</th>\n",
       "      <td>Emily</td>\n",
       "      <td>Smith</td>\n",
       "      <td>29</td>\n",
       "      <td>F</td>\n",
       "      <td>8200.0</td>\n",
       "    </tr>\n",
       "  </tbody>\n",
       "</table>\n",
       "</div>"
      ],
      "text/plain": [
       "  FIRST_NAME    LAST_NAME  AGE SEX   INCOME\n",
       "0      Ramya   Rama Priya   27   F   9000.0\n",
       "1      Ramya   Rama Priya   27   F   9000.0\n",
       "2    Sharukh        Sheik   25   M   8300.0\n",
       "3   Sarmista       Sharma   26   F  10000.0\n",
       "4    Sharukh        Sheik   25   M   8300.0\n",
       "5    Sharukh        Sheik   25   M   8300.0\n",
       "6    Sharukh       Sharma   26   F   1000.0\n",
       "7     Ramya2  Rama Priya2   27   F   9000.0\n",
       "8       John          Doe   35   M   7500.0\n",
       "9      Emily        Smith   29   F   8200.0"
      ]
     },
     "execution_count": 112,
     "metadata": {},
     "output_type": "execute_result"
    }
   ],
   "source": [
    "df"
   ]
  },
  {
   "cell_type": "markdown",
   "id": "2b0fa8c9",
   "metadata": {},
   "source": [
    "## MISSED TASK "
   ]
  },
  {
   "cell_type": "markdown",
   "id": "cbd88c84",
   "metadata": {},
   "source": [
    "## Delete values"
   ]
  },
  {
   "cell_type": "code",
   "execution_count": 113,
   "id": "f0f1075e",
   "metadata": {},
   "outputs": [],
   "source": [
    "sql=\"DELETE FROM IVANEE WHERE AGE>20\"\n",
    "cursor.execute(sql)\n",
    "r=cursor.fetchall()\n",
    "for c in r:\n",
    "    print(c)"
   ]
  },
  {
   "cell_type": "markdown",
   "id": "0b8ed567",
   "metadata": {},
   "source": [
    "## DROP TABLE"
   ]
  },
  {
   "cell_type": "code",
   "execution_count": 115,
   "id": "5e250e28",
   "metadata": {},
   "outputs": [],
   "source": [
    "sql=\"DROP TABLE IVANEE\"\n",
    "cursor.execute(sql)\n",
    "view_database()"
   ]
  },
  {
   "cell_type": "code",
   "execution_count": null,
   "id": "21615fb4",
   "metadata": {},
   "outputs": [],
   "source": []
  },
  {
   "cell_type": "code",
   "execution_count": null,
   "id": "2dfca413",
   "metadata": {},
   "outputs": [],
   "source": []
  },
  {
   "cell_type": "markdown",
   "id": "5d444fcf",
   "metadata": {},
   "source": [
    "# NOSQL\n",
    "## MongoDB\n",
    "### pymongo"
   ]
  },
  {
   "cell_type": "code",
   "execution_count": 117,
   "id": "702c36df",
   "metadata": {},
   "outputs": [],
   "source": [
    "import pymongo\n",
    "from pymongo import MongoClient\n",
    "\n"
   ]
  },
  {
   "cell_type": "code",
   "execution_count": 118,
   "id": "8ea29506",
   "metadata": {},
   "outputs": [],
   "source": [
    "client = MongoClient()\n",
    "db=client.test"
   ]
  },
  {
   "cell_type": "code",
   "execution_count": 119,
   "id": "ca58c7cd",
   "metadata": {},
   "outputs": [],
   "source": [
    "employee= db.employee"
   ]
  },
  {
   "cell_type": "code",
   "execution_count": null,
   "id": "7f79a42b",
   "metadata": {},
   "outputs": [],
   "source": []
  }
 ],
 "metadata": {
  "kernelspec": {
   "display_name": "Python 3 (ipykernel)",
   "language": "python",
   "name": "python3"
  },
  "language_info": {
   "codemirror_mode": {
    "name": "ipython",
    "version": 3
   },
   "file_extension": ".py",
   "mimetype": "text/x-python",
   "name": "python",
   "nbconvert_exporter": "python",
   "pygments_lexer": "ipython3",
   "version": "3.9.12"
  }
 },
 "nbformat": 4,
 "nbformat_minor": 5
}
