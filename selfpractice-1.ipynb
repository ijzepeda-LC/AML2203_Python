{
 "cells": [
  {
   "cell_type": "markdown",
   "id": "14d8066c",
   "metadata": {},
   "source": [
    "# Self Practice #1\n",
    "## Author: Ivan Zepeda\n",
    "## C0883949\n",
    "\n",
    "Do not use any of Python functions:\n",
    "\n",
    "A-Write a Python program to check if a number is a perfect square\n",
    "\n",
    "B- Write a Python program to find a missing number from a list. \n",
    "Input : [1,2,3,4,6,7,8]\n",
    "Output : 5\n",
    "\n",
    " \n",
    "\n",
    "C- Write a Python program to find the single number in a list that doesn't occur twice.\n",
    "Input : [5, 3, 4, 3, 4]\n",
    "Output : 5\n",
    "\n"
   ]
  },
  {
   "cell_type": "code",
   "execution_count": null,
   "id": "20a4e382",
   "metadata": {},
   "outputs": [],
   "source": [
    "def is_perfect_sqr(num):\n",
    "    \"\"\"Not using any funciton inclusing math. It is not the best in Time complexity O(n)\"\"\"\n",
    "    print(f\"Is the number {num} squareable? \",end=\"\")\n",
    "    for i in range(1,num-1):\n",
    "        if(i*i==num):\n",
    "            return True\n",
    "    return False\n",
    "    \n",
    "    \n",
    "def find_missing_number(numlist):\n",
    "    numlist.sort()\n",
    "    \"\"\"Not all test cases, neither more than one element.\"\"\"\n",
    "    n=0\n",
    "    for i in range(0,len(numlist)-1):\n",
    "        n=numlist[i] \n",
    "        if(n+1!=numlist[i+1]):\n",
    "            return n+1\n",
    "    return -1\n",
    "    \n",
    "    \n",
    "    \n",
    "def find_loner(numlist):\n",
    "    \"\"\"Not covering all test cases, such as many lone numbers\"\"\"\n",
    "    \"\"\"with lastindex of\"\"\"\n",
    "#     for n in numlist:\n",
    "#         if(numlist.index(n)==numlist[::-1].lastIndex(n)):\n",
    "#             return n\n",
    "    \"\"\" With a dictionary\"\"\"\n",
    "    dic={}\n",
    "    for n in numlist:\n",
    "        if(n in dic.keys()):\n",
    "            dic[n]=dic[n]+1            \n",
    "        else:\n",
    "            dic[n]=1\n",
    "    reverse_dic={}\n",
    "    for k,v in dic.items():\n",
    "        reverse_dic[v]=k\n",
    "    return reverse_dic[1]\n",
    "    \n",
    "    "
   ]
  },
  {
   "cell_type": "code",
   "execution_count": 17,
   "id": "36696985",
   "metadata": {},
   "outputs": [
    {
     "name": "stdout",
     "output_type": "stream",
     "text": [
      "5\n",
      "Is the number 9 squareable? True\n",
      "Is the number 12 squareable? False\n",
      "Is the number 25 squareable? True\n",
      "5\n"
     ]
    }
   ],
   "source": [
    "print(find_missing_number([1,2,3,4,6,7,8] ))\n",
    "\n",
    "print(is_perfect_sqr(9))\n",
    "print(is_perfect_sqr(12))\n",
    "print(is_perfect_sqr(25))\n",
    "\n",
    "print(find_loner([5, 3, 4, 3, 4] ))"
   ]
  },
  {
   "cell_type": "code",
   "execution_count": null,
   "id": "16e57ac8",
   "metadata": {},
   "outputs": [],
   "source": []
  }
 ],
 "metadata": {
  "kernelspec": {
   "display_name": "Python 3 (ipykernel)",
   "language": "python",
   "name": "python3"
  },
  "language_info": {
   "codemirror_mode": {
    "name": "ipython",
    "version": 3
   },
   "file_extension": ".py",
   "mimetype": "text/x-python",
   "name": "python",
   "nbconvert_exporter": "python",
   "pygments_lexer": "ipython3",
   "version": "3.9.12"
  }
 },
 "nbformat": 4,
 "nbformat_minor": 5
}
