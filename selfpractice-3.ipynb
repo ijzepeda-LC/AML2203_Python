{
 "cells": [
  {
   "cell_type": "markdown",
   "id": "14d8066c",
   "metadata": {},
   "source": [
    "# Self Practice # w4\n",
    "## Author: Ivan Zepeda\n",
    "## C0883949"
   ]
  },
  {
   "cell_type": "markdown",
   "id": "f635aaba",
   "metadata": {},
   "source": [
    "Write a Python program to find the single element in a list where every element appears multiple times except for one.  \n",
    "Input : [5, 3, 4, 3, 5, 5, 3],  \n",
    "Output : 4  \n"
   ]
  },
  {
   "cell_type": "code",
   "execution_count": 9,
   "id": "ba7399b5",
   "metadata": {},
   "outputs": [
    {
     "data": {
      "text/plain": [
       "3"
      ]
     },
     "execution_count": 9,
     "metadata": {},
     "output_type": "execute_result"
    }
   ],
   "source": [
    "def find_loner(nums):\n",
    "    set_nums=set(nums)\n",
    "    dic={}\n",
    "    for n in nums:\n",
    "        if n not in dic.keys():\n",
    "            dic[n]=1\n",
    "        else:\n",
    "            dic[n]=dic[n]+1\n",
    "    dic={v:k for k,v in dic.items()}\n",
    "    for n in dic.keys():\n",
    "        if n >1:\n",
    "            return n\n",
    "    \n",
    "    return -1\n",
    "find_loner([5, 3, 4, 3, 5, 5, 3])"
   ]
  },
  {
   "cell_type": "markdown",
   "id": "8ecbbe84",
   "metadata": {},
   "source": [
    "Write a Python program to compute and return the square root of a given 'integer'.   \n",
    "Input : 16  \n",
    "Output : 4  \n",
    "Note : The returned value will be an 'integer', do not use square root functions from python."
   ]
  },
  {
   "cell_type": "code",
   "execution_count": 5,
   "id": "69fe99cd",
   "metadata": {},
   "outputs": [
    {
     "data": {
      "text/plain": [
       "4.0"
      ]
     },
     "execution_count": 5,
     "metadata": {},
     "output_type": "execute_result"
    }
   ],
   "source": [
    "def get_square(num):\n",
    "    return(num**0.5)\n",
    "get_square(16)"
   ]
  },
  {
   "cell_type": "markdown",
   "id": "3b0c1619",
   "metadata": {},
   "source": [
    "Write a Python program to check a sequence of numbers is a geometric progression or not.   \n",
    "Input : [2, 6, 18, 54]  \n",
    "Output : True  "
   ]
  },
  {
   "cell_type": "code",
   "execution_count": 8,
   "id": "74b7f912",
   "metadata": {},
   "outputs": [
    {
     "name": "stdout",
     "output_type": "stream",
     "text": [
      "[2, 6, 18, 54]\n"
     ]
    },
    {
     "data": {
      "text/plain": [
       "True"
      ]
     },
     "execution_count": 8,
     "metadata": {},
     "output_type": "execute_result"
    }
   ],
   "source": [
    "def is_geometric_progression(nums):\n",
    "    #     ar^1,ar^2,ar^3...\n",
    "    n=len(nums)\n",
    "    l=[]\n",
    "    for i in range(n):\n",
    "        l.append(2*(3**i))\n",
    "    print(l)\n",
    "    return l==nums\n",
    "is_geometric_progression([2, 6, 18, 54])"
   ]
  },
  {
   "cell_type": "code",
   "execution_count": null,
   "id": "f459c9a2",
   "metadata": {},
   "outputs": [],
   "source": []
  }
 ],
 "metadata": {
  "kernelspec": {
   "display_name": "Python 3 (ipykernel)",
   "language": "python",
   "name": "python3"
  },
  "language_info": {
   "codemirror_mode": {
    "name": "ipython",
    "version": 3
   },
   "file_extension": ".py",
   "mimetype": "text/x-python",
   "name": "python",
   "nbconvert_exporter": "python",
   "pygments_lexer": "ipython3",
   "version": "3.9.12"
  }
 },
 "nbformat": 4,
 "nbformat_minor": 5
}
