{
 "cells": [
  {
   "cell_type": "markdown",
   "metadata": {},
   "source": [
    "# Question 1   (10 Marks)"
   ]
  },
  {
   "cell_type": "markdown",
   "metadata": {},
   "source": [
    "Given a string s, find the length of the longest substring  without repeating characters. how mant times does that repeat in your main string?\n",
    "\n",
    " \n",
    "\n",
    "Example 1:\n",
    "\n",
    "Input: s = \"abcabcbb\"\n",
    "\n",
    "Output: 3, abc , 2\n",
    "\n",
    "Explanation: The answer is \"abc\", with the length of 3 and repeats 2 times\n",
    "\n",
    "\n",
    "Example 2:\n",
    "\n",
    "Input: s = \"bbbbb\"\n",
    "\n",
    "Output: 1, b , 4\n",
    "\n",
    "Explanation: The answer is \"b\", with the length of 1 and repeats 4 times\n",
    "\n",
    "Write a function and use input method to test\n",
    "\n"
   ]
  },
  {
   "cell_type": "code",
   "execution_count": 18,
   "metadata": {},
   "outputs": [
    {
     "name": "stdout",
     "output_type": "stream",
     "text": [
      "3, abc, 2\n",
      "1, b, 4\n"
     ]
    }
   ],
   "source": [
    "#Answer\n",
    "def count_max_substrings(text):\n",
    "    dic={}\n",
    "    substrings=[]\n",
    "    start=0\n",
    "    end=0\n",
    "    for i,c in enumerate(text):\n",
    "        if(c in dic.keys()):\n",
    "            # add substrings and restart dic\n",
    "            dic={}\n",
    "            if(c==text[i-1]):\n",
    "                end=i-1\n",
    "            else:\n",
    "                end=i # if is not the same as lastone, then end=i, else end=i-1\n",
    "            substrings.append(text[start:end])\n",
    "            start=i #resets\n",
    "        else:\n",
    "            dic[c]=1\n",
    "            \n",
    "#     print(\"substrings {}\".format(substrings))\n",
    "    # now get the max length \n",
    "    max_str = \"\"\n",
    "    max_len=0\n",
    "    \n",
    "    for ss in substrings:\n",
    "        if(len(ss)>= len(max_str) and ss!=\"\"):\n",
    "            max_str=ss\n",
    "            max_len=len(max_str)\n",
    "    #and count the repeated max\n",
    "    max_count = text.count(max_str)\n",
    "    \n",
    "    return \"{}, {}, {}\".format(str(max_len), str(max_str), str(max_count))\n",
    "\n",
    "# Testcase\n",
    "print(count_max_substrings('abcabcbb')) #     3, abc , 2\n",
    "print(count_max_substrings('bbbb')) #     1, b , 4\n"
   ]
  },
  {
   "cell_type": "code",
   "execution_count": 19,
   "metadata": {},
   "outputs": [
    {
     "name": "stdout",
     "output_type": "stream",
     "text": [
      "Give a string to count longest non-repeated-substring: asdmnsabads\n"
     ]
    },
    {
     "data": {
      "text/plain": [
       "'5, asdmn, 1'"
      ]
     },
     "execution_count": 19,
     "metadata": {},
     "output_type": "execute_result"
    }
   ],
   "source": [
    "count_max_substrings(input(\"Give a string to count longest non-repeated-substring: \"))"
   ]
  },
  {
   "cell_type": "markdown",
   "metadata": {},
   "source": [
    "# Question 2 (15 Marks)"
   ]
  },
  {
   "cell_type": "markdown",
   "metadata": {},
   "source": [
    "Write and test a fucntion to determine if a number n is happy. Make sure to use input method to test it!\n",
    "\n",
    "A happy number is a number defined by the following process:\n",
    "\n",
    "Starting with any positive integer, replace the number by the sum of the squares of its digits.\n",
    "\n",
    "Repeat the process until the number equals 1 (where it will stay), or it loops endlessly in a cycle which does not include 1.\n",
    "\n",
    "Those numbers for which this process ends in 1 are happy.\n",
    "\n",
    "Return true if n is a happy number, and false if not.\n",
    "\n",
    "Example 1:\n",
    "\n",
    "Input: n = 19\n",
    "\n",
    "Output: true\n",
    "\n",
    "Explanation:\n",
    "\n",
    "1 ** 2 + 9 ** 2 = 82\n",
    "\n",
    "8 ** 2 + 2 ** 2 = 68\n",
    "\n",
    "6 ** 2 + 8 ** 2 = 100\n",
    "\n",
    "1 ** 2 + 0 ** 2 + 0 **2 = 1\n",
    "\n",
    "\n"
   ]
  },
  {
   "cell_type": "code",
   "execution_count": 23,
   "metadata": {},
   "outputs": [
    {
     "name": "stdout",
     "output_type": "stream",
     "text": [
      "[1, 81] Total of nums 82\n",
      "[64, 4] Total of nums 68\n",
      "[36, 64] Total of nums 100\n",
      "[1, 0, 0] Total of nums 1\n",
      "True\n"
     ]
    }
   ],
   "source": [
    "#Answer\n",
    "def is_n_happy(num):\n",
    "    if(num<0):\n",
    "        return False\n",
    "    #sum of squares of its digits\n",
    "    \n",
    "    num\n",
    "    while( num != 1):\n",
    "        nums=[]\n",
    "        nums= [ int(x)**2 for x in str(num)]\n",
    "        print(nums, end=\" \")\n",
    "        num=sum(nums)\n",
    "        print(\"Total of nums\", num)\n",
    "    return True\n",
    "    \n",
    "# Test cases\n",
    "print(is_n_happy(19))"
   ]
  },
  {
   "cell_type": "code",
   "execution_count": null,
   "metadata": {},
   "outputs": [],
   "source": [
    "print(is_n_happy(input(\"Enter a number: \")))"
   ]
  },
  {
   "cell_type": "markdown",
   "metadata": {},
   "source": [
    "# Question 3  (15 Marks)"
   ]
  },
  {
   "cell_type": "markdown",
   "metadata": {},
   "source": [
    "Write a function and use input method!\n",
    "\n",
    "Roman numerals are represented by seven different symbols: I, V, X, L, C, D and M.\n",
    "\n",
    "Symbol   :    Value\n",
    "\n",
    "I   :          1\n",
    "\n",
    "V   :          5\n",
    "\n",
    "X    :         10\n",
    "\n",
    "L    :         50\n",
    "\n",
    "C    :         100\n",
    "\n",
    "D     :        500\n",
    "\n",
    "M     :        1000\n",
    "\n",
    "For example, 2 is written as II in Roman numeral, just two one's added together. 12 is written as XII, which is simply X + II. The number 27 is written as XXVII, which is XX + V + II.\n",
    "\n",
    "Roman numerals are usually written largest to smallest from left to right. However, the numeral for four is not IIII. Instead, the number four is written as IV. Because the one is before the five we subtract it making four. The same principle applies to the number nine, which is written as IX. There are six instances where subtraction is used:\n",
    "\n",
    "I can be placed before V (5) and X (10) to make 4 and 9. \n",
    "\n",
    "X can be placed before L (50) and C (100) to make 40 and 90. \n",
    "\n",
    "C can be placed before D (500) and M (1000) to make 400 and 900.\n",
    "\n",
    "Given an integer, convert it to a roman numeral.\n",
    "\n",
    "\n",
    " \n",
    "\n",
    "Example 1:\n",
    "\n",
    "Input: num = 3\n",
    "\n",
    "Output: \"III\"\n",
    "\n",
    "Explanation: 3 is represented as 3 ones.\n",
    "\n",
    "Example 2:\n",
    "\n",
    "Input: num = 58\n",
    "\n",
    "Output: \"LVIII\"\n",
    "\n",
    "Explanation: L = 50, V = 5, III = 3."
   ]
  },
  {
   "cell_type": "code",
   "execution_count": 44,
   "metadata": {},
   "outputs": [
    {
     "name": "stdout",
     "output_type": "stream",
     "text": [
      "MMDCCXXXI\n",
      "III\n",
      "LVIII\n"
     ]
    }
   ],
   "source": [
    "#Answer on bruteforce\n",
    "def get_roman(num):\n",
    "    num=int(num)\n",
    "    u=[\"I\",\"V\"]\n",
    "    d=[\"X\",\"L\"]\n",
    "    c=[\"C\",\"D\"]\n",
    "    m=[\"M\"]\n",
    "    # ir restando, 8 - 5=> V + (3) => 3*I => VIII, 9-> XC\n",
    "    result=\"\"\n",
    "    if(num>=1000):\n",
    "        temp=num/1000\n",
    "        _m=int(str(temp).split('.')[0])\n",
    "        num=int(str(temp).split('.')[1])\n",
    "        result = \"M\" *_m\n",
    "    if(num>=100):\n",
    "        temp=num/100\n",
    "        _temp=int(str(temp).split('.')[0])\n",
    "        num=int(str(temp).split('.')[1])\n",
    "        if _temp==9: \n",
    "            result += \"CM\"\n",
    "        elif _temp==4:\n",
    "            result += \"CD\"\n",
    "        elif _temp>=5:\n",
    "            result+=\"D\"\n",
    "            _temp-=5\n",
    "        if _temp>0:\n",
    "            result+= \"C\" * _temp\n",
    "    if(num>=10):\n",
    "        temp=num/10\n",
    "        _temp=int(str(temp).split('.')[0])\n",
    "        num=int(str(temp).split('.')[1])\n",
    "        if _temp==9: \n",
    "            result += \"XC\"\n",
    "        elif _temp==4:\n",
    "            result += \"XL\"\n",
    "        elif _temp>=5:\n",
    "            result+=\"L\"\n",
    "            _temp-=5\n",
    "        if _temp>0:\n",
    "            result+= \"X\" * _temp\n",
    "      \n",
    "    if(num>=1):\n",
    "        _temp=num\n",
    "        if _temp==9: \n",
    "            result += \"IX\"\n",
    "        elif _temp==4:\n",
    "            result += \"IV\"\n",
    "        elif _temp>=5:\n",
    "            result+=\"V\"\n",
    "            _temp-=5\n",
    "        if _temp>0:\n",
    "            result+= \"I\" * _temp\n",
    "      \n",
    "    \n",
    "    print(result)\n",
    "        \n",
    "    \n",
    "get_roman(2731)\n",
    "\n",
    "get_roman(3) #III\n",
    "get_roman(58) #LVIII\n"
   ]
  },
  {
   "cell_type": "code",
   "execution_count": 47,
   "metadata": {},
   "outputs": [
    {
     "name": "stdout",
     "output_type": "stream",
     "text": [
      "Enter a number to be converted to roman: 67\n",
      "LXVII\n"
     ]
    }
   ],
   "source": [
    "get_roman(input(\"Enter a number to be converted to roman: \"))\n"
   ]
  },
  {
   "cell_type": "code",
   "execution_count": null,
   "metadata": {},
   "outputs": [],
   "source": []
  },
  {
   "cell_type": "markdown",
   "metadata": {},
   "source": [
    "# Good Luck "
   ]
  },
  {
   "cell_type": "code",
   "execution_count": null,
   "metadata": {},
   "outputs": [],
   "source": []
  }
 ],
 "metadata": {
  "kernelspec": {
   "display_name": "Python 3 (ipykernel)",
   "language": "python",
   "name": "python3"
  },
  "language_info": {
   "codemirror_mode": {
    "name": "ipython",
    "version": 3
   },
   "file_extension": ".py",
   "mimetype": "text/x-python",
   "name": "python",
   "nbconvert_exporter": "python",
   "pygments_lexer": "ipython3",
   "version": "3.9.12"
  }
 },
 "nbformat": 4,
 "nbformat_minor": 2
}
