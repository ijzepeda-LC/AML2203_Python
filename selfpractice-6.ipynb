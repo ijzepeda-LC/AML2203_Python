{
 "cells": [
  {
   "cell_type": "markdown",
   "id": "14d8066c",
   "metadata": {},
   "source": [
    "# Self Practice #\n",
    "## Author: Ivan Zepeda\n",
    "## C0883949"
   ]
  },
  {
   "cell_type": "markdown",
   "id": "14808c92",
   "metadata": {},
   "source": [
    " 1-Write a Python program to check a sequence of numbers is an arithmetic progression or not.   \n",
    "Input : [5, 7, 9, 11]  \n",
    "Output : True  \n",
    "In mathematics, an arithmetic progression or arithmetic sequence is a sequence of numbers such that the difference between the consecutive terms is constant.  \n",
    "For example, the sequence 5, 7, 9, 11, 13, 15 ... is an arithmetic progression with common difference of 2.\n",
    "\n",
    " _"
   ]
  },
  {
   "cell_type": "code",
   "execution_count": 3,
   "id": "3c408c07",
   "metadata": {},
   "outputs": [
    {
     "name": "stdout",
     "output_type": "stream",
     "text": [
      "True\n",
      "False\n"
     ]
    }
   ],
   "source": [
    "def is_arit_progression(nums):\n",
    "    if (len(nums)<2):\n",
    "        return True\n",
    "    diff=None\n",
    "    for i in range(1,len(nums)):\n",
    "        if (diff==None):\n",
    "            diff= nums[i]-nums[i-1]\n",
    "        elif((nums[i]-nums[i-1])!=diff):\n",
    "            return False\n",
    "    return True\n",
    "print(is_arit_progression([5, 7, 9, 11]))\n",
    "print(is_arit_progression([5, 7, 11, 13]))\n"
   ]
  },
  {
   "cell_type": "markdown",
   "id": "1dbb5170",
   "metadata": {},
   "source": [
    "2-Write a Python program to check whether a given number is an ugly number.  \n",
    "Input : 12  \n",
    "Output : True  \n",
    "Ugly numbers are positive numbers whose only prime factors are 2, 3 **OR** 5. The sequence 1, 2, 3, 4, 5, 6, 8, 9, 10, 12, ...  \n",
    "shows the first 10 ugly numbers.  \n",
    "Note: 1 is typically treated as an ugly number\n",
    "\n",
    " "
   ]
  },
  {
   "cell_type": "code",
   "execution_count": 6,
   "id": "0aac70cd",
   "metadata": {},
   "outputs": [
    {
     "name": "stdout",
     "output_type": "stream",
     "text": [
      "False\n",
      "False\n",
      "True\n",
      "False\n",
      "True\n",
      "True\n",
      "True\n",
      "False\n"
     ]
    }
   ],
   "source": [
    "def is_ugly(num):\n",
    "    # Any of 2,3 or 5, any other option will be false, I should focus only on that\n",
    "    \n",
    "    #Positive numbers only\n",
    "    if num <=0:\n",
    "        return False\n",
    "    for factor in [2,3,5]:\n",
    "        # if its modulus is 0, then it can go through all numbers until reach 1\n",
    "        while num%factor == 0: #if fails to return 0, will go to next factor, if none goes through, then is not ugly\n",
    "            num //= factor #Floor division of the number y the factor,\n",
    "    return num == 1  # At the end it should be only 1, and return true, or false\n",
    "\n",
    "\n",
    "is_ugly(12)\n",
    "print(is_ugly(0))     # False (Zero is not a positive number)\n",
    "print(is_ugly(-8))    # False (Negative numbers are not considered ugly)\n",
    "print(is_ugly(1))     # True (1 is considered an ugly number)\n",
    "print(is_ugly(7))     # False (Prime number without factors of 2, 3, or 5)\n",
    "print(is_ugly(30))    # True (Factors: 2 * 3 * 5)\n",
    "print(is_ugly(45))    # True (Factors: 3 * 3 * 5)\n",
    "print(is_ugly(150))   # True (Factors: 2 * 3 * 5 * 5)\n",
    "print(is_ugly(123456))# False (No factors of 2, 3, or 5)"
   ]
  },
  {
   "cell_type": "markdown",
   "id": "577b8291",
   "metadata": {},
   "source": [
    "3-Write a Python Function to find the single number in a list that doesn't occur n times.  \n",
    "Input : [5, 3,3,4, 4, 3, 4], N=3  \n",
    "Output : 5"
   ]
  },
  {
   "cell_type": "markdown",
   "id": "cf2a810a",
   "metadata": {},
   "source": [
    "\n",
    "**It is funny, ChatGPT was trained on info on internet, and obviously this problem was on internet. Im not sure if the question is a bit different to what is on leetcode, because GPT tries to solve it in a different way all the time, even the test cases gave different results, When I ask GPT about it, and only  quoting the test case, It is aware that the result is not correct, but it keeps providing that anwer over and over**"
   ]
  },
  {
   "cell_type": "code",
   "execution_count": 11,
   "id": "b34093d0",
   "metadata": {},
   "outputs": [
    {
     "name": "stdout",
     "output_type": "stream",
     "text": [
      "[5]\n",
      "[1, 2, 3]\n",
      "[]\n",
      "[]\n",
      "[1, 5]\n",
      "[1]\n"
     ]
    }
   ],
   "source": [
    "#Code made by myself\n",
    "def number_not_n_times(nums,occurences):\n",
    "    results=[]\n",
    "    for n in set(nums):\n",
    "        if nums.count(n)!=occurences:\n",
    "            results.append(n)\n",
    "    return results\n",
    "        \n",
    "        # testcases provided by gpt\n",
    "print(number_not_n_times([5, 3, 3, 4, 4, 3, 4], 3))\n",
    "print(number_not_n_times([1, 1, 1, 2, 2, 3, 3, 3], 4))\n",
    "print(number_not_n_times([4, 4, 4, 5, 5, 5, 6, 6, 6], 3))\n",
    "print(number_not_n_times([9, 9, 9, 9, 9], 5))  \n",
    "print(number_not_n_times([1, 2, 2, 3, 3, 4, 4, 5], 2))  \n",
    "print(number_not_n_times([1, 2, 2, 3, 3, 4, 4, 5, 5], 2))\n",
    "\n"
   ]
  }
 ],
 "metadata": {
  "kernelspec": {
   "display_name": "Python 3 (ipykernel)",
   "language": "python",
   "name": "python3"
  },
  "language_info": {
   "codemirror_mode": {
    "name": "ipython",
    "version": 3
   },
   "file_extension": ".py",
   "mimetype": "text/x-python",
   "name": "python",
   "nbconvert_exporter": "python",
   "pygments_lexer": "ipython3",
   "version": "3.9.12"
  }
 },
 "nbformat": 4,
 "nbformat_minor": 5
}
