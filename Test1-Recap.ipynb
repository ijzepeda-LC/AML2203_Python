{
 "cells": [
  {
   "cell_type": "code",
   "execution_count": null,
   "id": "f271255a",
   "metadata": {},
   "outputs": [],
   "source": []
  },
  {
   "cell_type": "markdown",
   "id": "7889b9fc",
   "metadata": {},
   "source": [
    "#  \n",
    "#  \n",
    "# SQLITE"
   ]
  },
  {
   "cell_type": "code",
   "execution_count": 1,
   "id": "b312f8d2",
   "metadata": {},
   "outputs": [],
   "source": [
    "import sqlite3\n"
   ]
  },
  {
   "cell_type": "markdown",
   "id": "257e5be8",
   "metadata": {},
   "source": [
    "Se crea una conexion a la base de datos"
   ]
  },
  {
   "cell_type": "code",
   "execution_count": 2,
   "id": "8f34017d",
   "metadata": {},
   "outputs": [],
   "source": [
    "conn= sqlite3.connect('test.db')"
   ]
  },
  {
   "cell_type": "markdown",
   "id": "b400e5ea",
   "metadata": {},
   "source": [
    "Se hace un cursor que navergara en la connexion"
   ]
  },
  {
   "cell_type": "code",
   "execution_count": 3,
   "id": "c874396f",
   "metadata": {},
   "outputs": [],
   "source": [
    "cursor = conn.cursor()"
   ]
  },
  {
   "cell_type": "markdown",
   "id": "6836ca4f",
   "metadata": {},
   "source": [
    "en cursor se execute una instruccion de sql,\n",
    "y se hace commit, para mandarla a la conexion"
   ]
  },
  {
   "cell_type": "code",
   "execution_count": 4,
   "id": "8e111a21",
   "metadata": {},
   "outputs": [],
   "source": [
    "sql = \"\"\"CREATE TABLE EMPLOYEE(\n",
    "        FIRST_NAME CHAR(20) NOT NULL,\n",
    "        LAST_NAME CHAR(20),\n",
    "        AGE INT NOT NULL,\n",
    "        SEX CHAR(1),\n",
    "        INCOME FLOAT\n",
    "        )\"\"\"\n",
    "cursor.execute(sql)\n",
    "conn.commit()"
   ]
  },
  {
   "cell_type": "code",
   "execution_count": null,
   "id": "444173a1",
   "metadata": {},
   "outputs": [],
   "source": [
    "# INSERT\n",
    "sql_insert = \"\"\"INSERT INTO TABLE_NAME (col1, col2, col3)\n",
    "                VALUES(val1,val2,val3)\"\"\"\n",
    "cursor.excecute(sql_insert)\n",
    "# an cursor, excecute is required always after the insert"
   ]
  },
  {
   "cell_type": "code",
   "execution_count": null,
   "id": "b689c2d3",
   "metadata": {},
   "outputs": [],
   "source": [
    "# READ\n",
    "sql_read = \"\"\"SELECT col1, col2, col3 FROM table_name\"\"\"\n",
    "\n",
    "#Again, all sql instructions are sent to the cursor, \n",
    "# and there are 3 methods, fetch_one, fetch_all, fetch_many.\n",
    "# It should be used for the read sql from the cursor\n",
    "cursor.execute(sql_read)\n",
    "result = cursor.fetchall()"
   ]
  },
  {
   "cell_type": "code",
   "execution_count": null,
   "id": "b064ee3d",
   "metadata": {},
   "outputs": [],
   "source": [
    "#UPDATE\n",
    "sql_update = \"\"\"UPDATE TABLE_NAME SET AGE=AGE+1 WHERE SEX = 'M'\"\"\"\n",
    "cursor.execute(sql_update)\n"
   ]
  },
  {
   "cell_type": "code",
   "execution_count": null,
   "id": "6ccb4130",
   "metadata": {},
   "outputs": [],
   "source": [
    "# DELETE\n",
    "sql_delete= \"\"\"DELETE FROM TABLE_NAME WHERE AGE>25\"\"\"\n",
    "cursor.execute(sql_delete)"
   ]
  },
  {
   "cell_type": "markdown",
   "id": "f0d104fa",
   "metadata": {},
   "source": [
    "#  \n",
    "#  \n",
    "# MONGODB"
   ]
  },
  {
   "cell_type": "code",
   "execution_count": 5,
   "id": "890da084",
   "metadata": {},
   "outputs": [],
   "source": [
    "import pymongo\n",
    "from pymongo import MongoClient\n"
   ]
  },
  {
   "cell_type": "markdown",
   "id": "bc566d52",
   "metadata": {},
   "source": [
    "Create a mongoclient client, and the database is setted directly to the client. with the format of client.db_name"
   ]
  },
  {
   "cell_type": "code",
   "execution_count": 6,
   "id": "1566b075",
   "metadata": {},
   "outputs": [],
   "source": [
    "client = MongoClient()\n",
    "db = client.test"
   ]
  },
  {
   "cell_type": "markdown",
   "id": "bf7b083f",
   "metadata": {},
   "source": [
    "To create a table within the database, is required to use the previously created database, and assign the table to it. just as before.  \n",
    "and to consume it later, it is possible to store in an object"
   ]
  },
  {
   "cell_type": "code",
   "execution_count": 7,
   "id": "651260bd",
   "metadata": {},
   "outputs": [],
   "source": [
    "employee = db.employee"
   ]
  },
  {
   "cell_type": "code",
   "execution_count": 8,
   "id": "68f99708",
   "metadata": {},
   "outputs": [],
   "source": [
    "# INSERT\n",
    "employee_details = {'Name': 'Raj', 'Address':'123 fake street', 'Age':'42'}\n",
    "\n",
    "result = employee.insert_one(employee_details)"
   ]
  },
  {
   "cell_type": "markdown",
   "id": "bf4430fa",
   "metadata": {},
   "source": [
    "The result contains an InsertOneResult, wichi is an id of the document, if not specified, then an auto id is assigned\n"
   ]
  },
  {
   "cell_type": "code",
   "execution_count": 9,
   "id": "0c9a0fd5",
   "metadata": {},
   "outputs": [
    {
     "name": "stdout",
     "output_type": "stream",
     "text": [
      "<pymongo.results.InsertOneResult object at 0x7f9f3b267400>\n"
     ]
    }
   ],
   "source": [
    "print(result)"
   ]
  },
  {
   "cell_type": "code",
   "execution_count": 12,
   "id": "0ef23c05",
   "metadata": {},
   "outputs": [],
   "source": [
    "list_of_dicts = [\n",
    "{\"_id\":1,\"name\":\"John\",\"address\":\"Highway 37\"},\n",
    "{\"_id\":2,\"name\":\"Peter\",\"address\":\"Lowstreet 27\"},\n",
    "{\"_id\":3,\"name\":\"Amy\",\"address\":\"Close st 652\"},\n",
    "{\"_id\":4,\"name\":\"Hannah\",\"address\":\"Mountain 21\"},\n",
    "{\"_id\":5,\"name\":\"Michael\",\"address\":\"Valley 345\"},\n",
    "{\"_id\":6,\"name\": \"Vicky\", \"address\": \"Yellow Garden 124\"},\n",
    "{\"_id\":7,\"name\": \"Nicky\", \"address\": \"Yellow Garden 23\"},\n",
    "{\"_id\":8,\"name\": \"Nancy\", \"address\": \"Younge Ave. 123\"},\n",
    "{\"_id\":9,\"name\": \"Viola\", \"address\": \"Sideway Ave\"}\n",
    "]\n",
    "\n",
    "x = employee.insert_many(list_of_dicts)"
   ]
  },
  {
   "cell_type": "code",
   "execution_count": 13,
   "id": "a6180ca4",
   "metadata": {},
   "outputs": [
    {
     "name": "stdout",
     "output_type": "stream",
     "text": [
      "['admin', 'config', 'local', 'test']\n"
     ]
    }
   ],
   "source": [
    "print(client.list_database_names())"
   ]
  },
  {
   "cell_type": "code",
   "execution_count": 14,
   "id": "a4438332",
   "metadata": {},
   "outputs": [
    {
     "name": "stdout",
     "output_type": "stream",
     "text": [
      "the test exists\n"
     ]
    }
   ],
   "source": [
    "\n",
    "dblist = client.list_database_names()\n",
    "if \"test\" in dblist:\n",
    "    print('the {} exists'.format('test'))"
   ]
  },
  {
   "cell_type": "markdown",
   "id": "85ba8411",
   "metadata": {},
   "source": [
    "A database is not created until it receives content, fill it before check if it exists"
   ]
  },
  {
   "cell_type": "code",
   "execution_count": 15,
   "id": "fdeaf9df",
   "metadata": {},
   "outputs": [
    {
     "name": "stdout",
     "output_type": "stream",
     "text": [
      "['employee']\n",
      "employee exists\n"
     ]
    }
   ],
   "source": [
    "# Collection exitst\n",
    "print(db.list_collection_names())\n",
    "colls = db.list_collection_names()\n",
    "for n in colls:\n",
    "    print(n,\"exists\")"
   ]
  },
  {
   "cell_type": "markdown",
   "id": "6b7b9a47",
   "metadata": {},
   "source": [
    "Same as databse, a collection is not created until it has rceived some information"
   ]
  },
  {
   "cell_type": "code",
   "execution_count": 16,
   "id": "32539189",
   "metadata": {},
   "outputs": [
    {
     "name": "stdout",
     "output_type": "stream",
     "text": [
      "{'_id': ObjectId('64beeb7514e35ddb8aa764f0'), 'Name': 'Raj', 'Address': '123 fake street', 'Age': '42'}\n"
     ]
    }
   ],
   "source": [
    "# read one collection\n",
    "x = employee.find_one()\n",
    "print(x)"
   ]
  },
  {
   "cell_type": "code",
   "execution_count": 18,
   "id": "a74580e1",
   "metadata": {},
   "outputs": [
    {
     "name": "stdout",
     "output_type": "stream",
     "text": [
      "{'_id': ObjectId('64beeb7514e35ddb8aa764f0'), 'Name': 'Raj', 'Address': '123 fake street', 'Age': '42'}\n",
      "{'_id': 1, 'name': 'John', 'address': 'Highway 37'}\n",
      "{'_id': 2, 'name': 'Peter', 'address': 'Lowstreet 27'}\n",
      "{'_id': 3, 'name': 'Amy', 'address': 'Close st 652'}\n",
      "{'_id': 4, 'name': 'Hannah', 'address': 'Mountain 21'}\n",
      "{'_id': 5, 'name': 'Michael', 'address': 'Valley 345'}\n",
      "{'_id': 6, 'name': 'Vicky', 'address': 'Yellow Garden 124'}\n",
      "{'_id': 7, 'name': 'Nicky', 'address': 'Yellow Garden 23'}\n",
      "{'_id': 8, 'name': 'Nancy', 'address': 'Younge Ave. 123'}\n",
      "{'_id': 9, 'name': 'Viola', 'address': 'Sideway Ave'}\n"
     ]
    }
   ],
   "source": [
    "# read all collections\n",
    "for x in employee.find():\n",
    "    print(x)"
   ]
  },
  {
   "cell_type": "code",
   "execution_count": 19,
   "id": "699c96f5",
   "metadata": {},
   "outputs": [
    {
     "name": "stdout",
     "output_type": "stream",
     "text": [
      "{'_id': ObjectId('64beeb7514e35ddb8aa764f0'), 'Name': 'Raj', 'Address': '123 fake street', 'Age': '42'}\n",
      "{'_id': 1, 'name': 'John', 'address': 'Highway 37'}\n",
      "{'_id': 2, 'name': 'Peter', 'address': 'Lowstreet 27'}\n",
      "{'_id': 3, 'name': 'Amy', 'address': 'Close st 652'}\n",
      "{'_id': 4, 'name': 'Hannah', 'address': 'Mountain 21'}\n"
     ]
    }
   ],
   "source": [
    "# read an amount of documents\n",
    "for x in employee.find().limit(5):\n",
    "    print(x)"
   ]
  },
  {
   "cell_type": "code",
   "execution_count": null,
   "id": "f2bc01af",
   "metadata": {},
   "outputs": [],
   "source": []
  }
 ],
 "metadata": {
  "kernelspec": {
   "display_name": "Python 3 (ipykernel)",
   "language": "python",
   "name": "python3"
  },
  "language_info": {
   "codemirror_mode": {
    "name": "ipython",
    "version": 3
   },
   "file_extension": ".py",
   "mimetype": "text/x-python",
   "name": "python",
   "nbconvert_exporter": "python",
   "pygments_lexer": "ipython3",
   "version": "3.9.12"
  }
 },
 "nbformat": 4,
 "nbformat_minor": 5
}
