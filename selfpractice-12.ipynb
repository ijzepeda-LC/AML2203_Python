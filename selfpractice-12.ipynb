{
 "cells": [
  {
   "cell_type": "markdown",
   "id": "14d8066c",
   "metadata": {},
   "source": [
    "# Self Practice #12\n",
    "## Author: Ivan Zepeda\n",
    "## C0883949"
   ]
  },
  {
   "cell_type": "raw",
   "id": "7a2d3fe4",
   "metadata": {},
   "source": [
    "Q1 You are given a large integer represented as an integer array digits, where each digits[i] is the ith digit of the integer. The digits are ordered from most significant to least significant in left-to-right order. The large integer does not contain any leading 0's.\n",
    "\n",
    "Increment the large integer by one and return the resulting array of digits.\n",
    "\n",
    " Example 1:\n",
    "\n",
    "Input: digits = [1,2,3]\n",
    "\n",
    "Output: [1,2,4]\n",
    "\n",
    "Explanation: The array represents the integer 123.\n",
    "\n",
    "Incrementing by one gives 123 + 1 = 124.\n",
    "\n",
    "Thus, the result should be [1,2,4]."
   ]
  },
  {
   "cell_type": "code",
   "execution_count": 7,
   "id": "20351d01",
   "metadata": {},
   "outputs": [
    {
     "name": "stdout",
     "output_type": "stream",
     "text": [
      "['1', '2', '4']\n"
     ]
    },
    {
     "data": {
      "text/plain": [
       "['1', '2', '4']"
      ]
     },
     "execution_count": 7,
     "metadata": {},
     "output_type": "execute_result"
    }
   ],
   "source": [
    "def increment_integer(nums):\n",
    "    _int=\"\"\n",
    "    for c in nums:\n",
    "        _int+=str(c)\n",
    "    _int=int(_int)+1\n",
    "    result=[]\n",
    "    for n in str(_int):\n",
    "        result.append(n)\n",
    "    return result\n",
    "    \n",
    "    \n",
    "    \n",
    "increment_integer([1,2,3])"
   ]
  },
  {
   "cell_type": "raw",
   "id": "4f3ba3bc",
   "metadata": {},
   "source": [
    "Q2 Given two strings ransomNote and magazine, return true if ransomNote can be constructed by using the letters from magazine and false otherwise.\n",
    "\n",
    "Each letter in magazine can only be used once in ransomNote.\n",
    "\n",
    " Example 1:\n",
    "\n",
    "Input: ransomNote = \"a\", magazine = \"b\"\n",
    "\n",
    "Output: false\n",
    "\n",
    "Example 2:\n",
    "\n",
    "Input: ransomNote = \"aa\", magazine = \"ab\"\n",
    "\n",
    "Output: false\n",
    "\n",
    "    "
   ]
  },
  {
   "cell_type": "code",
   "execution_count": 9,
   "id": "a9444313",
   "metadata": {},
   "outputs": [
    {
     "name": "stdout",
     "output_type": "stream",
     "text": [
      "False\n",
      "False\n",
      "False\n",
      "True\n"
     ]
    }
   ],
   "source": [
    "def canbe_constructed(ransomNote, magazine):\n",
    "#     _dict={}\n",
    "    for c in ransomNote:\n",
    "        #if c in magazine:\n",
    "            # if(c in _dict.keys()):\n",
    "            #     _dict[c]=_dict[c]+1\n",
    "            # else:\n",
    "            #     _dict[c]=1\n",
    "        if(ransomNote.count(c)> magazine.count(c)):\n",
    "            return False\n",
    "    return True\n",
    "            \n",
    "            \n",
    "        \n",
    "    \n",
    "    \n",
    "print(canbe_constructed(ransomNote = \"a\", magazine = \"b\"))\n",
    "print(canbe_constructed(ransomNote = \"aa\", magazine = \"ab\"))\n",
    "print(canbe_constructed(ransomNote = \"aa\", magazine = \"a\"))\n",
    "print(canbe_constructed(ransomNote = \"a\", magazine = \"aa\"))\n"
   ]
  },
  {
   "cell_type": "raw",
   "id": "3051bdf3",
   "metadata": {},
   "source": [
    "Q3 A permutation of an array of integers is an arrangement of its members into a sequence or linear order.\n",
    "\n",
    "For example, for arr = [1,2,3], the following are considered permutations of arr: [1,2,3], [1,3,2], [3,1,2], [2,3,1].\n",
    "The next permutation of an array of integers is the next lexicographically greater permutation of its integer. More formally, if all the permutations of the array are sorted in one container according to their lexicographical order, then the next permutation of that array is the permutation that follows it in the sorted container. If such arrangement is not possible, the array must be rearranged as the lowest possible order (i.e., sorted in ascending order).\n",
    "\n",
    "For example, the next permutation of arr = [1,2,3] is [1,3,2].\n",
    "Similarly, the next permutation of arr = [2,3,1] is [3,1,2].\n",
    "While the next permutation of arr = [3,2,1] is [1,2,3] because [3,2,1] does not have a lexicographical larger rearrangement.\n",
    "Given an array of integers nums, find the next permutation of nums.\n",
    "\n",
    "The replacement must be in place and use only constant extra memory.\n",
    "\n",
    " Example 1:\n",
    "\n",
    "Input: nums = [1,2,3]\n",
    "Output: [1,3,2]"
   ]
  },
  {
   "cell_type": "code",
   "execution_count": 1,
   "id": "d54dc1e0",
   "metadata": {},
   "outputs": [
    {
     "name": "stdout",
     "output_type": "stream",
     "text": [
      "[1, 3, 2]\n"
     ]
    }
   ],
   "source": [
    "def find_next_permutation(nums):\n",
    "    i = len(nums) - 2\n",
    "    while i >= 0 and nums[i] >= nums[i + 1]:\n",
    "        i -= 1\n",
    "    if i == -1:\n",
    "        nums.sort()\n",
    "        return nums\n",
    "\n",
    "    pivot = i\n",
    "    j = len(nums) - 1\n",
    "    while nums[j] <= nums[pivot]:\n",
    "        j -= 1\n",
    "\n",
    "    nums[pivot], nums[j] = nums[j], nums[pivot]\n",
    "    nums[pivot + 1:] = reversed(nums[pivot + 1:])\n",
    "    return nums\n",
    "\n",
    "nums = [1, 2, 3]\n",
    "result = find_next_permutation(nums)\n",
    "print(result) "
   ]
  },
  {
   "cell_type": "code",
   "execution_count": null,
   "id": "0addee92",
   "metadata": {},
   "outputs": [],
   "source": []
  }
 ],
 "metadata": {
  "kernelspec": {
   "display_name": "Python 3 (ipykernel)",
   "language": "python",
   "name": "python3"
  },
  "language_info": {
   "codemirror_mode": {
    "name": "ipython",
    "version": 3
   },
   "file_extension": ".py",
   "mimetype": "text/x-python",
   "name": "python",
   "nbconvert_exporter": "python",
   "pygments_lexer": "ipython3",
   "version": "3.9.12"
  }
 },
 "nbformat": 4,
 "nbformat_minor": 5
}
