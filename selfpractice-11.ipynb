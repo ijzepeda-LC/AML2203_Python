{
 "cells": [
  {
   "cell_type": "markdown",
   "id": "14d8066c",
   "metadata": {},
   "source": [
    "# Self Practice #\n",
    "## Author: Ivan Zepeda\n",
    "## C0883949"
   ]
  },
  {
   "cell_type": "raw",
   "id": "bfe269de",
   "metadata": {},
   "source": [
    "Q1 - You are given two integer arrays nums1 and nums2, sorted in non-decreasing order, and two integers m and n, representing the number of elements in nums1 and nums2 respectively.\n",
    "\n",
    "Merge nums1 and nums2 into a single array sorted in non-decreasing order.\n",
    "\n",
    "The final sorted array should not be returned by the function, but instead be stored inside the array nums1. To accommodate this, nums1 has a length of m + n, where the first m elements denote the elements that should be merged, and the last n elements are set to 0 and should be ignored. nums2 has a length of n.\n",
    "\n",
    "Example 1:\n",
    "\n",
    "Input: nums1 = [1,2,3,0,0,0], m = 3, nums2 = [2,5,6], n = 3\n",
    "\n",
    "Output: [1,2,2,3,5,6]\n",
    "\n",
    "Explanation: The arrays we are merging are [1,2,3] and [2,5,6].\n",
    "\n",
    "The result of the merge is [1,2,2,3,5,6] with the underlined elements coming from nums1."
   ]
  },
  {
   "cell_type": "code",
   "execution_count": 20,
   "id": "40fa4e09",
   "metadata": {},
   "outputs": [
    {
     "name": "stdout",
     "output_type": "stream",
     "text": [
      "Approach1:  [1, 2, 2, 3, 5, 6]\n",
      "Approach2: [1, 2, 2, 3, 5, 6]\n"
     ]
    }
   ],
   "source": [
    "def sorting(nums1,m, nums2, n):\n",
    "    \"\"\"This approach uses two for loops, Although a nicer approach is with a while loop\"\"\"\n",
    "    result=[]\n",
    "    nums1=nums1[:m]\n",
    "    nums2=nums2[:n]\n",
    "    for x in nums1:\n",
    "        break_y=False\n",
    "        for y in nums2:\n",
    "            if(not break_y):\n",
    "                if(x<y and not break_y):\n",
    "                    result.append(x)\n",
    "                    nums1.remove(x)\n",
    "                    break\n",
    "                else:\n",
    "                    result.append(y)\n",
    "                    nums2.remove(y)\n",
    "                    break_y=True\n",
    "    result.extend(nums1)\n",
    "    result.extend(nums2)\n",
    "    return result \n",
    "    \n",
    "print(\"Approach1: \",sorting([1,2,3,0,0,0], m = 3, nums2 = [2,5,6], n = 3))\n",
    "    \n",
    "    \n",
    "def sorting2(nums1, m, nums2, n):\n",
    "    result = []\n",
    "    i, j = 0, 0 #using indices/index\n",
    "\n",
    "    while i < m and j < n:\n",
    "        if nums1[i] <= nums2[j]:\n",
    "            result.append(nums1[i])\n",
    "            i += 1\n",
    "        else:\n",
    "            result.append(nums2[j])\n",
    "            j += 1\n",
    "\n",
    "    result.extend(nums1[i:m])\n",
    "    result.extend(nums2[j:n])\n",
    "\n",
    "    return result\n",
    "\n",
    "\n",
    "nums1 = [1, 2, 3, 0, 0, 0]\n",
    "m = 3\n",
    "nums2 = [2, 5, 6]\n",
    "n = 3\n",
    "result = sorting2(nums1, m, nums2, n)\n",
    "print(\"Approach2: \",result)  \n"
   ]
  },
  {
   "cell_type": "raw",
   "id": "119c5544",
   "metadata": {},
   "source": [
    "Q2- Given an input string s and a pattern p, implement regular expression matching with support for '.' and '*' where:\n",
    "\n",
    "'.' Matches any single character.\n",
    "'*' Matches zero or more of the preceding element.\n",
    "The matching should cover the entire input string (not partial).\n",
    "\n",
    "Example 1: Input: s = \"aa\", p = \"a\"\n",
    "\n",
    "Output: false\n",
    "\n",
    "Explanation: \"a\" does not match the entire string \"aa\".\n",
    "\n",
    "Example 2: Input: s = \"aa\", p = \"a*\"\n",
    "\n",
    "Output: true\n",
    "\n",
    "Explanation: '*' means zero or more of the preceding element, 'a'. Therefore, by repeating 'a' once, it becomes \"aa\".\n",
    "\n",
    "    "
   ]
  },
  {
   "cell_type": "code",
   "execution_count": 33,
   "id": "77faf724",
   "metadata": {},
   "outputs": [
    {
     "name": "stdout",
     "output_type": "stream",
     "text": [
      "False\n",
      "True\n",
      "True\n",
      "True\n",
      "\n",
      "False\n",
      "True\n",
      "True\n",
      "False\n"
     ]
    }
   ],
   "source": [
    "def is_match(s, p):\n",
    "    dp= [[False] * (len(p) + 1) for _ in range(len(s) + 1)]\n",
    "    dp[0][0]= True\n",
    "    for j in range(1, len(p) + 1):\n",
    "        if p[j - 1] == '*':\n",
    "            dp[0][j] = dp[0][j - 2]\n",
    "\n",
    "    for i in range(1, len(s) + 1):\n",
    "        for j in range(1, len(p) + 1):\n",
    "            if p[j - 1] == s[i - 1] or p[j - 1] == '.':\n",
    "                dp[i][j]= dp[i - 1][j - 1]\n",
    "            elif p[j - 1] == '*':\n",
    "                dp[i][j]= dp[i][j - 2] or (dp[i - 1][j] and (s[i - 1] == p[j - 2] or p[j - 2] == '.'))\n",
    "\n",
    "    return dp[len(s)][len(p)]\n",
    "\n",
    "print(is_match(\"aa\", \"a\"))  # False\n",
    "print(is_match(\"aa\", \"a*\"))  #True\n",
    "print(is_match(\"aa\", \"a.\"))  #True\n",
    "print(is_match(\"aa\", \"aa\"))  #True\n",
    "print()\n",
    "print(is_match(\"aa\", \"**\"))  #????\n",
    "print(is_match(\"a\", \"a.*\"))  #????\n",
    "print(is_match(\"a\", \"a*\"))  #????\n",
    "print(is_match(\"a\", \"a.\"))  #????\n"
   ]
  },
  {
   "cell_type": "raw",
   "id": "0c1af03e",
   "metadata": {},
   "source": [
    "Q3- A permutation of an array of integers is an arrangement of its members into a sequence or linear order.\n",
    "\n",
    "For example, for arr = [1,2,3], the following are considered permutations of arr: [1,2,3], [1,3,2], [3,1,2], [2,3,1].\n",
    "The next permutation of an array of integers is the next lexicographically greater permutation of its integer. More formally, if all the permutations of the array are sorted in one container according to their lexicographical order, then the next permutation of that array is the permutation that follows it in the sorted container. If such arrangement is not possible, the array must be rearranged as the lowest possible order (i.e., sorted in ascending order).\n",
    "\n",
    "For example, the next permutation of arr = [1,2,3] is [1,3,2].\n",
    "Similarly, the next permutation of arr = [2,3,1] is [3,1,2].\n",
    "While the next permutation of arr = [3,2,1] is [1,2,3] because [3,2,1] does not have a lexicographical larger rearrangement.\n",
    "Given an array of integers nums, find the next permutation of nums.\n",
    "\n",
    "The replacement must be in place and use only constant extra memory.\n",
    "\n",
    " Example 1:\n",
    "\n",
    "Input: nums = [1,2,3]\n",
    "Output: [1,3,2]\n",
    " "
   ]
  },
  {
   "cell_type": "code",
   "execution_count": 22,
   "id": "3d185682",
   "metadata": {},
   "outputs": [
    {
     "name": "stdout",
     "output_type": "stream",
     "text": [
      "[1, 3, 2]\n"
     ]
    }
   ],
   "source": [
    "def find_next_permutation(nums):\n",
    "    i = len(nums) - 2\n",
    "    while i >= 0 and nums[i] >= nums[i + 1]:\n",
    "        i -= 1\n",
    "    if i == -1:\n",
    "        nums.sort()\n",
    "        return nums\n",
    "\n",
    "    pivot = i\n",
    "    j = len(nums) - 1\n",
    "    while nums[j] <= nums[pivot]:\n",
    "        j -= 1\n",
    "\n",
    "    nums[pivot], nums[j] = nums[j], nums[pivot]\n",
    "    nums[pivot + 1:] = reversed(nums[pivot + 1:])\n",
    "    return nums\n",
    "\n",
    "nums = [1, 2, 3]\n",
    "result = find_next_permutation(nums)\n",
    "print(result) "
   ]
  },
  {
   "cell_type": "code",
   "execution_count": null,
   "id": "6e10e3c6",
   "metadata": {},
   "outputs": [],
   "source": []
  }
 ],
 "metadata": {
  "kernelspec": {
   "display_name": "Python 3 (ipykernel)",
   "language": "python",
   "name": "python3"
  },
  "language_info": {
   "codemirror_mode": {
    "name": "ipython",
    "version": 3
   },
   "file_extension": ".py",
   "mimetype": "text/x-python",
   "name": "python",
   "nbconvert_exporter": "python",
   "pygments_lexer": "ipython3",
   "version": "3.9.12"
  }
 },
 "nbformat": 4,
 "nbformat_minor": 5
}
