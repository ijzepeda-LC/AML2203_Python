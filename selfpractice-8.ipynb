{
 "cells": [
  {
   "cell_type": "markdown",
   "id": "14d8066c",
   "metadata": {},
   "source": [
    "# Self Practice #\n",
    "## Author: Ivan Zepeda\n",
    "## C0883949"
   ]
  },
  {
   "cell_type": "raw",
   "id": "22a3b222",
   "metadata": {},
   "source": [
    "Q1. Write a function to find the longest common prefix string amongst an array of strings.\n",
    "\n",
    "If there is no common prefix, return an empty string \"\".\n",
    "\n",
    " \n",
    "\n",
    "Example 1:\n",
    "\n",
    "Input: strs = [\"flower\",\"flow\",\"flight\"]\n",
    "\n",
    "Output: \"fl\""
   ]
  },
  {
   "cell_type": "code",
   "execution_count": 4,
   "id": "df2ac584",
   "metadata": {},
   "outputs": [
    {
     "name": "stdout",
     "output_type": "stream",
     "text": [
      "fl\n",
      "flow\n"
     ]
    }
   ],
   "source": [
    "def long_prefix(texts):\n",
    "    maxlen = len(max(texts))\n",
    "    longest_word=max(texts)\n",
    "    longest_prefix=\"\"\n",
    "    for i in range(maxlen-1):\n",
    "        for j in range(i+1,maxlen-1):\n",
    "            #if(longest_word[i:j] in )\n",
    "            if(all(longest_word[i:j] in x for x in texts) and len(longest_word[i:j])>len(longest_prefix)): #is like lilst comprehnsion\n",
    "                longest_prefix=longest_word[i:j] \n",
    "    return longest_prefix\n",
    "                \n",
    "\n",
    "    \n",
    "    \n",
    "print(long_prefix([\"flower\",\"flow\",\"flight\"]))\n",
    "print(long_prefix([\"flower\",\"flow\",\"flownght\"]))"
   ]
  },
  {
   "cell_type": "raw",
   "id": "a99ee2c6",
   "metadata": {},
   "source": [
    "Q2. Given an array nums of size n, return the majority element.\n",
    "\n",
    "The majority element is the element that appears more than ⌊n / 2⌋ times. You may assume that the majority element always exists in the array.\n",
    "\n",
    " \n",
    "\n",
    "Example 1:\n",
    "\n",
    "Input: nums = [3,2,3]\n",
    "\n",
    "Output: 3\n",
    "\n",
    " "
   ]
  },
  {
   "cell_type": "code",
   "execution_count": 5,
   "id": "bcf74468",
   "metadata": {},
   "outputs": [
    {
     "data": {
      "text/plain": [
       "3"
      ]
     },
     "execution_count": 5,
     "metadata": {},
     "output_type": "execute_result"
    }
   ],
   "source": [
    "def get_majority_element(nums):\n",
    "    major=0\n",
    "    for n in nums:\n",
    "        if(nums.count(n)>=major):\n",
    "            major=n\n",
    "    return n\n",
    "    \n",
    "    \n",
    "get_majority_element([3,2,3])"
   ]
  },
  {
   "cell_type": "code",
   "execution_count": null,
   "id": "8a766a32",
   "metadata": {},
   "outputs": [],
   "source": []
  }
 ],
 "metadata": {
  "kernelspec": {
   "display_name": "Python 3 (ipykernel)",
   "language": "python",
   "name": "python3"
  },
  "language_info": {
   "codemirror_mode": {
    "name": "ipython",
    "version": 3
   },
   "file_extension": ".py",
   "mimetype": "text/x-python",
   "name": "python",
   "nbconvert_exporter": "python",
   "pygments_lexer": "ipython3",
   "version": "3.9.12"
  }
 },
 "nbformat": 4,
 "nbformat_minor": 5
}
